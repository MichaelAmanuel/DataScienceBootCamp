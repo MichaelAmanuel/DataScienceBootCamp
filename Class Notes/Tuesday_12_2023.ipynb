{
  "nbformat": 4,
  "nbformat_minor": 0,
  "metadata": {
    "colab": {
      "provenance": []
    },
    "kernelspec": {
      "name": "python3",
      "display_name": "Python 3"
    },
    "language_info": {
      "name": "python"
    }
  },
  "cells": [
    {
      "cell_type": "code",
      "execution_count": 32,
      "metadata": {
        "colab": {
          "base_uri": "https://localhost:8080/"
        },
        "id": "Pp-WlpWZ3x1f",
        "outputId": "44f63f1a-8c40-4f65-88e3-93c22403170b"
      },
      "outputs": [
        {
          "output_type": "stream",
          "name": "stdout",
          "text": [
            "12 is greater than 15\n"
          ]
        }
      ],
      "source": [
        "x, y = 12, 15\n",
        "\n",
        "if x < y:\n",
        "  print(x, 'is greater than', y)\n",
        "elif x > y:\n",
        "  print('yes')"
      ]
    },
    {
      "cell_type": "code",
      "source": [
        "  result = lambda x: f'{x} pass greate disttinction' if x >= 78 else (\\\n",
        "                   f'{x} pass with first class' if x >= 60 else (\\\n",
        "                   f'{x} pass with second class' if x >=40 else(\\\n",
        "                   f'{x} pass with third class' if x >= 30 else(\\\n",
        "                    'Better luck next time'))))\n",
        "\n",
        "\n",
        "mark = int(input('Put your mark pls. '))\n",
        "print(result(mark))"
      ],
      "metadata": {
        "colab": {
          "base_uri": "https://localhost:8080/"
        },
        "id": "koHuu67579Xp",
        "outputId": "c0f7be45-ec45-4a29-b879-c576457a325c"
      },
      "execution_count": 6,
      "outputs": [
        {
          "output_type": "stream",
          "name": "stdout",
          "text": [
            "Put your mark pls. 12\n",
            "Better luck next time\n"
          ]
        }
      ]
    },
    {
      "cell_type": "code",
      "source": [
        "def func_sum(a, b):\n",
        "  return a + b\n"
      ],
      "metadata": {
        "id": "m9HcnbNlABKf"
      },
      "execution_count": null,
      "outputs": []
    },
    {
      "cell_type": "code",
      "source": [
        "def func_sum(a, b, c, d):\n",
        "  return a + b"
      ],
      "metadata": {
        "id": "BvrZBP62ASqo"
      },
      "execution_count": null,
      "outputs": []
    },
    {
      "cell_type": "code",
      "source": [
        "def func_sum(*args):\n",
        "    result = 0\n",
        "    for num in args:\n",
        "        result += num\n",
        "    return result\n",
        "\n",
        "result = func_sum(1,2,3,4,5,6,7,8,9,10)\n",
        "print(result)"
      ],
      "metadata": {
        "colab": {
          "base_uri": "https://localhost:8080/"
        },
        "id": "f2D_dpIXAVc4",
        "outputId": "848d9436-a8e7-4eaf-ab7c-3cb6c42468e9"
      },
      "execution_count": 14,
      "outputs": [
        {
          "output_type": "stream",
          "name": "stdout",
          "text": [
            "55\n"
          ]
        }
      ]
    },
    {
      "cell_type": "code",
      "source": [
        "def func_sum(a , *args):\n",
        "    result = a\n",
        "    for num in args:\n",
        "        result += num\n",
        "    return result\n",
        "\n",
        "result = func_sum(1,2,3,4,5,6)\n",
        "print(result)"
      ],
      "metadata": {
        "colab": {
          "base_uri": "https://localhost:8080/"
        },
        "id": "kvnmsZODA4k-",
        "outputId": "ee9f1409-3ea3-4191-eb77-b7998b7a6cae"
      },
      "execution_count": 17,
      "outputs": [
        {
          "output_type": "stream",
          "name": "stdout",
          "text": [
            "21\n"
          ]
        }
      ]
    },
    {
      "cell_type": "code",
      "source": [
        "def full_name(*args):\n",
        "  str_name = ''\n",
        "  for st in args:\n",
        "    str_name = str_name + ' ' +st\n",
        "  return str_name\n",
        "\n",
        "result = full_name('Mike', 'Aman', 'Fish')\n",
        "print(result)"
      ],
      "metadata": {
        "colab": {
          "base_uri": "https://localhost:8080/"
        },
        "id": "w0g7DRK8CgTm",
        "outputId": "366ed97f-98c7-4ea6-b0b4-3c9578927238"
      },
      "execution_count": 22,
      "outputs": [
        {
          "output_type": "stream",
          "name": "stdout",
          "text": [
            " Mike Aman Fish\n"
          ]
        }
      ]
    },
    {
      "cell_type": "code",
      "source": [
        "def func_sum(a , *args):\n",
        "    result = a\n",
        "    for num in args:\n",
        "        result += num\n",
        "    return result\n",
        "\n",
        "result = func_sum(10, 20,203, 3023)\n",
        "print(result)"
      ],
      "metadata": {
        "colab": {
          "base_uri": "https://localhost:8080/"
        },
        "id": "jE_TfvIoC--s",
        "outputId": "e700a580-8850-4987-e758-55d8f5c134e4"
      },
      "execution_count": 27,
      "outputs": [
        {
          "output_type": "stream",
          "name": "stdout",
          "text": [
            "3256\n"
          ]
        }
      ]
    },
    {
      "cell_type": "code",
      "source": [
        "def func_sum(*args):\n",
        "    result = 0\n",
        "    for num in args:\n",
        "        result += num\n",
        "    return result\n",
        "\n",
        "result = func_sum(1,2,3,4,5,6,7,8,9,10)\n",
        "print(result)"
      ],
      "metadata": {
        "colab": {
          "base_uri": "https://localhost:8080/"
        },
        "id": "-ivvVmvGF8Jn",
        "outputId": "916933eb-92ef-4f6b-89e1-18b39a782665"
      },
      "execution_count": 29,
      "outputs": [
        {
          "output_type": "stream",
          "name": "stdout",
          "text": [
            "55\n"
          ]
        }
      ]
    },
    {
      "cell_type": "code",
      "source": [
        "def print_kwargs(**kwargs):\n",
        "    for key, value in kwargs.items():\n",
        "        print(f\"{key}: {value}\")\n",
        "\n",
        "\n",
        "print_kwargs(name=\"Mike\", age=30, city=\"Oakland\")"
      ],
      "metadata": {
        "colab": {
          "base_uri": "https://localhost:8080/"
        },
        "id": "IToeq5hmKfL2",
        "outputId": "deb53189-33a3-4cb8-d3da-673acb392d31"
      },
      "execution_count": 35,
      "outputs": [
        {
          "output_type": "stream",
          "name": "stdout",
          "text": [
            "name: Mike\n",
            "age: 30\n",
            "city: Oakland\n"
          ]
        }
      ]
    },
    {
      "cell_type": "code",
      "source": [
        "\n",
        "def print_kwargs(a, b, c, *args, **kwargs,):\n",
        "  result = 0\n",
        "  for num in args:\n",
        "      result += num\n",
        "\n",
        "  for key, value in kwargs.items():\n",
        "    print(f\"{key}: {value}\")\n",
        "\n",
        "\n",
        "print_kwargs(1, 2, 3, 4, 5, 6, 7, name=\"Mike\", age=30, city=\"Oakland\")"
      ],
      "metadata": {
        "colab": {
          "base_uri": "https://localhost:8080/"
        },
        "id": "7EL_CmxLKg5v",
        "outputId": "e95fc7ad-5cca-4861-9bee-be32f271a78b"
      },
      "execution_count": 37,
      "outputs": [
        {
          "output_type": "stream",
          "name": "stdout",
          "text": [
            "name: Mike\n",
            "age: 30\n",
            "city: Oakland\n"
          ]
        }
      ]
    },
    {
      "cell_type": "code",
      "source": [],
      "metadata": {
        "id": "-UwSb6KjK7tE"
      },
      "execution_count": null,
      "outputs": []
    }
  ]
}