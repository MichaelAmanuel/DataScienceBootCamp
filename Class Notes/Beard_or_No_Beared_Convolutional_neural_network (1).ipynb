{
  "cells": [
    {
      "cell_type": "markdown",
      "metadata": {
        "id": "3DR-eO17geWu"
      },
      "source": [
        "# Convolutional Neural Network"
      ]
    },
    {
      "cell_type": "markdown",
      "metadata": {
        "id": "EMefrVPCg-60"
      },
      "source": [
        "### Importing the libraries"
      ]
    },
    {
      "cell_type": "code",
      "execution_count": 2,
      "metadata": {
        "id": "sCV30xyVhFbE"
      },
      "outputs": [],
      "source": [
        "import tensorflow as tf\n",
        "from keras.preprocessing.image import ImageDataGenerator"
      ]
    },
    {
      "cell_type": "code",
      "execution_count": 3,
      "metadata": {
        "colab": {
          "base_uri": "https://localhost:8080/",
          "height": 36
        },
        "id": "FIleuCAjoFD8",
        "outputId": "aaeeedaa-bf00-4808-a99a-6f8470c46ae7"
      },
      "outputs": [
        {
          "output_type": "execute_result",
          "data": {
            "text/plain": [
              "'2.13.0'"
            ],
            "application/vnd.google.colaboratory.intrinsic+json": {
              "type": "string"
            }
          },
          "metadata": {},
          "execution_count": 3
        }
      ],
      "source": [
        "tf.__version__"
      ]
    },
    {
      "cell_type": "code",
      "execution_count": 1,
      "metadata": {
        "colab": {
          "base_uri": "https://localhost:8080/"
        },
        "id": "gUbCPjdvcjDT",
        "outputId": "62a17049-3e9d-4103-f7fa-7caa88025ff5"
      },
      "outputs": [
        {
          "output_type": "stream",
          "name": "stdout",
          "text": [
            "Mounted at /content/gdrive\n"
          ]
        }
      ],
      "source": [
        "from google.colab import drive\n",
        "drive.mount('/content/gdrive')"
      ]
    },
    {
      "cell_type": "markdown",
      "metadata": {
        "id": "oxQxCBWyoGPE"
      },
      "source": [
        "## Part 1 - Data Preprocessing"
      ]
    },
    {
      "cell_type": "markdown",
      "metadata": {
        "id": "MvE-heJNo3GG"
      },
      "source": [
        "### Preprocessing the Training set"
      ]
    },
    {
      "cell_type": "code",
      "execution_count": 4,
      "metadata": {
        "colab": {
          "base_uri": "https://localhost:8080/"
        },
        "id": "0koUcJMJpEBD",
        "outputId": "39deef6a-0ac7-411f-ac10-7854fbc0036b"
      },
      "outputs": [
        {
          "output_type": "stream",
          "name": "stdout",
          "text": [
            "Found 119 images belonging to 2 classes.\n"
          ]
        }
      ],
      "source": [
        "train_datagen = ImageDataGenerator(rescale = 1./255,\n",
        "                                   shear_range = 0.2,\n",
        "                                   zoom_range = 0.2,\n",
        "                                   horizontal_flip = True)\n",
        "training_set = train_datagen.flow_from_directory('/content/gdrive/MyDrive/Beard or No Beared (1)/Train',\n",
        "                                                 target_size = (64, 64),\n",
        "                                                 batch_size = 32,\n",
        "                                                 class_mode = 'binary')"
      ]
    },
    {
      "cell_type": "markdown",
      "metadata": {
        "id": "mrCMmGw9pHys"
      },
      "source": [
        "### Preprocessing the Test set"
      ]
    },
    {
      "cell_type": "code",
      "execution_count": 5,
      "metadata": {
        "colab": {
          "base_uri": "https://localhost:8080/"
        },
        "id": "SH4WzfOhpKc3",
        "outputId": "9844bbaf-a50b-4c04-9bbb-1adca5be2aa7"
      },
      "outputs": [
        {
          "output_type": "stream",
          "name": "stdout",
          "text": [
            "Found 20 images belonging to 2 classes.\n"
          ]
        }
      ],
      "source": [
        "test_datagen = ImageDataGenerator(rescale = 1./255)\n",
        "test_set = test_datagen.flow_from_directory('/content/gdrive/MyDrive/Beard or No Beared (1)/Test',\n",
        "                                            target_size = (64, 64),\n",
        "                                            batch_size = 32,\n",
        "                                            class_mode = 'binary')"
      ]
    },
    {
      "cell_type": "markdown",
      "metadata": {
        "id": "af8O4l90gk7B"
      },
      "source": [
        "## Part 2 - Building the CNN"
      ]
    },
    {
      "cell_type": "markdown",
      "metadata": {
        "id": "ces1gXY2lmoX"
      },
      "source": [
        "### Initialising the CNN"
      ]
    },
    {
      "cell_type": "code",
      "execution_count": 6,
      "metadata": {
        "id": "SAUt4UMPlhLS"
      },
      "outputs": [],
      "source": [
        "cnn = tf.keras.models.Sequential()"
      ]
    },
    {
      "cell_type": "markdown",
      "metadata": {
        "id": "u5YJj_XMl5LF"
      },
      "source": [
        "### Step 1 - Convolution"
      ]
    },
    {
      "cell_type": "code",
      "execution_count": 7,
      "metadata": {
        "id": "XPzPrMckl-hV"
      },
      "outputs": [],
      "source": [
        "cnn.add(tf.keras.layers.Conv2D(filters=32, kernel_size=3, activation='relu', input_shape=[64, 64, 3]))"
      ]
    },
    {
      "cell_type": "markdown",
      "metadata": {
        "id": "tf87FpvxmNOJ"
      },
      "source": [
        "### Step 2 - Pooling"
      ]
    },
    {
      "cell_type": "code",
      "execution_count": 8,
      "metadata": {
        "id": "ncpqPl69mOac"
      },
      "outputs": [],
      "source": [
        "cnn.add(tf.keras.layers.MaxPool2D(pool_size=2, strides=2))"
      ]
    },
    {
      "cell_type": "markdown",
      "metadata": {
        "id": "xaTOgD8rm4mU"
      },
      "source": [
        "### Adding a second convolutional layer"
      ]
    },
    {
      "cell_type": "code",
      "execution_count": 9,
      "metadata": {
        "id": "i_-FZjn_m8gk"
      },
      "outputs": [],
      "source": [
        "cnn.add(tf.keras.layers.Conv2D(filters=32, kernel_size=3, activation='relu'))\n",
        "cnn.add(tf.keras.layers.MaxPool2D(pool_size=2, strides=2))"
      ]
    },
    {
      "cell_type": "markdown",
      "metadata": {
        "id": "tmiEuvTunKfk"
      },
      "source": [
        "### Step 3 - Flattening"
      ]
    },
    {
      "cell_type": "code",
      "execution_count": 10,
      "metadata": {
        "id": "6AZeOGCvnNZn"
      },
      "outputs": [],
      "source": [
        "cnn.add(tf.keras.layers.Flatten())"
      ]
    },
    {
      "cell_type": "markdown",
      "metadata": {
        "id": "dAoSECOm203v"
      },
      "source": [
        "### Step 4 - Full Connection"
      ]
    },
    {
      "cell_type": "code",
      "execution_count": 11,
      "metadata": {
        "id": "8GtmUlLd26Nq"
      },
      "outputs": [],
      "source": [
        "cnn.add(tf.keras.layers.Dense(units=128, activation='relu'))"
      ]
    },
    {
      "cell_type": "markdown",
      "metadata": {
        "id": "yTldFvbX28Na"
      },
      "source": [
        "### Step 5 - Output Layer"
      ]
    },
    {
      "cell_type": "code",
      "execution_count": 12,
      "metadata": {
        "id": "1p_Zj1Mc3Ko_"
      },
      "outputs": [],
      "source": [
        "cnn.add(tf.keras.layers.Dense(units=1, activation='sigmoid'))"
      ]
    },
    {
      "cell_type": "markdown",
      "metadata": {
        "id": "D6XkI90snSDl"
      },
      "source": [
        "## Part 3 - Training the CNN"
      ]
    },
    {
      "cell_type": "markdown",
      "metadata": {
        "id": "vfrFQACEnc6i"
      },
      "source": [
        "### Compiling the CNN"
      ]
    },
    {
      "cell_type": "code",
      "execution_count": 13,
      "metadata": {
        "id": "NALksrNQpUlJ"
      },
      "outputs": [],
      "source": [
        "cnn.compile(optimizer = 'adam', loss = 'binary_crossentropy', metrics = ['accuracy'])"
      ]
    },
    {
      "cell_type": "markdown",
      "metadata": {
        "id": "ehS-v3MIpX2h"
      },
      "source": [
        "### Training the CNN on the Training set and evaluating it on the Test set"
      ]
    },
    {
      "cell_type": "code",
      "execution_count": 16,
      "metadata": {
        "colab": {
          "base_uri": "https://localhost:8080/"
        },
        "id": "XUj1W4PJptta",
        "outputId": "30567d4d-fa6a-4a4e-da19-c3f07aa1ac8f"
      },
      "outputs": [
        {
          "output_type": "stream",
          "name": "stdout",
          "text": [
            "Epoch 1/25\n",
            "4/4 [==============================] - 1s 290ms/step - loss: 0.4059 - accuracy: 0.7983 - val_loss: 0.7177 - val_accuracy: 0.5000\n",
            "Epoch 2/25\n",
            "4/4 [==============================] - 1s 239ms/step - loss: 0.3343 - accuracy: 0.9076 - val_loss: 0.5665 - val_accuracy: 0.7000\n",
            "Epoch 3/25\n",
            "4/4 [==============================] - 1s 229ms/step - loss: 0.2727 - accuracy: 0.8908 - val_loss: 0.5354 - val_accuracy: 0.7000\n",
            "Epoch 4/25\n",
            "4/4 [==============================] - 1s 233ms/step - loss: 0.2530 - accuracy: 0.8992 - val_loss: 0.5360 - val_accuracy: 0.7000\n",
            "Epoch 5/25\n",
            "4/4 [==============================] - 1s 254ms/step - loss: 0.2275 - accuracy: 0.9160 - val_loss: 0.4998 - val_accuracy: 0.7500\n",
            "Epoch 6/25\n",
            "4/4 [==============================] - 1s 223ms/step - loss: 0.2083 - accuracy: 0.9328 - val_loss: 0.5033 - val_accuracy: 0.6500\n",
            "Epoch 7/25\n",
            "4/4 [==============================] - 1s 225ms/step - loss: 0.1823 - accuracy: 0.9328 - val_loss: 0.4751 - val_accuracy: 0.7500\n",
            "Epoch 8/25\n",
            "4/4 [==============================] - 1s 334ms/step - loss: 0.1670 - accuracy: 0.9412 - val_loss: 0.4958 - val_accuracy: 0.7000\n",
            "Epoch 9/25\n",
            "4/4 [==============================] - 1s 314ms/step - loss: 0.1416 - accuracy: 0.9664 - val_loss: 0.5412 - val_accuracy: 0.6000\n",
            "Epoch 10/25\n",
            "4/4 [==============================] - 1s 324ms/step - loss: 0.1270 - accuracy: 0.9748 - val_loss: 0.6123 - val_accuracy: 0.7000\n",
            "Epoch 11/25\n",
            "4/4 [==============================] - 1s 254ms/step - loss: 0.1313 - accuracy: 0.9580 - val_loss: 0.6591 - val_accuracy: 0.6500\n",
            "Epoch 12/25\n",
            "4/4 [==============================] - 1s 254ms/step - loss: 0.1501 - accuracy: 0.9412 - val_loss: 0.6056 - val_accuracy: 0.6500\n",
            "Epoch 13/25\n",
            "4/4 [==============================] - 1s 253ms/step - loss: 0.0835 - accuracy: 0.9832 - val_loss: 0.7925 - val_accuracy: 0.7000\n",
            "Epoch 14/25\n",
            "4/4 [==============================] - 1s 237ms/step - loss: 0.0927 - accuracy: 0.9832 - val_loss: 0.6750 - val_accuracy: 0.6500\n",
            "Epoch 15/25\n",
            "4/4 [==============================] - 1s 234ms/step - loss: 0.0816 - accuracy: 0.9664 - val_loss: 0.9481 - val_accuracy: 0.7000\n",
            "Epoch 16/25\n",
            "4/4 [==============================] - 1s 231ms/step - loss: 0.0764 - accuracy: 0.9832 - val_loss: 0.7101 - val_accuracy: 0.6000\n",
            "Epoch 17/25\n",
            "4/4 [==============================] - 1s 232ms/step - loss: 0.0654 - accuracy: 0.9832 - val_loss: 0.8569 - val_accuracy: 0.7000\n",
            "Epoch 18/25\n",
            "4/4 [==============================] - 1s 253ms/step - loss: 0.0947 - accuracy: 0.9664 - val_loss: 0.7557 - val_accuracy: 0.6500\n",
            "Epoch 19/25\n",
            "4/4 [==============================] - 1s 234ms/step - loss: 0.0689 - accuracy: 0.9832 - val_loss: 0.7901 - val_accuracy: 0.7500\n",
            "Epoch 20/25\n",
            "4/4 [==============================] - 1s 234ms/step - loss: 0.0607 - accuracy: 0.9916 - val_loss: 0.7394 - val_accuracy: 0.6000\n",
            "Epoch 21/25\n",
            "4/4 [==============================] - 1s 239ms/step - loss: 0.0599 - accuracy: 0.9748 - val_loss: 0.8007 - val_accuracy: 0.7500\n",
            "Epoch 22/25\n",
            "4/4 [==============================] - 1s 338ms/step - loss: 0.0881 - accuracy: 0.9580 - val_loss: 0.6859 - val_accuracy: 0.7500\n",
            "Epoch 23/25\n",
            "4/4 [==============================] - 1s 398ms/step - loss: 0.0324 - accuracy: 1.0000 - val_loss: 0.7227 - val_accuracy: 0.7500\n",
            "Epoch 24/25\n",
            "4/4 [==============================] - 1s 235ms/step - loss: 0.0796 - accuracy: 0.9748 - val_loss: 0.5841 - val_accuracy: 0.8500\n",
            "Epoch 25/25\n",
            "4/4 [==============================] - 1s 239ms/step - loss: 0.0411 - accuracy: 0.9916 - val_loss: 0.6970 - val_accuracy: 0.7500\n"
          ]
        },
        {
          "output_type": "execute_result",
          "data": {
            "text/plain": [
              "<keras.src.callbacks.History at 0x7e44fffdeb60>"
            ]
          },
          "metadata": {},
          "execution_count": 16
        }
      ],
      "source": [
        "cnn.fit(x = training_set, validation_data = test_set, epochs = 25)"
      ]
    },
    {
      "cell_type": "markdown",
      "metadata": {
        "id": "U3PZasO0006Z"
      },
      "source": [
        "## Part 4 - Making a single prediction"
      ]
    },
    {
      "cell_type": "code",
      "execution_count": 19,
      "metadata": {
        "id": "gsSiWEJY1BPB",
        "colab": {
          "base_uri": "https://localhost:8080/"
        },
        "outputId": "cf7bf01b-5962-4a8d-c401-4cc8e85c4b0a"
      },
      "outputs": [
        {
          "output_type": "stream",
          "name": "stdout",
          "text": [
            "1/1 [==============================] - 0s 236ms/step\n"
          ]
        }
      ],
      "source": [
        "import numpy as np\n",
        "from keras.preprocessing import image\n",
        "import keras.utils as image\n",
        "test_image = image.load_img('/content/gdrive/MyDrive/Beard or No Beared (1)/Validate/Beard/1.jpg', target_size = (64, 64))\n",
        "test_image = image.img_to_array(test_image)\n",
        "test_image = np.expand_dims(test_image, axis = 0)\n",
        "result = cnn.predict(test_image)\n",
        "training_set.class_indices\n",
        "if result[0][0] == 1:\n",
        "  prediction = 'Beard'\n",
        "else:\n",
        "  prediction = 'No Beard'"
      ]
    },
    {
      "cell_type": "code",
      "execution_count": 22,
      "metadata": {
        "id": "ED9KB3I54c1i",
        "colab": {
          "base_uri": "https://localhost:8080/"
        },
        "outputId": "485051d5-1abb-4400-b8d3-9be840ee89b8"
      },
      "outputs": [
        {
          "output_type": "stream",
          "name": "stdout",
          "text": [
            "No Beard\n"
          ]
        }
      ],
      "source": [
        "print(prediction)"
      ]
    },
    {
      "cell_type": "code",
      "source": [
        "import numpy as np\n",
        "from keras.preprocessing import image\n",
        "import keras.utils as image\n",
        "test_image = image.load_img('/content/gdrive/MyDrive/Beard or No Beared (1)/Validate/No Beard/1.jpg', target_size = (64, 64))\n",
        "test_image = image.img_to_array(test_image)\n",
        "test_image = np.expand_dims(test_image, axis = 0)\n",
        "result = cnn.predict(test_image)\n",
        "training_set.class_indices\n",
        "if result[0][0] == 1:\n",
        "  prediction = 'Beard'\n",
        "else:\n",
        "  prediction = 'No Beard'"
      ],
      "metadata": {
        "colab": {
          "base_uri": "https://localhost:8080/"
        },
        "id": "Xv6wMBd4yeug",
        "outputId": "cca9f0f7-4c95-45df-fd82-102a06ee17f7"
      },
      "execution_count": 20,
      "outputs": [
        {
          "output_type": "stream",
          "name": "stdout",
          "text": [
            "1/1 [==============================] - 0s 21ms/step\n"
          ]
        }
      ]
    },
    {
      "cell_type": "code",
      "source": [
        "print(prediction)"
      ],
      "metadata": {
        "colab": {
          "base_uri": "https://localhost:8080/"
        },
        "id": "tK4yerBIyjJU",
        "outputId": "6698dc71-50d3-446d-b17e-08b67b92eb5f"
      },
      "execution_count": 21,
      "outputs": [
        {
          "output_type": "stream",
          "name": "stdout",
          "text": [
            "No Beard\n"
          ]
        }
      ]
    },
    {
      "cell_type": "code",
      "source": [],
      "metadata": {
        "id": "1LL0hkveyk0I"
      },
      "execution_count": null,
      "outputs": []
    }
  ],
  "metadata": {
    "accelerator": "GPU",
    "colab": {
      "provenance": []
    },
    "kernelspec": {
      "display_name": "Python 3",
      "name": "python3"
    }
  },
  "nbformat": 4,
  "nbformat_minor": 0
}