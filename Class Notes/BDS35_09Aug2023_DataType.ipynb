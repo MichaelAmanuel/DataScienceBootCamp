{
  "nbformat": 4,
  "nbformat_minor": 0,
  "metadata": {
    "colab": {
      "provenance": []
    },
    "kernelspec": {
      "name": "python3",
      "display_name": "Python 3"
    },
    "language_info": {
      "name": "python"
    }
  },
  "cells": [
    {
      "cell_type": "code",
      "execution_count": 1,
      "metadata": {
        "colab": {
          "base_uri": "https://localhost:8080/"
        },
        "id": "ofR31KoJxRY6",
        "outputId": "6b534bc6-c264-4dfd-8885-265d03dbb7ff"
      },
      "outputs": [
        {
          "output_type": "stream",
          "name": "stdout",
          "text": [
            "1987\n",
            "<class 'int'>\n",
            "-1987\n",
            "<class 'int'>\n"
          ]
        }
      ],
      "source": [
        "# An integer is a whole number, which means it doesn't have any fractional or decimal part. Integers can be both positive and negative, including zero.\n",
        "int1  = 1987\n",
        "print(int1)\n",
        "print(type(int1))\n",
        "\n",
        "int = -1987\n",
        "print(int)\n",
        "print(type(int))\n"
      ]
    },
    {
      "cell_type": "code",
      "source": [
        "# Float: Any combination of whole number and fractional number\n",
        "flt = 3.1415\n",
        "print(flt)\n",
        "print(type(flt))\n",
        "\n",
        "flt = -3.1415\n",
        "print(flt)\n",
        "print(type(flt))"
      ],
      "metadata": {
        "colab": {
          "base_uri": "https://localhost:8080/"
        },
        "id": "MXU9JselxpjW",
        "outputId": "96e6323b-83ea-4205-a26c-d46f0dc3c71b"
      },
      "execution_count": 2,
      "outputs": [
        {
          "output_type": "stream",
          "name": "stdout",
          "text": [
            "3.1415\n",
            "<class 'float'>\n",
            "-3.1415\n",
            "<class 'float'>\n"
          ]
        }
      ]
    },
    {
      "cell_type": "code",
      "source": [
        "# Complex  : combination of integer or float and imagenary number\n",
        "compl = 2 + 3j\n",
        "print(compl)\n",
        "print(type(compl))\n",
        "\n",
        "compl = -2 - 3j\n",
        "print(compl)\n",
        "print(type(compl))"
      ],
      "metadata": {
        "colab": {
          "base_uri": "https://localhost:8080/"
        },
        "id": "5us3mCY-x0W4",
        "outputId": "078fbd4b-c5c2-43e1-ff38-db2d93748545"
      },
      "execution_count": 3,
      "outputs": [
        {
          "output_type": "stream",
          "name": "stdout",
          "text": [
            "(2+3j)\n",
            "<class 'complex'>\n",
            "(-2-3j)\n",
            "<class 'complex'>\n"
          ]
        }
      ]
    },
    {
      "cell_type": "code",
      "source": [
        "# Boolean : True and False\n",
        "bool = True\n",
        "print(bool)\n",
        "print(type(bool))\n",
        "\n",
        "bool = False\n",
        "print(bool)\n",
        "print(type(bool))"
      ],
      "metadata": {
        "colab": {
          "base_uri": "https://localhost:8080/"
        },
        "id": "7jjhEvlUy0Ol",
        "outputId": "ba7a7e62-0a33-4f6f-b554-ff9fdacc1420"
      },
      "execution_count": 4,
      "outputs": [
        {
          "output_type": "stream",
          "name": "stdout",
          "text": [
            "True\n",
            "<class 'bool'>\n",
            "False\n",
            "<class 'bool'>\n"
          ]
        }
      ]
    },
    {
      "cell_type": "code",
      "source": [
        "# String\n",
        "# any combination inside single  quote\n",
        "# any combination inside double quotes\n",
        "# any combination inside triple single quote\n",
        "# any combination inside triple double quote\n",
        "\n",
        "str = 'Python Programming'\n",
        "print(str)\n",
        "print(type(str))\n",
        "\n",
        "str = \"Python Programming\"\n",
        "print(str)\n",
        "print(type(str))\n",
        "\n",
        "str = '''Python Programming'''\n",
        "print(str)\n",
        "print(type(str))\n",
        "\n",
        "str = \"\"\"Python Programming\"\"\"\n",
        "print(str)\n",
        "print(type(str))"
      ],
      "metadata": {
        "colab": {
          "base_uri": "https://localhost:8080/"
        },
        "id": "xXhkJ5TPzLoJ",
        "outputId": "711a1a20-a6e8-4a1d-dd75-f3947f4d5f8b"
      },
      "execution_count": 6,
      "outputs": [
        {
          "output_type": "stream",
          "name": "stdout",
          "text": [
            "Python Programming\n",
            "<class 'str'>\n",
            "Python Programming\n",
            "<class 'str'>\n",
            "Python Programming\n",
            "<class 'str'>\n",
            "Python Programming\n",
            "<class 'str'>\n"
          ]
        }
      ]
    },
    {
      "cell_type": "code",
      "source": [
        "str = \"\"\"My name is 'Michael Amanuel',and i'm 30 years old. \"\"\"\n",
        "print(str)\n",
        "\n",
        "str = \"He said, 'Python's versatility makes it a great language for many tasks.'\"\n",
        "print(str)"
      ],
      "metadata": {
        "colab": {
          "base_uri": "https://localhost:8080/"
        },
        "id": "IzRZuod40UZw",
        "outputId": "6afabcf9-b95e-492f-e1bb-0138679bea62"
      },
      "execution_count": 15,
      "outputs": [
        {
          "output_type": "stream",
          "name": "stdout",
          "text": [
            "My name is 'Michael Amanuel',and i'm 30 years old. \n",
            "He said, 'Python's versatility makes it a great language for many tasks.'\n"
          ]
        }
      ]
    },
    {
      "cell_type": "code",
      "source": [
        "# List\n",
        "# 1. List is represented by square bracket []\n",
        "# 2. List is mutable\n",
        "\n",
        "\n",
        "list = [12, 23, 34, 45, 56]\n",
        "print(list)\n",
        "print(type(list))"
      ],
      "metadata": {
        "colab": {
          "base_uri": "https://localhost:8080/"
        },
        "id": "0gMwwGKC3qCE",
        "outputId": "90fac602-fa28-468e-ac2f-f8c5ba6ba111"
      },
      "execution_count": 17,
      "outputs": [
        {
          "output_type": "stream",
          "name": "stdout",
          "text": [
            "[12, 23, 34, 45, 56]\n",
            "<class 'list'>\n"
          ]
        }
      ]
    },
    {
      "cell_type": "code",
      "source": [
        "# Tuple\n",
        "# 1. Tuple is represented by circular breaket\n",
        "# 2. Tuple is immutable\n",
        "\n",
        "tuple = (1, 2, 3, 4, 5)\n",
        "print(tuple)\n",
        "print(type(tuple))"
      ],
      "metadata": {
        "colab": {
          "base_uri": "https://localhost:8080/"
        },
        "id": "c0Hrzt6F4tZ0",
        "outputId": "202ff19f-4a35-4ddb-c1d8-418a1d1c57bf"
      },
      "execution_count": 18,
      "outputs": [
        {
          "output_type": "stream",
          "name": "stdout",
          "text": [
            "(1, 2, 3, 4, 5)\n",
            "<class 'tuple'>\n"
          ]
        }
      ]
    },
    {
      "cell_type": "code",
      "source": [],
      "metadata": {
        "id": "mfoXz8wo4tjp"
      },
      "execution_count": null,
      "outputs": []
    },
    {
      "cell_type": "code",
      "source": [
        "# set\n",
        "# 1. set is combination of of unique values\n",
        "# 2. set is collection of unordered elemnts\n",
        "# 3. set is represented by curly breakets\n",
        "# 4. set is Mutable\n",
        "\n",
        "set = {'a', 'b', 'c', 'D', 'E', 'F', 1, 2, 3, '!', '@', '#', 'a', 'b', 'c', 'D', 'E', 'F', 1, 2, 3, '!', '@', '#'}\n",
        "print(set)\n",
        "print(type(set))"
      ],
      "metadata": {
        "colab": {
          "base_uri": "https://localhost:8080/"
        },
        "outputId": "d635a0c6-d7d9-41cb-819c-7ee129f84172",
        "id": "SWlLkC6u5_pL"
      },
      "execution_count": 20,
      "outputs": [
        {
          "output_type": "stream",
          "name": "stdout",
          "text": [
            "{1, 2, 3, '!', '@', 'E', 'D', 'a', 'c', 'b', 'F', '#'}\n",
            "<class 'set'>\n"
          ]
        }
      ]
    },
    {
      "cell_type": "code",
      "source": [
        "# Dictionary\n",
        "# 1. Tuple is represented by circular breaket\n",
        "# 2. Tuple is immutable\n",
        "\n",
        "set = {'a', 'b', 'c', 'D', 'E', 'F', 1, 2, 3, '!', '@', '#', 'a', 'b', 'c', 'D', 'E', 'F', 1, 2, 3, '!', '@', '#'}\n",
        "print(set)\n",
        "print(type(set))"
      ],
      "metadata": {
        "colab": {
          "base_uri": "https://localhost:8080/"
        },
        "outputId": "79e1329b-24b8-4a81-b527-f1c84f81c8d7",
        "id": "4uZnl2Jz5--S"
      },
      "execution_count": 19,
      "outputs": [
        {
          "output_type": "stream",
          "name": "stdout",
          "text": [
            "{1, 2, 3, '!', '@', 'E', 'D', 'a', 'c', 'b', 'F', '#'}\n",
            "<class 'set'>\n"
          ]
        }
      ]
    },
    {
      "cell_type": "code",
      "source": [
        "# example of list tuple and set using different types\n",
        "\n",
        "mixed_list = ['a', 42, 3.14, 'hello', 7, 9.99, 'world', -5, 2.5, 'Python']\n",
        "print(mixed_list)\n",
        "print(type(mixed_list))\n",
        "\n",
        "mixed_tuple = (b'hello', 3.14, 42, 2.5, 'world', 7, 9.99, b'Python', b'\\x01\\x02\\x03', 3.14159)\n",
        "print(mixed_tuple)\n",
        "print(type(mixed_tuple))\n",
        "\n",
        "mixed_set = {b'hello', 3.14, 42, 2.5,True,1,False,0 , 'world', 7, 9.99, 'Python',' b', 3.14159}\n",
        "print(mixed_set)\n",
        "print(type(mixed_set))"
      ],
      "metadata": {
        "colab": {
          "base_uri": "https://localhost:8080/"
        },
        "id": "jD5ov9Ne4tsR",
        "outputId": "e8abcd97-b5c6-4362-fabc-63e560671414"
      },
      "execution_count": 27,
      "outputs": [
        {
          "output_type": "stream",
          "name": "stdout",
          "text": [
            "['a', 42, 3.14, 'hello', 7, 9.99, 'world', -5, 2.5, 'Python']\n",
            "<class 'list'>\n",
            "(b'hello', 3.14, 42, 2.5, 'world', 7, 9.99, b'Python', b'\\x01\\x02\\x03', 3.14159)\n",
            "<class 'tuple'>\n",
            "{False, True, 2.5, 3.14, 3.14159, 7, b'hello', 9.99, 42, 'world', ' b', 'Python'}\n",
            "<class 'set'>\n"
          ]
        }
      ]
    },
    {
      "cell_type": "code",
      "source": [
        "set =set = {False,1,True,0 , 'a', 'b', 'c', 'D', 'E', 'F', 2, 3, '!', '@', '#', 'a', 'b', 'c', 'D', 'E', 'F', 1, 2, 3, '!', '@', '#'}\n",
        "print(set)\n",
        "print(type(set))"
      ],
      "metadata": {
        "colab": {
          "base_uri": "https://localhost:8080/"
        },
        "id": "kyxDk6yP-dNq",
        "outputId": "18b71e81-2c0c-400c-8d83-b8d2d509b6cb"
      },
      "execution_count": 32,
      "outputs": [
        {
          "output_type": "stream",
          "name": "stdout",
          "text": [
            "{False, 1, 2, 3, '!', '@', 'E', 'D', 'a', 'c', 'b', 'F', '#'}\n",
            "<class 'set'>\n"
          ]
        }
      ]
    },
    {
      "cell_type": "code",
      "source": [
        "# dictionary\n",
        "dic = {'key': 'apple', 'key1':'banana', 'key2':'orange'}\n",
        "print(dic)\n",
        "print(type(dic))"
      ],
      "metadata": {
        "colab": {
          "base_uri": "https://localhost:8080/"
        },
        "id": "jg1uiwnA_WtL",
        "outputId": "41427c42-8db4-4ccb-b8e1-aabf279ff458"
      },
      "execution_count": 33,
      "outputs": [
        {
          "output_type": "stream",
          "name": "stdout",
          "text": [
            "{'key': 'apple', 'key1': 'banana', 'key2': 'orange'}\n",
            "<class 'dict'>\n"
          ]
        }
      ]
    },
    {
      "cell_type": "code",
      "source": [
        "mix_dict = {\n",
        "    'fruits': ['apple', 'banana', 'orange'],\n",
        "    'colors': {'red', 'yellow', 'orange'},\n",
        "    'coordinates': (10, 20, 30),\n",
        "    }\n",
        "print(mix_dict)\n",
        "print(type(mix_dict))"
      ],
      "metadata": {
        "colab": {
          "base_uri": "https://localhost:8080/"
        },
        "id": "3tBkTKGzAL7y",
        "outputId": "53ee50eb-3bcb-4f77-a5e5-fa3a2ad4be18"
      },
      "execution_count": 34,
      "outputs": [
        {
          "output_type": "stream",
          "name": "stdout",
          "text": [
            "{'fruits': ['apple', 'banana', 'orange'], 'colors': {'yellow', 'red', 'orange'}, 'coordinates': (10, 20, 30)}\n",
            "<class 'dict'>\n"
          ]
        }
      ]
    },
    {
      "cell_type": "code",
      "source": [
        "str = 'Michael Amanuel Fsehatsion'\n",
        "print(str)\n",
        "print(type(str))\n",
        "print(len(str))"
      ],
      "metadata": {
        "colab": {
          "base_uri": "https://localhost:8080/"
        },
        "id": "PSJeBmZcBK7B",
        "outputId": "9ff9ccdb-f2d2-4679-9b22-8d43b86c762c"
      },
      "execution_count": 39,
      "outputs": [
        {
          "output_type": "stream",
          "name": "stdout",
          "text": [
            "Michael Amanuel Fsehatsion\n",
            "<class 'str'>\n",
            "26\n"
          ]
        }
      ]
    },
    {
      "cell_type": "code",
      "source": [
        "print(str[0], end='')\n",
        "print(str[1], end='')\n",
        "print(str[2], end='')\n",
        "print(str[3], end='')\n",
        "print(str[4], end='')\n",
        "print(str[5], end='')\n",
        "print(str[6], end='')\n",
        "print(str[7], end='')\n",
        "print(str[8], end='')\n",
        "print(str[9], end='')\n",
        "print(str[10], end='')"
      ],
      "metadata": {
        "colab": {
          "base_uri": "https://localhost:8080/"
        },
        "id": "miIGoUb5Cre3",
        "outputId": "bbf9c137-7c01-44f2-e5df-b125bafc8fa2"
      },
      "execution_count": 55,
      "outputs": [
        {
          "output_type": "stream",
          "name": "stdout",
          "text": [
            "Michael Ama"
          ]
        }
      ]
    },
    {
      "cell_type": "code",
      "source": [
        "str[:7],str[7:15] ,str[16:],str[3:23:3]"
      ],
      "metadata": {
        "colab": {
          "base_uri": "https://localhost:8080/"
        },
        "id": "mDeySjbAEB_A",
        "outputId": "47c4ba6d-d0b7-40c5-a1cc-d6efbf31df5e"
      },
      "execution_count": 71,
      "outputs": [
        {
          "output_type": "execute_result",
          "data": {
            "text/plain": [
              "('Michael', ' Amanuel', 'Fsehatsion', 'hlmu et')"
            ]
          },
          "metadata": {},
          "execution_count": 71
        }
      ]
    },
    {
      "cell_type": "code",
      "source": [
        "str[:]"
      ],
      "metadata": {
        "colab": {
          "base_uri": "https://localhost:8080/",
          "height": 36
        },
        "id": "V7tRXa8aHy6L",
        "outputId": "248f85c4-82fa-4ee7-cdfa-ed6cf645ad4c"
      },
      "execution_count": 64,
      "outputs": [
        {
          "output_type": "execute_result",
          "data": {
            "text/plain": [
              "'Michael Amanuel Fsehatsion'"
            ],
            "application/vnd.google.colaboratory.intrinsic+json": {
              "type": "string"
            }
          },
          "metadata": {},
          "execution_count": 64
        }
      ]
    },
    {
      "cell_type": "code",
      "source": [
        "print(str[::])\n",
        "print(str[0:16:])\n",
        "print(str[:len(str):5])"
      ],
      "metadata": {
        "colab": {
          "base_uri": "https://localhost:8080/"
        },
        "id": "9LhfehFEJ8y3",
        "outputId": "1874d07b-7487-4570-c64c-7cb4113b4549"
      },
      "execution_count": 76,
      "outputs": [
        {
          "output_type": "stream",
          "name": "stdout",
          "text": [
            "Michael Amanuel Fsehatsion\n",
            "Michael Amanuel \n",
            "Mea an\n"
          ]
        }
      ]
    },
    {
      "cell_type": "code",
      "source": [],
      "metadata": {
        "id": "biMFesylR4Ei"
      },
      "execution_count": null,
      "outputs": []
    }
  ]
}