{
  "nbformat": 4,
  "nbformat_minor": 0,
  "metadata": {
    "colab": {
      "provenance": []
    },
    "kernelspec": {
      "name": "python3",
      "display_name": "Python 3"
    },
    "language_info": {
      "name": "python"
    }
  },
  "cells": [
    {
      "cell_type": "code",
      "source": [
        "\"\"\" while loopa while loop is a control structure in programming that allows you\n",
        "to repeatedly execute a block of code as long as a certain condition is true.\n",
        " It's a way to create a loop that continues running until the condition\n",
        " specified becomes false.\"\"\"\n",
        "\n",
        "a = 100\n",
        "\n",
        "while a > 10:\n",
        "  print(a, 'is greater than 10')\n",
        "  a -= 1"
      ],
      "metadata": {
        "id": "TjwzdPNqj3Tf"
      },
      "execution_count": null,
      "outputs": []
    },
    {
      "cell_type": "code",
      "execution_count": 6,
      "metadata": {
        "colab": {
          "base_uri": "https://localhost:8080/"
        },
        "id": "CL4PPYXGgi43",
        "outputId": "12f9f776-b969-4756-d92f-58f1d4c50bee"
      },
      "outputs": [
        {
          "output_type": "stream",
          "name": "stdout",
          "text": [
            "num190\n",
            "if(a < 200)\n",
            "else(a<175)\n"
          ]
        }
      ],
      "source": [
        "# Nested If\n",
        "\n",
        "a =int(input(\"num\"))\n",
        "\n",
        "if(a < 200):\n",
        "  print('if(a < 200)')\n",
        "  if(a < 175):\n",
        "    print('if(a < 175)')\n",
        "    if (a < 125):\n",
        "      print('f(a < 150)')\n",
        "      if (a < 125):\n",
        "        print('f(a < 125)')\n",
        "        if(a < 100):\n",
        "          print('if(a < 100)')\n",
        "          if(a < 75):\n",
        "            print('if(a < 75)')\n",
        "          else:\n",
        "            print('if(a < 75)')\n",
        "        else:\n",
        "          print('else(a < 100)')\n",
        "      else:\n",
        "         print('else(a < 125)')\n",
        "    else:\n",
        "      print('else(a < 150)')\n",
        "  else:\n",
        "    print('else(a < 175)')\n",
        "else:\n",
        "  print('else(a < 200)')\n",
        ""
      ]
    },
    {
      "cell_type": "markdown",
      "source": [
        "a while loop is a control structure in programming that allows you to repeatedly execute a block of code as long as a certain condition is true. It's a way to create a loop that continues running until the condition specified becomes false.\n"
      ],
      "metadata": {
        "id": "q3NorkWJkvaI"
      }
    },
    {
      "cell_type": "code",
      "source": [
        "# While loop\n",
        "\n",
        "a = 100\n",
        "while a > 10:\n",
        "  print(a, 'is greater than 10')\n",
        "  a -= 1"
      ],
      "metadata": {
        "id": "7vTBezjskyCA"
      },
      "execution_count": 10,
      "outputs": []
    },
    {
      "cell_type": "code",
      "source": [
        "a = 10\n",
        "\n",
        "while a < 100:\n",
        "  print(a, 'is less than 100')\n",
        "  a += 10"
      ],
      "metadata": {
        "id": "nlpOYijWlHFs"
      },
      "execution_count": null,
      "outputs": []
    },
    {
      "cell_type": "code",
      "source": [
        "a = 10\n",
        "\n",
        "while a < 200:\n",
        "  print(a, 'is less than 200')\n",
        "  a += 10"
      ],
      "metadata": {
        "colab": {
          "base_uri": "https://localhost:8080/"
        },
        "id": "3sNSje_rlQEF",
        "outputId": "7dbb21a3-b417-4195-fcd5-e30a262ad752"
      },
      "execution_count": 11,
      "outputs": [
        {
          "output_type": "stream",
          "name": "stdout",
          "text": [
            "10 is less than 200\n",
            "20 is less than 200\n",
            "30 is less than 200\n",
            "40 is less than 200\n",
            "50 is less than 200\n",
            "60 is less than 200\n",
            "70 is less than 200\n",
            "80 is less than 200\n",
            "90 is less than 200\n",
            "100 is less than 200\n",
            "110 is less than 200\n",
            "120 is less than 200\n",
            "130 is less than 200\n",
            "140 is less than 200\n",
            "150 is less than 200\n",
            "160 is less than 200\n",
            "170 is less than 200\n",
            "180 is less than 200\n",
            "190 is less than 200\n"
          ]
        }
      ]
    },
    {
      "cell_type": "code",
      "source": [
        "a = 1000\n",
        "\n",
        "while a > 200:\n",
        "  print(a, 'is greater than 200')\n",
        "  a -= 20"
      ],
      "metadata": {
        "id": "_o9ADVy-lt6y"
      },
      "execution_count": 18,
      "outputs": []
    },
    {
      "cell_type": "code",
      "source": [
        "a = 10\n",
        "\n",
        "i = 10\n",
        "while i < 100:\n",
        "  if i == 50:\n",
        "    break\n",
        "  print(i ,'is less than 100')\n",
        "\n",
        "  i += 10"
      ],
      "metadata": {
        "colab": {
          "base_uri": "https://localhost:8080/"
        },
        "id": "QwibILmoqNcN",
        "outputId": "caf1364b-1fd5-4a3c-e99b-702a60041245"
      },
      "execution_count": 22,
      "outputs": [
        {
          "output_type": "stream",
          "name": "stdout",
          "text": [
            "10 is less than 100\n",
            "20 is less than 100\n",
            "30 is less than 100\n",
            "40 is less than 100\n"
          ]
        }
      ]
    },
    {
      "cell_type": "code",
      "source": [
        "a = 200\n",
        "\n",
        "while( a < 500):\n",
        "  pass"
      ],
      "metadata": {
        "id": "lavu5Bk7rqsa"
      },
      "execution_count": null,
      "outputs": []
    },
    {
      "cell_type": "code",
      "source": [
        "# Write a programm 0 to 100 find odd and even, use while loop\n",
        "\n",
        "i = 1\n",
        "even = []\n",
        "add = []\n",
        "while i < 100:\n",
        "  if i % 2 == 0:\n",
        "    even.append(i)\n",
        "  else:\n",
        "    add.append(i)\n",
        "  i += 1\n",
        "\n",
        "print('even_number=',even)\n",
        "print('odd_number=' ,add)"
      ],
      "metadata": {
        "colab": {
          "base_uri": "https://localhost:8080/"
        },
        "id": "cf3vFjdUsGbu",
        "outputId": "54de25ee-bcba-42a5-bb06-4182e1de2127"
      },
      "execution_count": 37,
      "outputs": [
        {
          "output_type": "stream",
          "name": "stdout",
          "text": [
            "even_number= [2, 4, 6, 8, 10, 12, 14, 16, 18, 20, 22, 24, 26, 28, 30, 32, 34, 36, 38, 40, 42, 44, 46, 48, 50, 52, 54, 56, 58, 60, 62, 64, 66, 68, 70, 72, 74, 76, 78, 80, 82, 84, 86, 88, 90, 92, 94, 96, 98]\n",
            "odd_number= [1, 3, 5, 7, 9, 11, 13, 15, 17, 19, 21, 23, 25, 27, 29, 31, 33, 35, 37, 39, 41, 43, 45, 47, 49, 51, 53, 55, 57, 59, 61, 63, 65, 67, 69, 71, 73, 75, 77, 79, 81, 83, 85, 87, 89, 91, 93, 95, 97, 99]\n"
          ]
        }
      ]
    },
    {
      "cell_type": "code",
      "source": [
        "num = int(input('Enter anumber'))\n",
        "\n",
        "total = 0\n",
        "while num != 0:\n",
        "  total += num\n",
        "  num = int(input('Enter a number'))\n",
        "\n",
        "print('The total is= ,'total)\n",
        "\n",
        ""
      ],
      "metadata": {
        "colab": {
          "base_uri": "https://localhost:8080/"
        },
        "id": "ZRz4n5YStFd_",
        "outputId": "91d92b7a-f1fa-4b27-94b0-d1f21c0708f7"
      },
      "execution_count": 42,
      "outputs": [
        {
          "output_type": "stream",
          "name": "stdout",
          "text": [
            "Enter anumber1\n",
            "Enter a number2\n",
            "Enter a number3\n",
            "Enter a number4\n",
            "Enter a number5\n",
            "Enter a number6\n",
            "Enter a number7\n",
            "Enter a number8\n",
            "Enter a number9\n",
            "Enter a number0\n",
            "45\n"
          ]
        }
      ]
    },
    {
      "cell_type": "code",
      "source": [
        "#  Count number of people whose age is greater than is\n",
        "\n",
        "age = int(input('Enter your age'))\n",
        "\n",
        "total = 0\n",
        "while age >= 18:\n",
        "  total += 1\n",
        "  age = int(input('Enter your age'))\n",
        "\n",
        "print('The total number of people over 18 are =' ,total)\n"
      ],
      "metadata": {
        "colab": {
          "base_uri": "https://localhost:8080/"
        },
        "id": "OWmBgFfox_2y",
        "outputId": "65c36499-33eb-4422-f641-2cfb9454dc86"
      },
      "execution_count": 48,
      "outputs": [
        {
          "output_type": "stream",
          "name": "stdout",
          "text": [
            "Enter your age32\n",
            "Enter your age32\n",
            "Enter your age12\n",
            "The total number of people over 18 are = 2\n"
          ]
        }
      ]
    },
    {
      "cell_type": "code",
      "source": [
        "list = [1,2,3,4,5,6,7,8,9,10,11,22,33,44,55,66,77,88,99,110,12,23,34,45,56,67,78,89,90]\n",
        "\n",
        "while len(list) > 0:\n",
        "  list.pop()\n",
        "  print(list)\n",
        "\n",
        "print(list)\n",
        "\n"
      ],
      "metadata": {
        "colab": {
          "base_uri": "https://localhost:8080/"
        },
        "id": "ZrXCagdH180e",
        "outputId": "669973b7-e6aa-44a8-ab5e-7b903cd394f8"
      },
      "execution_count": 61,
      "outputs": [
        {
          "output_type": "stream",
          "name": "stdout",
          "text": [
            "[1, 2, 3, 4, 5, 6, 7, 8, 9, 10, 11, 22, 33, 44, 55, 66, 77, 88, 99, 110, 12, 23, 34, 45, 56, 67, 78, 89]\n",
            "[1, 2, 3, 4, 5, 6, 7, 8, 9, 10, 11, 22, 33, 44, 55, 66, 77, 88, 99, 110, 12, 23, 34, 45, 56, 67, 78]\n",
            "[1, 2, 3, 4, 5, 6, 7, 8, 9, 10, 11, 22, 33, 44, 55, 66, 77, 88, 99, 110, 12, 23, 34, 45, 56, 67]\n",
            "[1, 2, 3, 4, 5, 6, 7, 8, 9, 10, 11, 22, 33, 44, 55, 66, 77, 88, 99, 110, 12, 23, 34, 45, 56]\n",
            "[1, 2, 3, 4, 5, 6, 7, 8, 9, 10, 11, 22, 33, 44, 55, 66, 77, 88, 99, 110, 12, 23, 34, 45]\n",
            "[1, 2, 3, 4, 5, 6, 7, 8, 9, 10, 11, 22, 33, 44, 55, 66, 77, 88, 99, 110, 12, 23, 34]\n",
            "[1, 2, 3, 4, 5, 6, 7, 8, 9, 10, 11, 22, 33, 44, 55, 66, 77, 88, 99, 110, 12, 23]\n",
            "[1, 2, 3, 4, 5, 6, 7, 8, 9, 10, 11, 22, 33, 44, 55, 66, 77, 88, 99, 110, 12]\n",
            "[1, 2, 3, 4, 5, 6, 7, 8, 9, 10, 11, 22, 33, 44, 55, 66, 77, 88, 99, 110]\n",
            "[1, 2, 3, 4, 5, 6, 7, 8, 9, 10, 11, 22, 33, 44, 55, 66, 77, 88, 99]\n",
            "[1, 2, 3, 4, 5, 6, 7, 8, 9, 10, 11, 22, 33, 44, 55, 66, 77, 88]\n",
            "[1, 2, 3, 4, 5, 6, 7, 8, 9, 10, 11, 22, 33, 44, 55, 66, 77]\n",
            "[1, 2, 3, 4, 5, 6, 7, 8, 9, 10, 11, 22, 33, 44, 55, 66]\n",
            "[1, 2, 3, 4, 5, 6, 7, 8, 9, 10, 11, 22, 33, 44, 55]\n",
            "[1, 2, 3, 4, 5, 6, 7, 8, 9, 10, 11, 22, 33, 44]\n",
            "[1, 2, 3, 4, 5, 6, 7, 8, 9, 10, 11, 22, 33]\n",
            "[1, 2, 3, 4, 5, 6, 7, 8, 9, 10, 11, 22]\n",
            "[1, 2, 3, 4, 5, 6, 7, 8, 9, 10, 11]\n",
            "[1, 2, 3, 4, 5, 6, 7, 8, 9, 10]\n",
            "[1, 2, 3, 4, 5, 6, 7, 8, 9]\n",
            "[1, 2, 3, 4, 5, 6, 7, 8]\n",
            "[1, 2, 3, 4, 5, 6, 7]\n",
            "[1, 2, 3, 4, 5, 6]\n",
            "[1, 2, 3, 4, 5]\n",
            "[1, 2, 3, 4]\n",
            "[1, 2, 3]\n",
            "[1, 2]\n",
            "[1]\n",
            "[]\n",
            "[]\n"
          ]
        }
      ]
    },
    {
      "cell_type": "code",
      "source": [
        "#  Write a programm where number is divisible by 5 and 7\n",
        "num1 = int(input('Enter a number.'))\n",
        "\n",
        "while (num1 % 5 == 0) and (num1 % 7 == 0):\n",
        "  print(num1, 'is divisible by 5 and 7')\n",
        "  break\n",
        "\n",
        "else:\n",
        "  print(num1, 'is not divisible by 5 and 7')"
      ],
      "metadata": {
        "colab": {
          "base_uri": "https://localhost:8080/"
        },
        "id": "uzSHULys3ivM",
        "outputId": "d3602e5c-7f40-47dc-bc8f-19537dcf4201"
      },
      "execution_count": 63,
      "outputs": [
        {
          "output_type": "stream",
          "name": "stdout",
          "text": [
            "Enter a number.23\n",
            "23 is not divisible by 5 and 7\n"
          ]
        }
      ]
    },
    {
      "cell_type": "code",
      "source": [
        "num = int(input(\"num? \"))\n",
        "print(num)"
      ],
      "metadata": {
        "colab": {
          "base_uri": "https://localhost:8080/"
        },
        "id": "ILXJbK4eDfZX",
        "outputId": "4965f479-7bd7-435b-d895-08ccfb1b6d68"
      },
      "execution_count": 67,
      "outputs": [
        {
          "output_type": "stream",
          "name": "stdout",
          "text": [
            "num? 2\n",
            "2\n"
          ]
        }
      ]
    }
  ]
}