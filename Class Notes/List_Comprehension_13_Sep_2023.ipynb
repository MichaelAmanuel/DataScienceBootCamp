{
  "nbformat": 4,
  "nbformat_minor": 0,
  "metadata": {
    "colab": {
      "provenance": []
    },
    "kernelspec": {
      "name": "python3",
      "display_name": "Python 3"
    },
    "language_info": {
      "name": "python"
    }
  },
  "cells": [
    {
      "cell_type": "markdown",
      "source": [
        "**Comprehension**\n",
        "\n",
        "\n",
        "1.   List\n",
        "2.   Dictionary\n",
        "3.   Set\n",
        "4.   Generative\n",
        "\n",
        "\n"
      ],
      "metadata": {
        "id": "YEr7Cg1rAqIt"
      }
    },
    {
      "cell_type": "code",
      "execution_count": null,
      "metadata": {
        "id": "E9im2zfBAeuR"
      },
      "outputs": [],
      "source": [
        "for i in range(100):\n",
        "  print(i)"
      ]
    },
    {
      "cell_type": "code",
      "source": [
        "lst_comp = [i for i in range(100)]\n",
        "\n",
        "print(lst_comp)"
      ],
      "metadata": {
        "colab": {
          "base_uri": "https://localhost:8080/"
        },
        "id": "P5GvsaqvBFxi",
        "outputId": "ff70c3f5-9859-4066-facd-f8189e7bbfb9"
      },
      "execution_count": 3,
      "outputs": [
        {
          "output_type": "stream",
          "name": "stdout",
          "text": [
            "[0, 1, 2, 3, 4, 5, 6, 7, 8, 9, 10, 11, 12, 13, 14, 15, 16, 17, 18, 19, 20, 21, 22, 23, 24, 25, 26, 27, 28, 29, 30, 31, 32, 33, 34, 35, 36, 37, 38, 39, 40, 41, 42, 43, 44, 45, 46, 47, 48, 49, 50, 51, 52, 53, 54, 55, 56, 57, 58, 59, 60, 61, 62, 63, 64, 65, 66, 67, 68, 69, 70, 71, 72, 73, 74, 75, 76, 77, 78, 79, 80, 81, 82, 83, 84, 85, 86, 87, 88, 89, 90, 91, 92, 93, 94, 95, 96, 97, 98, 99]\n"
          ]
        }
      ]
    },
    {
      "cell_type": "code",
      "source": [
        "for i in range(100):\n",
        "  if i % 3 == 0:\n",
        "    print(i, end=' ')"
      ],
      "metadata": {
        "colab": {
          "base_uri": "https://localhost:8080/"
        },
        "id": "-ut8UMrFBVla",
        "outputId": "660dac38-81d5-42a4-a0c7-5cd0d705bb4c"
      },
      "execution_count": 5,
      "outputs": [
        {
          "output_type": "stream",
          "name": "stdout",
          "text": [
            "0 3 6 9 12 15 18 21 24 27 30 33 36 39 42 45 48 51 54 57 60 63 66 69 72 75 78 81 84 87 90 93 96 99 "
          ]
        }
      ]
    },
    {
      "cell_type": "code",
      "source": [
        "list_comp2 = [i for i in range(100) if i % 3 ==0]\n",
        "\n",
        "print(list_comp2)"
      ],
      "metadata": {
        "colab": {
          "base_uri": "https://localhost:8080/"
        },
        "id": "MrlDUb2WBbX6",
        "outputId": "252424d4-b568-4668-a79b-d193d04e2179"
      },
      "execution_count": 8,
      "outputs": [
        {
          "output_type": "stream",
          "name": "stdout",
          "text": [
            "[0, 3, 6, 9, 12, 15, 18, 21, 24, 27, 30, 33, 36, 39, 42, 45, 48, 51, 54, 57, 60, 63, 66, 69, 72, 75, 78, 81, 84, 87, 90, 93, 96, 99]\n"
          ]
        }
      ]
    },
    {
      "cell_type": "code",
      "source": [
        "fruit_list = ['apple', 'banana', 'cerries', 'dates', 'eggfruit', 'fig', 'graphs']\n",
        "\n",
        "for i in fruit_list:\n",
        "  if 'a' in i:\n",
        "    print(i)"
      ],
      "metadata": {
        "colab": {
          "base_uri": "https://localhost:8080/"
        },
        "id": "bTH6RBJVB0Je",
        "outputId": "a471aca9-326e-4615-8b53-efa07f8edfe8"
      },
      "execution_count": 7,
      "outputs": [
        {
          "output_type": "stream",
          "name": "stdout",
          "text": [
            "apple\n",
            "banana\n",
            "dates\n",
            "graphs\n"
          ]
        }
      ]
    },
    {
      "cell_type": "code",
      "source": [
        "fruit_list = ['apple', 'banana', 'cerries', 'dates', 'eggfruit', 'fig', 'graphs']\n",
        "\n",
        "lis_3 = [i for i in fruit_list if 'a' in i]\n",
        "print(lis_3)"
      ],
      "metadata": {
        "colab": {
          "base_uri": "https://localhost:8080/"
        },
        "id": "c4IhmoE-CRp9",
        "outputId": "66681ac1-b9d7-423f-c774-b3d331034db4"
      },
      "execution_count": 9,
      "outputs": [
        {
          "output_type": "stream",
          "name": "stdout",
          "text": [
            "['apple', 'banana', 'dates', 'graphs']\n"
          ]
        }
      ]
    },
    {
      "cell_type": "code",
      "source": [
        "fruit_list = fruits = [\"apple\", \"pineapple\", \"applesauce\", \"apple pie\", \"crabapple\", \"pineapples\", \"pineapple juice\", \"apple cider\", \"apple tree\", \"apple crisp\"]\n",
        "\n",
        "\n",
        "li_apple = [i for i in fruit_list if 'apple' in i]\n",
        "print(li_apple)"
      ],
      "metadata": {
        "colab": {
          "base_uri": "https://localhost:8080/"
        },
        "id": "sqeQaQQ8C3VD",
        "outputId": "0a5c6283-83d6-402f-9dc2-746f362be147"
      },
      "execution_count": 16,
      "outputs": [
        {
          "output_type": "stream",
          "name": "stdout",
          "text": [
            "['apple', 'pineapple', 'applesauce', 'apple pie', 'crabapple', 'pineapples', 'pineapple juice', 'apple cider', 'apple tree', 'apple crisp']\n"
          ]
        }
      ]
    },
    {
      "cell_type": "code",
      "source": [
        "fruit_list = [\"apple\", \"pineapple\", \"applesauce\", \"apple pie\", \"crabapple\", \"pineapples\", \"pineapple juice\", \"apple cider\", \"apple tree\", \"apple crisp\"]\n",
        "\n",
        "li_apple = [i for i in fruit_list if 'apple' in i]\n",
        "\n",
        "for item in li_apple:\n",
        "    print(item, end=',')\n"
      ],
      "metadata": {
        "colab": {
          "base_uri": "https://localhost:8080/"
        },
        "id": "B8BOwEz5Dcj0",
        "outputId": "9a37a24e-bbd0-4f77-fd79-2c12feaec1d7"
      },
      "execution_count": 21,
      "outputs": [
        {
          "output_type": "stream",
          "name": "stdout",
          "text": [
            "apple,pineapple,applesauce,apple pie,crabapple,pineapples,pineapple juice,apple cider,apple tree,apple crisp,"
          ]
        }
      ]
    },
    {
      "cell_type": "code",
      "source": [
        "fruit_list = [ 'banana', 'cerries', 'dates', 'eggfruit', 'fig', 'graphs']\n",
        "\n",
        "for i in fruit_list:\n",
        "  if 'apple' in i:\n",
        "    print(\"yes\")\n",
        "    break\n",
        "else:\n",
        "  print('Not')"
      ],
      "metadata": {
        "colab": {
          "base_uri": "https://localhost:8080/"
        },
        "id": "2_4cV_ikFAV3",
        "outputId": "b95e448e-fd52-49f2-df9c-1051765f4a5c"
      },
      "execution_count": 19,
      "outputs": [
        {
          "output_type": "stream",
          "name": "stdout",
          "text": [
            "Not\n"
          ]
        }
      ]
    },
    {
      "cell_type": "code",
      "source": [
        "fruit_list = ['apple', 'banana', 'cherries', 'dates', 'eggfruit', 'fig', 'grapes']\n",
        "\n",
        "result = [\"Yes Apple is in the list.\" for i in fruit_list if 'apple' in i] or [\"Not apple is not in list.\"]\n",
        "\n",
        "print(result[0])"
      ],
      "metadata": {
        "colab": {
          "base_uri": "https://localhost:8080/"
        },
        "id": "rfwj9hQVHWum",
        "outputId": "202178e0-0026-4520-e687-d4d42d969d61"
      },
      "execution_count": 30,
      "outputs": [
        {
          "output_type": "stream",
          "name": "stdout",
          "text": [
            "Yes Apple is in the list.\n"
          ]
        }
      ]
    },
    {
      "cell_type": "code",
      "source": [
        "names = ['Ch', 'Dh', 'Eh', 'cd', 'Tb', 'Td']\n",
        "\n",
        "result = [ i for i in names if i.lower()[0] == 'c']\n",
        "print(result)"
      ],
      "metadata": {
        "colab": {
          "base_uri": "https://localhost:8080/"
        },
        "id": "d9Am5w2VIU-2",
        "outputId": "9c5b5a2a-ab87-4d5e-a479-5fabfe6dff5a"
      },
      "execution_count": 29,
      "outputs": [
        {
          "output_type": "stream",
          "name": "stdout",
          "text": [
            "['Ch', 'cd']\n"
          ]
        }
      ]
    },
    {
      "cell_type": "code",
      "source": [
        "names = ['Ch', 'Dh', 'Eh', 'cd', 'Tb', 'Td']\n",
        "\n",
        "result = [ i for i in names if i.lower().startswith('c')]\n",
        "print(result)"
      ],
      "metadata": {
        "colab": {
          "base_uri": "https://localhost:8080/"
        },
        "id": "ti_k0PPtJQ3I",
        "outputId": "9487137f-97e6-4a32-e30c-6ec8b953eae5"
      },
      "execution_count": 31,
      "outputs": [
        {
          "output_type": "stream",
          "name": "stdout",
          "text": [
            "['Ch', 'cd']\n"
          ]
        }
      ]
    },
    {
      "cell_type": "code",
      "source": [
        "for i in range(3):\n",
        "  for j in range(3):\n",
        "    print(j, end=' ')\n",
        "  print()"
      ],
      "metadata": {
        "colab": {
          "base_uri": "https://localhost:8080/"
        },
        "id": "RQb6NUbkMZGW",
        "outputId": "ff46495a-b2b0-40ee-df0d-ce0fd818dcea"
      },
      "execution_count": 40,
      "outputs": [
        {
          "output_type": "stream",
          "name": "stdout",
          "text": [
            "0 1 2 \n",
            "0 1 2 \n",
            "0 1 2 \n"
          ]
        }
      ]
    },
    {
      "cell_type": "code",
      "source": [
        "list_matrix = [[i for i in range(3)] for j in range(3)]\n",
        "\n",
        "list_matrix"
      ],
      "metadata": {
        "colab": {
          "base_uri": "https://localhost:8080/"
        },
        "id": "NGDhZD5xLAfD",
        "outputId": "e967e320-7344-4b43-f1f5-9a36e6ecd16c"
      },
      "execution_count": 35,
      "outputs": [
        {
          "output_type": "execute_result",
          "data": {
            "text/plain": [
              "[[0, 1, 2], [0, 1, 2], [0, 1, 2]]"
            ]
          },
          "metadata": {},
          "execution_count": 35
        }
      ]
    },
    {
      "cell_type": "code",
      "source": [
        "li_pyhton = [i for i in 'Python Programming']\n",
        "\n",
        "li_pyhton"
      ],
      "metadata": {
        "colab": {
          "base_uri": "https://localhost:8080/"
        },
        "id": "abkPIH-nMMAg",
        "outputId": "8c6671c6-db85-4001-db84-c70be7f7ff82"
      },
      "execution_count": 41,
      "outputs": [
        {
          "output_type": "execute_result",
          "data": {
            "text/plain": [
              "['P',\n",
              " 'y',\n",
              " 't',\n",
              " 'h',\n",
              " 'o',\n",
              " 'n',\n",
              " ' ',\n",
              " 'P',\n",
              " 'r',\n",
              " 'o',\n",
              " 'g',\n",
              " 'r',\n",
              " 'a',\n",
              " 'm',\n",
              " 'm',\n",
              " 'i',\n",
              " 'n',\n",
              " 'g']"
            ]
          },
          "metadata": {},
          "execution_count": 41
        }
      ]
    },
    {
      "cell_type": "code",
      "source": [
        "list1 = [ i for i in range(101) if i % 5 ==0 and i % 10 == 0]\n",
        "\n",
        "print(list1)"
      ],
      "metadata": {
        "colab": {
          "base_uri": "https://localhost:8080/"
        },
        "id": "uDTL5Bq5NV5o",
        "outputId": "14c09f93-e60f-4d23-c904-18aed1af01b6"
      },
      "execution_count": 43,
      "outputs": [
        {
          "output_type": "stream",
          "name": "stdout",
          "text": [
            "[0, 10, 20, 30, 40, 50, 60, 70, 80, 90, 100]\n"
          ]
        }
      ]
    },
    {
      "cell_type": "code",
      "source": [
        "two_dim = [[10 ,20, 30],\n",
        "           [40, 50, 60],\n",
        "           [70, 80, 90]]\n",
        "\n",
        "lit = [ [i[j] for i in two_dim] for j in range(len(two_dim))]\n",
        "\n",
        "print(lit)"
      ],
      "metadata": {
        "colab": {
          "base_uri": "https://localhost:8080/"
        },
        "id": "btQuvF7dODox",
        "outputId": "5ade8721-5cc3-4c54-afc1-4254eafe451a"
      },
      "execution_count": 49,
      "outputs": [
        {
          "output_type": "stream",
          "name": "stdout",
          "text": [
            "[[10, 40, 70], [20, 50, 80], [30, 60, 90]]\n"
          ]
        }
      ]
    },
    {
      "cell_type": "code",
      "source": [
        "two_dim = [[10, 20, 30],\n",
        "           [40, 50, 60],\n",
        "           [70, 80, 90]]\n",
        "\n",
        "lit = [i * j for row in two_dim for i in row for j in row]\n",
        "\n",
        "print(lit)"
      ],
      "metadata": {
        "colab": {
          "base_uri": "https://localhost:8080/"
        },
        "id": "6mxAgWguQr2c",
        "outputId": "bad89340-4584-4cf2-ee9d-b0112b93511f"
      },
      "execution_count": 52,
      "outputs": [
        {
          "output_type": "stream",
          "name": "stdout",
          "text": [
            "[100, 200, 300, 200, 400, 600, 300, 600, 900, 1600, 2000, 2400, 2000, 2500, 3000, 2400, 3000, 3600, 4900, 5600, 6300, 5600, 6400, 7200, 6300, 7200, 8100]\n"
          ]
        }
      ]
    },
    {
      "cell_type": "markdown",
      "source": [
        "#**Dictionary Comprehension**"
      ],
      "metadata": {
        "id": "N0_1_zV-SeVQ"
      }
    },
    {
      "cell_type": "code",
      "source": [
        "for i , j in enumerate(range(10)):\n",
        "  print(i , f' item{ j}')"
      ],
      "metadata": {
        "colab": {
          "base_uri": "https://localhost:8080/"
        },
        "id": "lRqDYZcFTzOO",
        "outputId": "7770915e-9049-4dad-92b5-8994dcc45b53"
      },
      "execution_count": 63,
      "outputs": [
        {
          "output_type": "stream",
          "name": "stdout",
          "text": [
            "0  item0\n",
            "1  item1\n",
            "2  item2\n",
            "3  item3\n",
            "4  item4\n",
            "5  item5\n",
            "6  item6\n",
            "7  item7\n",
            "8  item8\n",
            "9  item9\n"
          ]
        }
      ]
    },
    {
      "cell_type": "code",
      "source": [
        "for i in range()"
      ],
      "metadata": {
        "id": "VQcYb6x1UmfD"
      },
      "execution_count": null,
      "outputs": []
    },
    {
      "cell_type": "code",
      "source": [
        "dic_comp = { i : f'Item(i)' for i in range(10) }\n",
        "\n",
        "dic_comp"
      ],
      "metadata": {
        "colab": {
          "base_uri": "https://localhost:8080/"
        },
        "id": "SzP3OTMER456",
        "outputId": "2aa6979a-5dba-49a9-fc20-c7cfe8b3e212"
      },
      "execution_count": 56,
      "outputs": [
        {
          "output_type": "execute_result",
          "data": {
            "text/plain": [
              "{0: 'Item(i)',\n",
              " 1: 'Item(i)',\n",
              " 2: 'Item(i)',\n",
              " 3: 'Item(i)',\n",
              " 4: 'Item(i)',\n",
              " 5: 'Item(i)',\n",
              " 6: 'Item(i)',\n",
              " 7: 'Item(i)',\n",
              " 8: 'Item(i)',\n",
              " 9: 'Item(i)'}"
            ]
          },
          "metadata": {},
          "execution_count": 56
        }
      ]
    },
    {
      "cell_type": "code",
      "source": [],
      "metadata": {
        "id": "FMNa4UMGTPzp"
      },
      "execution_count": null,
      "outputs": []
    },
    {
      "cell_type": "markdown",
      "source": [
        "#**Set comprehension python**"
      ],
      "metadata": {
        "id": "09i9onOFVNjM"
      }
    },
    {
      "cell_type": "code",
      "source": [
        "numbers = [1, 2, 3, 4, 5, 5, 4, 3, 2]\n",
        "\n",
        "squares = {x  for x in numbers}\n",
        "\n",
        "set(squares)"
      ],
      "metadata": {
        "colab": {
          "base_uri": "https://localhost:8080/"
        },
        "id": "2VlZdYJlVTjI",
        "outputId": "be018191-192d-486a-c953-6f4e852df6a6"
      },
      "execution_count": 67,
      "outputs": [
        {
          "output_type": "execute_result",
          "data": {
            "text/plain": [
              "{1, 2, 3, 4, 5}"
            ]
          },
          "metadata": {},
          "execution_count": 67
        }
      ]
    },
    {
      "cell_type": "code",
      "source": [],
      "metadata": {
        "id": "y9-YYp7rVX-5"
      },
      "execution_count": null,
      "outputs": []
    },
    {
      "cell_type": "markdown",
      "source": [
        "#**Generative comprehension**"
      ],
      "metadata": {
        "id": "fUfQMjU0YBYf"
      }
    },
    {
      "cell_type": "code",
      "source": [],
      "metadata": {
        "id": "jMTbTNpQYD0a"
      },
      "execution_count": null,
      "outputs": []
    }
  ]
}