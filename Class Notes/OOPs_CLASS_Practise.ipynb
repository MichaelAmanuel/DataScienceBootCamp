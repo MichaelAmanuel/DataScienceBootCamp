{
  "nbformat": 4,
  "nbformat_minor": 0,
  "metadata": {
    "colab": {
      "provenance": []
    },
    "kernelspec": {
      "name": "python3",
      "display_name": "Python 3"
    },
    "language_info": {
      "name": "python"
    }
  },
  "cells": [
    {
      "cell_type": "code",
      "execution_count": null,
      "metadata": {
        "colab": {
          "base_uri": "https://localhost:8080/"
        },
        "id": "fJSE4eDgGxOf",
        "outputId": "099c583f-cd8d-4c20-e1f0-db84e36e3c9c"
      },
      "outputs": [
        {
          "output_type": "stream",
          "name": "stdout",
          "text": [
            "Deposit Successful\n",
            "Your Current Balance is  8000\n",
            "Withdraw Successful\n",
            "Your Current Balance is  0\n",
            "Your Current Balance is  0\n"
          ]
        }
      ],
      "source": [
        "#  Bank Account: Create a BankAccount class with\n",
        "# methods to deposit, withdraw, and get the current\n",
        "#  balance. Ensure that the balance can't go negative\n",
        "\n",
        "class BankAccount:\n",
        "  def __init__(self,balance=0):\n",
        "    self.balance=balance\n",
        "\n",
        "  def deposit(self,amount):\n",
        "    if amount>0:\n",
        "      print(\"Deposit Successful\")\n",
        "      self.balance=self.balance+amount\n",
        "      print(\"Your Current Balance is \",self.balance)\n",
        "    else:\n",
        "      print(\"Invalid Amount please enter value greater than 0\")\n",
        "      print(\"Your Current Balance is \",self.balance)\n",
        "\n",
        "  def withdraw(self,amount):\n",
        "    if self.balance>=amount:\n",
        "      self.balance=self.balance-amount\n",
        "      print(\"Withdraw Successful\")\n",
        "      print(\"Your Current Balance is \",self.balance)\n",
        "    else:\n",
        "      print(\"Can not withdraw more than current balance\")\n",
        "      print(\"Your Current Balance is \",self.balance)\n",
        "\n",
        "  def get_current_balance(self):\n",
        "    print(\"Your Current Balance is \",self.balance)\n",
        "\n",
        "\n",
        "bankaccout=BankAccount(1000)\n",
        "bankaccout.deposit(7000)\n",
        "bankaccout.withdraw(8000)\n",
        "bankaccout.get_current_balance()\n"
      ]
    },
    {
      "cell_type": "code",
      "source": [
        "# Library Catalog: Implement a Library class\n",
        "# with methods to add books, lend books, and\n",
        "#  return books. Keep track of available and borrowed book\n",
        "\n",
        "class Library:\n",
        "\n",
        "  def __init__(self, add_book):\n",
        "    self.total_books= add_book\n",
        "    self.remain = 0\n",
        "\n",
        "  def add_books(self, add_books):\n",
        "    self.total_books += add_books\n",
        "    print(f'{self.total_books} Total books ')\n",
        "\n",
        "  def lend_book(self, books_borrow):\n",
        "    self.total_books = self.total_books - books_borrow\n",
        "    print(f'Reader borrow {books_borrow} ampont of books')\n",
        "    print(f'{self.total_books} books remin in the library')\n",
        "\n",
        "  def return_book(self, book_returnde):\n",
        "    self.total_books = self.total_books + book_returnde\n",
        "    # self.remain = bookbook_returnde\n",
        "    print(f'Reader returned {book_returnde} ampont of books')\n",
        "    # print(f)\n",
        "    print(f'{self.total_books} books are in the library')\n",
        "\n",
        "\n",
        "reader = Library(1000)\n",
        "reader.add_books(120)\n",
        "reader.lend_book(30)\n",
        "reader.return_book(25)\n"
      ],
      "metadata": {
        "colab": {
          "base_uri": "https://localhost:8080/"
        },
        "id": "8gnxvXVuRFSN",
        "outputId": "73099db3-a999-4d8a-eaaf-9ac7042dc628"
      },
      "execution_count": null,
      "outputs": [
        {
          "output_type": "stream",
          "name": "stdout",
          "text": [
            "1120 Total books \n",
            "Reader borrow 30 ampont of books\n",
            "1090 books remin in the library\n",
            "Reader returned 25 ampont of books\n",
            "1115 books are in the library\n"
          ]
        }
      ]
    },
    {
      "cell_type": "code",
      "source": [
        "class Library:\n",
        "\n",
        "    def __init__(self, books=None):\n",
        "\n",
        "        try:\n",
        "\n",
        "            if not isinstance(books, list):\n",
        "\n",
        "                self.books = []\n",
        "\n",
        "                print(\"Books should be a list initializing with an empty catalog\")\n",
        "\n",
        "            else:\n",
        "\n",
        "                self.books = books.copy()\n",
        "\n",
        "        except:\n",
        "\n",
        "            self.books = []\n",
        "\n",
        "        print(self.books)"
      ],
      "metadata": {
        "id": "sCW05FivbQ_p"
      },
      "execution_count": null,
      "outputs": []
    },
    {
      "cell_type": "code",
      "source": [
        "class Library:\n",
        "  def __init__(self,books=[]):\n",
        "    try:\n",
        "      if str(books).isalnum():\n",
        "        print(\"Books should be a List intializing with empty catalog\")\n",
        "        self.books=[]\n",
        "      else:\n",
        "        print(str(type(books)))\n",
        "        if type(books) ==list:\n",
        "          if len(books)>0:\n",
        "            self.books=[]+list(books)\n",
        "        else:\n",
        "          self.books=[]\n",
        "    except:\n",
        "      self.books=[]\n",
        "    print(self.books)\n",
        "\n",
        "Library('1')"
      ],
      "metadata": {
        "colab": {
          "base_uri": "https://localhost:8080/"
        },
        "id": "zFoqxFnDbk-T",
        "outputId": "ad922c5e-cb00-4dde-d6c5-1f220444df82"
      },
      "execution_count": null,
      "outputs": [
        {
          "output_type": "stream",
          "name": "stdout",
          "text": [
            "Books should be a List intializing with empty catalog\n",
            "[]\n"
          ]
        },
        {
          "output_type": "execute_result",
          "data": {
            "text/plain": [
              "<__main__.Library at 0x7f73b9faee30>"
            ]
          },
          "metadata": {},
          "execution_count": 3
        }
      ]
    },
    {
      "cell_type": "code",
      "source": [
        "#Library Catalog: Implement a Library class with methods to add books, lend books, and return books.\n",
        "#Keep track of available and borrowed books.\n",
        "\n",
        "class Library:\n",
        "  def __init__(self,books=[]):\n",
        "    if type(books) ==list:\n",
        "      if len(books)>0:\n",
        "        self.books=[]+list(books)\n",
        "      else:\n",
        "        self.books=[]\n",
        "    else:\n",
        "      self.books=[]\n",
        "\n",
        "  def add_books(self,bookname):\n",
        "    self.books.append(str(bookname))\n",
        "\n",
        "  def lend_books(self,bookname):\n",
        "    try:\n",
        "      index=self.books.index(bookname)\n",
        "      self.books.pop(index)\n",
        "      print(\"Here we Found your book\")\n",
        "    except:\n",
        "      print(\"No Such Book in library catalog Please check available books\")\n",
        "\n",
        "  def return_book(self,bookname):\n",
        "    self.add_books(bookname)\n",
        "\n",
        "  def available_books(self):\n",
        "    print(\"Available books are\")\n",
        "    for k in  self.books:\n",
        "      print(k)\n",
        "\n",
        "\n",
        "library=Library(['harry potter','Lord of rings'])\n",
        "library.available_books()\n",
        "library.add_books('harry potter 2')\n",
        "library.add_books('harry potter 3')\n",
        "library.add_books('harry potter 4')\n",
        "library.available_books()\n",
        "library.lend_books(\"harry potter\")\n",
        "library.available_books()\n",
        "library.return_book(\"harry potter\")\n",
        "library.available_books()"
      ],
      "metadata": {
        "colab": {
          "base_uri": "https://localhost:8080/"
        },
        "id": "UaZgMWC08UfD",
        "outputId": "d3f5aed1-15e1-4223-fdea-312efeab7076"
      },
      "execution_count": null,
      "outputs": [
        {
          "output_type": "stream",
          "name": "stdout",
          "text": [
            "Available books are\n",
            "harry potter\n",
            "Lord of rings\n",
            "Available books are\n",
            "harry potter\n",
            "Lord of rings\n",
            "harry potter 2\n",
            "harry potter 3\n",
            "harry potter 4\n",
            "Here we Found your book\n",
            "Available books are\n",
            "Lord of rings\n",
            "harry potter 2\n",
            "harry potter 3\n",
            "harry potter 4\n",
            "Available books are\n",
            "Lord of rings\n",
            "harry potter 2\n",
            "harry potter 3\n",
            "harry potter 4\n",
            "harry potter\n"
          ]
        }
      ]
    }
  ]
}