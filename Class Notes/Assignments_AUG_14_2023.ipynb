{
  "nbformat": 4,
  "nbformat_minor": 0,
  "metadata": {
    "colab": {
      "provenance": []
    },
    "kernelspec": {
      "name": "python3",
      "display_name": "Python 3"
    },
    "language_info": {
      "name": "python"
    }
  },
  "cells": [
    {
      "cell_type": "code",
      "execution_count": 5,
      "metadata": {
        "colab": {
          "base_uri": "https://localhost:8080/"
        },
        "id": "UXyk_X8CemY3",
        "outputId": "4311baf1-bd14-4f43-b1f5-3f715f3922a0"
      },
      "outputs": [
        {
          "output_type": "stream",
          "name": "stdout",
          "text": [
            "How many years did you work for this company? 6\n",
            "What is your salary? 1200\n",
            "Your bonus is $ 60.0\n"
          ]
        }
      ],
      "source": [
        "\"\"\"1. A company decided to give bonus of 5% to employee if his/her year of\n",
        "service is more than 5 years.\"\"\"\n",
        "\n",
        "\n",
        "employee_year_of_service = float(input(\"How many years did you work for this company? \"))\n",
        "\n",
        "bonus = 0\n",
        "if employee_year_of_service > 5:\n",
        "  employee_salary = float(input(\"What is your salary? \"))\n",
        "  bonus = employee_salary * 0.05\n",
        "  print(f\"Your bonus is $ {bonus}\")\n",
        "else:\n",
        "  print(\"Sorry you are not qualified for the bounus\")\n"
      ]
    },
    {
      "cell_type": "code",
      "source": [
        "\"\"\"2.Take values of length and breadth of a rectangle from\n",
        " user and check if it is square or not.\"\"\"\n",
        "\n",
        "\n",
        "length = float(input(\"Enter the length of the rectangle: \"))\n",
        "breadth = float(input(\"Enter the breadth of the rectangle: \"))\n",
        "\n",
        "if length == breadth:\n",
        "    print(\"It's a square!\")\n",
        "else:\n",
        "    print(\"It's a rectangle.\")\n"
      ],
      "metadata": {
        "colab": {
          "base_uri": "https://localhost:8080/"
        },
        "id": "GNYcnCblhvZd",
        "outputId": "307b4809-b31b-4518-de79-78a1cb9ab068"
      },
      "execution_count": 11,
      "outputs": [
        {
          "output_type": "stream",
          "name": "stdout",
          "text": [
            "Enter the length of the rectangle: 12\n",
            "Enter the breadth of the rectangle: 12\n",
            "It's a square!\n"
          ]
        }
      ]
    },
    {
      "cell_type": "code",
      "source": [
        "# 3.Take two int values from user and print greatest among them\n",
        "\n",
        "first_number = int(input(\"What is the first number? \"))\n",
        "second_number = int(input(\"What is the second number\"))\n",
        "\n",
        "if first_number > second_number:\n",
        "  print(f\"The number {first_number} is greater than the number {second_number}.\")\n",
        "\n",
        "elif first_number < second_number:\n",
        "  print(f\"The number {first_number} is less than the number {second_number}.\")\n",
        "\n",
        "else:\n",
        "  print(f\"Both number are equal.\")"
      ],
      "metadata": {
        "colab": {
          "base_uri": "https://localhost:8080/"
        },
        "id": "0_YlgnGIjFbe",
        "outputId": "a2e3cd9d-24d5-467f-d9ba-b3df89987e00"
      },
      "execution_count": 16,
      "outputs": [
        {
          "output_type": "stream",
          "name": "stdout",
          "text": [
            "What is the first number? 12\n",
            "What is the second number11\n",
            "The number 12 is greater than the number 11.\n"
          ]
        }
      ]
    },
    {
      "cell_type": "code",
      "source": [
        "# 4.A shop will give discount of 10% if the cost of purchased quantity is more than 1000.\n",
        "# Ask user for quantity\n",
        "# Suppose, one unit will cost 100.\n",
        "# Judge and print total cost for user.\n",
        "\n",
        "quantity = float(input(\"enter the cost of at least one unit\"))\n",
        "\n",
        "if quantity *100 > 1000:\n",
        "  new_cost = quantity *100 - (quantity * 100) * 0.1\n",
        "  print(f\"You total cost after the discount is $ {new_cost}\")\n",
        "\n",
        "else:\n",
        "  print(f\"Sorry no discount for today.And the total cost is $ {quantity *100}\")\n"
      ],
      "metadata": {
        "colab": {
          "base_uri": "https://localhost:8080/"
        },
        "id": "8OZNn5SKk-sF",
        "outputId": "87733cca-877c-4cbb-81f8-feec41d38af6"
      },
      "execution_count": 9,
      "outputs": [
        {
          "output_type": "stream",
          "name": "stdout",
          "text": [
            "enter the cost of at least one unit11\n",
            "You total cost after the discount is $ 990.0\n"
          ]
        }
      ]
    },
    {
      "cell_type": "code",
      "source": [
        "\"\"\"5.A school has following rules for grading system:\n",
        "a. Below 25 - F\n",
        "b. 25 to 45 - E\n",
        "c. 45 to 50 - D\n",
        "d. 50 to 60 - C\n",
        "e. 60 to 80 - B\n",
        "f. Above 80 - A\n",
        "Ask user to enter marks and print the corresponding grade.\"\"\"\n",
        "\n",
        "student_name = input(\"What is your name? \")\n",
        "student_section = int(input(\"Which section are you? \"))\n",
        "student_subject = input(\"Which subject do you take? \")\n",
        "student_marks = float(input(f\"What mark did you got in {student_subject} subject\"))\n",
        "\n",
        "if student_marks > 100 or student_marks < 0:\n",
        "  print(f\"The mark {student_marks} you put is invalid\")\n",
        "\n",
        "elif student_marks <= 25:\n",
        "  print(f\"Sorry you got F in {student_subject}.\")\n",
        "\n",
        "elif student_marks > 25 or student_marks <= 45:\n",
        "  print(f\"You got E in {student_subject}\")\n",
        "\n",
        "elif student_marks > 45 or student_marks < 50:\n",
        "  print(f\"You got D in {student_marks}.\")\n",
        "\n",
        "elif student_marks > 50 or student_marks <= 60:\n",
        "  print(f\"You got C in {student_marks}.\")\n",
        "\n",
        "elif student_marks > 60 or student_marks <= 80:\n",
        "  print(f\"You got B in {student_marks}.\")\n",
        "\n",
        "else:\n",
        "  print(f\"You got A in {student_marks}.\")"
      ],
      "metadata": {
        "colab": {
          "base_uri": "https://localhost:8080/"
        },
        "id": "4kvtVjy9lgnD",
        "outputId": "24fe4d66-cd51-4387-bae4-90a395d2db04"
      },
      "execution_count": 26,
      "outputs": [
        {
          "output_type": "stream",
          "name": "stdout",
          "text": [
            "Which subject do you take? Math\n",
            "What mark did you got in Math subject55\n",
            "You got E in Math\n"
          ]
        }
      ]
    },
    {
      "cell_type": "code",
      "source": [
        "# 6.Take input of age of 3 people by user and determine oldest and youngest among them.\n",
        "\n",
        "age_one = int(input(\"Put the first person age. \"))\n",
        "age_two = int(input(\"Put second person age. \"))\n",
        "age_three = int(input(\"Put third person age. \"))\n",
        "\n",
        "\n",
        "if age_one >= age_two and age_one > age_three:\n",
        "  if age_two > age_three:\n",
        "    print(f\"{age_one} is the oldest and {age_three} is the youngest\")\n",
        "\n",
        "  else:\n",
        "    print(f\"{age_one} is the oldest and {age_two} is the youngest\")\n",
        "\n",
        "elif age_one <= age_two and age_two > age_three:\n",
        "\n",
        "  if age_one > age_three:\n",
        "    print(f\"{age_two} is the oldest and {age_three} is the youngest\")\n",
        "  else:\n",
        "    print(f\"{age_two} is the oldest and {age_one} is the youngest\")\n",
        "\n",
        "elif age_one <= age_three and age_two < age_three:\n",
        "  if age_one > age_two:\n",
        "    print(f\"{age_three} is the oldest and {age_two} is the youngest\")\n",
        "  else:\n",
        "    print(f\"{age_three} is the oldest and {age_one} is the youngest\")\n",
        "else:\n",
        "  print('All are equale1')"
      ],
      "metadata": {
        "colab": {
          "base_uri": "https://localhost:8080/"
        },
        "id": "sqfVQ84PrEzn",
        "outputId": "ccbcedd5-2075-48b3-bd2e-cc9bcd6f08c9"
      },
      "execution_count": 14,
      "outputs": [
        {
          "output_type": "stream",
          "name": "stdout",
          "text": [
            "Put the first person age. 12\n",
            "Put second person age. 12\n",
            "Put third person age. 12\n",
            "all are equale1\n"
          ]
        }
      ]
    },
    {
      "cell_type": "code",
      "source": [
        "\"\"\"7.Write a program to print absolute vlaue of a number entered by user. E.g.-\n",
        "INPUT: 1        OUTPUT: 1\n",
        "INPUT: -1        OUTPUT: 1\"\"\"\n",
        "\n",
        "input_num = int(input(\"Put the number. \"))\n",
        "\n",
        "if input_num < 0:\n",
        "  ab_num = input_num * -1\n",
        "  print(f\"The absolute number of {input_num} is {ab_num}\")\n",
        "else:\n",
        "  print(f\"The absolute number of {input_num} is {input_num}\")\n"
      ],
      "metadata": {
        "colab": {
          "base_uri": "https://localhost:8080/"
        },
        "id": "qK5synHAyOK5",
        "outputId": "20936f2e-37fe-42b9-8e52-f97c8ead968e"
      },
      "execution_count": 32,
      "outputs": [
        {
          "output_type": "stream",
          "name": "stdout",
          "text": [
            "Put the number. -1\n",
            "The absolute number of -1 is 1\n"
          ]
        }
      ]
    },
    {
      "cell_type": "code",
      "source": [
        "# 8.A student will not be allowed to sit in exam if his/her attendence is less than 75%.\n",
        "# Take following input from user\n",
        "# Number of classes held\n",
        "# Number of classes attended.\n",
        "# And print\n",
        "# percentage of class attended\n",
        "# Is student is allowed to sit in exam or not.\n",
        "\n",
        "user_name = input(\"What is your name? \")\n",
        "num_class_held = int(input(\"What are the total class hold? \"))\n",
        "num_class_attend = int(input(\"How many class did you attends? \"))\n",
        "\n",
        "persentage_of_class_attend = round((num_class_attend/num_class_held) * 100, 2)\n",
        "print(f\"Number of class attend {persentage_of_class_attend} %\")\n",
        "if persentage_of_class_attend > 75:\n",
        "  print(f\"Congrats {user_name} you are allowed to sit in the exam.\")\n",
        "\n",
        "else:\n",
        "  print(f\"Sorry {user_name} your attendance is to low and you\"\n",
        "          \" are not allowed to sit in the exam \")"
      ],
      "metadata": {
        "colab": {
          "base_uri": "https://localhost:8080/"
        },
        "id": "PUtAW69Fz0Ba",
        "outputId": "908a1f33-03aa-4572-f696-85add41dd49a"
      },
      "execution_count": 17,
      "outputs": [
        {
          "output_type": "stream",
          "name": "stdout",
          "text": [
            "What is your name? Mike\n",
            "What are the total class hold? 88\n",
            "How many class did you attends? 78\n",
            "Number of class attend 88.64 %\n",
            "Congrats Mike you are allowed to sit in the exam.\n"
          ]
        }
      ]
    },
    {
      "cell_type": "code",
      "source": [
        "\"\"\"\n",
        "9.Modify the above question to allow student to sit if\n",
        "    he/she has medical cause. Ask user if he/she has\n",
        "    medical cause or not ( 'Y' or 'N' )  and print accordingly.\n",
        "\"\"\"\n",
        "\n",
        "user_name = input(\"What is your name? \")\n",
        "num_class_held = int(input(\"What are the total class hold? \"))\n",
        "num_class_attend = int(input(\"How many class did you attends? \"))\n",
        "\n",
        "persentage_of_class_attend = round((num_class_attend/num_class_held) * 100, 2)\n",
        "print(f\"Number of class attend {persentage_of_class_attend} %\")\n",
        "\n",
        "if persentage_of_class_attend > 75:\n",
        "  print(f\"Congrats {user_name} you are allowed to sit in the exam.\")\n",
        "\n",
        "else:\n",
        "  medical_cause = input(\"Do have any medical cause?\").lower()\n",
        "  if medical_cause == 'y':\n",
        "     print(f\"Congrats {user_name} you are allowed to sit in the exam.\")\n",
        "\n",
        "  else:\n",
        "    print(f\"Sorry {user_name} your attendance is to low and you \"\n",
        "            \"are not allowed to sit in the exam.\")"
      ],
      "metadata": {
        "colab": {
          "base_uri": "https://localhost:8080/"
        },
        "id": "g9C4a-tW1wlq",
        "outputId": "148303a5-9d93-4da6-9cae-44c28479a35a"
      },
      "execution_count": 21,
      "outputs": [
        {
          "output_type": "stream",
          "name": "stdout",
          "text": [
            "What is your name? mike\n",
            "What are the total class hold? 100\n",
            "How many class did you attends? 12\n",
            "Number of class attend 12.0 %\n",
            "Do have any medical cause?n\n",
            "Sorry mike your attendance is to low and you are not allowed to sit in the exam.\n"
          ]
        }
      ]
    }
  ]
}