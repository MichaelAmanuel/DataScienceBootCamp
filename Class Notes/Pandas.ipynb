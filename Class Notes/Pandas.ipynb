{
  "nbformat": 4,
  "nbformat_minor": 0,
  "metadata": {
    "colab": {
      "provenance": []
    },
    "kernelspec": {
      "name": "python3",
      "display_name": "Python 3"
    },
    "language_info": {
      "name": "python"
    }
  },
  "cells": [
    {
      "cell_type": "code",
      "execution_count": 1,
      "metadata": {
        "id": "H0gZ9oNyXoHo"
      },
      "outputs": [],
      "source": [
        "import numpy as np\n",
        "import pandas as pd\n",
        "import matplotlib.pyplot as plt"
      ]
    },
    {
      "cell_type": "code",
      "source": [
        "import matplotlib.pyplot as plt"
      ],
      "metadata": {
        "id": "LWptSoS2ZTVy"
      },
      "execution_count": 2,
      "outputs": []
    },
    {
      "cell_type": "code",
      "source": [
        "fig, ax = plt.subplots()\n",
        "\n",
        "fruits = ['appls', 'blueberry', 'charry', 'orange']\n",
        "counts = [40, 100, 30, 55]\n",
        "\n",
        "bar_labels = ['red', 'green', 'yellow', 'blue']\n",
        "bar_colors = ['tab:red', 'tab:green', 'tab:orange', 'tab:blue']\n",
        "\n",
        "ax.set_ylabel('fruit supply')\n",
        "ax.set_xlabel('fruits')\n",
        "ax.set_title('Fruit supply by kind and color')\n",
        "ax.legend(title='Fruit color')\n",
        "\n",
        "ax.bar(fruits, counts, label=bar_labels, color=bar_colors)"
      ],
      "metadata": {
        "colab": {
          "base_uri": "https://localhost:8080/",
          "height": 527
        },
        "id": "l4MQychPZZHd",
        "outputId": "de24159c-fe5b-497a-889b-1d65d8218128"
      },
      "execution_count": 6,
      "outputs": [
        {
          "output_type": "stream",
          "name": "stderr",
          "text": [
            "WARNING:matplotlib.legend:No artists with labels found to put in legend.  Note that artists whose label start with an underscore are ignored when legend() is called with no argument.\n"
          ]
        },
        {
          "output_type": "execute_result",
          "data": {
            "text/plain": [
              "<BarContainer object of 4 artists>"
            ]
          },
          "metadata": {},
          "execution_count": 6
        },
        {
          "output_type": "display_data",
          "data": {
            "text/plain": [
              "<Figure size 640x480 with 1 Axes>"
            ],
            "image/png": "[encoded data removed]"
          },
          "metadata": {}
        }
      ]
    },
    {
      "cell_type": "code",
      "source": [],
      "metadata": {
        "colab": {
          "base_uri": "https://localhost:8080/"
        },
        "id": "2NtcHxOsbUlz",
        "outputId": "670fcb7f-9aa9-4944-b134-7f850e30b4da"
      },
      "execution_count": 11,
      "outputs": [
        {
          "output_type": "execute_result",
          "data": {
            "text/plain": [
              "Text(24.000000000000007, 0.5, 'Values')"
            ]
          },
          "metadata": {},
          "execution_count": 11
        }
      ]
    },
    {
      "cell_type": "code",
      "source": [],
      "metadata": {
        "id": "PovPLk4zbolS"
      },
      "execution_count": null,
      "outputs": []
    },
    {
      "cell_type": "code",
      "source": [
        "from matplotlib import pyplot as plt\n",
        "import matplotlib.pyplot as plt\n",
        "import matplotlib.pyplot as plt\n",
        "\n",
        "plt.rcParams['font.family'] = 'sans-serif'\n",
        "plt.rcParams['font.family'] = 'Arial'\n",
        "\n",
        "plt.xkcd()\n",
        "\n",
        "ages_x = [18, 19, 20, 21, 22, 23, 24, 25, 26, 27, 28, 29, 30, 31,\n",
        "          32, 33, 34, 35, 36, 37, 38, 39, 40, 41, 42, 43, 44, 45,\n",
        "          46, 47, 48, 49, 50, 51, 52, 53, 54, 55]\n",
        "\n",
        "py_dev_y = [20046, 17100, 20000, 24744, 30500, 37732, 41247, 45372,\n",
        "            48876, 53850, 57287, 63016, 65998, 70003, 70000, 71496,\n",
        "            75370, 83640, 84666, 84392, 78254, 85000, 87038, 91991,\n",
        "            100000, 94796, 97962, 93302, 99240, 102736, 112285,\n",
        "            100771, 104708, 108423, 101407, 112542, 122870, 120000]\n",
        "\n",
        "plt.plot(ages_x, py_dev_y, label='Python')\n",
        "\n",
        "js_dev_y = [16446, 16791, 18942, 21780, 25704, 29000, 34372, 37810, 43515,\n",
        "            46823, 49293, 53437, 56373, 62375, 66674, 68745, 68746, 74583,\n",
        "            79000, 78508, 79996, 80403, 83820, 88833, 91660, 87892, 96243,\n",
        "            90000, 99313, 91660, 102264, 100000, 100000, 91660, 99240,\n",
        "            108000, 105000, 104000]\n",
        "plt.plot(ages_x, js_dev_y, label='JavaScript')\n",
        "\n",
        "dev_y = [17784, 16500, 18012, 20628, 25206, 30252, 34368, 38496, 42000, 46752,\n",
        "         49320, 53200, 56000, 62316, 64928, 67317, 68748, 73752, 77232,\n",
        "         78000, 78508, 79536, 82488, 88935, 90000, 90056, 95000, 90000, 91633,\n",
        "         91660, 98150, 98964, 100000, 98988, 100000, 108923, 105000, 103117]\n",
        "\n",
        "\n",
        "ax.plot(ages_x, dev_y, color='#444444', linestyle='--', label='All Devs')\n",
        "\n",
        "\n",
        "plt.xlabel('Ages')\n",
        "plt.ylabel('Median Salary (USD)')\n",
        "plt.title('Median Salary (USD) by Age')\n",
        "\n",
        "plt.legend()\n",
        "\n",
        "plt.tight_layout()\n",
        "\n",
        "plt.savefig('plot.png')\n",
        "\n",
        "plt.show()"
      ],
      "metadata": {
        "id": "tb114CCJdF3Z"
      },
      "execution_count": null,
      "outputs": []
    },
    {
      "cell_type": "code",
      "source": [
        "import numpy as np\n",
        "import pandas as pd\n",
        "import matplotlib.pyplot as plt\n",
        "from collections import Counter\n",
        "import csv\n",
        "\n",
        "plt.style.use(\"fivethirtyeight\")\n",
        "\n",
        "path = 'https://raw.githubusercontent.com/CoreyMSchafer/code_snippets/master/Python/Matplotlib/02-BarCharts/data.csv'\n",
        "data = pd.read_csv(path)\n",
        "\n",
        "ids = data['Responder_id']\n",
        "lang_responses = data['LanguagesWorkedWith']\n",
        "\n",
        "language_counter = Counter()\n",
        "\n",
        "for response in lang_responses:\n",
        "    language_counter.update(response.split(';'))\n",
        "\n",
        "languages = []\n",
        "popularity = []\n",
        "\n",
        "for item in language_counter.most_common(15):\n",
        "    languages.append(item[0])\n",
        "    popularity.append(item[1])\n",
        "\n",
        "languages.reverse()\n",
        "popularity.reverse()\n",
        "\n",
        "plt.barh(languages, popularity)\n",
        "\n",
        "plt.title(\"Most Popular Languages\")\n",
        "# plt.ylabel(\"Programming Languages\")\n",
        "plt.xlabel(\"Number of People Who Use\")\n",
        "\n",
        "plt.tight_layout()\n",
        "\n",
        "plt.show()"
      ],
      "metadata": {
        "id": "9UNVOYvcewiW"
      },
      "execution_count": null,
      "outputs": []
    }
  ]
}