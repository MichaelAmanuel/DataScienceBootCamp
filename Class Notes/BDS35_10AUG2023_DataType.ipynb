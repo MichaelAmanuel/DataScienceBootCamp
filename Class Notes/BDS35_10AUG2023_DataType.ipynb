{
  "nbformat": 4,
  "nbformat_minor": 0,
  "metadata": {
    "colab": {
      "provenance": []
    },
    "kernelspec": {
      "name": "python3",
      "display_name": "Python 3"
    },
    "language_info": {
      "name": "python"
    }
  },
  "cells": [
    {
      "cell_type": "code",
      "execution_count": 7,
      "metadata": {
        "colab": {
          "base_uri": "https://localhost:8080/"
        },
        "id": "cLCMW3SG6PXD",
        "outputId": "db621f84-972f-4308-aae4-469b3984f96e"
      },
      "outputs": [
        {
          "output_type": "stream",
          "name": "stdout",
          "text": [
            "Peppa\n",
            "prefer\n",
            "Python\n",
            "Programming\n"
          ]
        }
      ],
      "source": [
        "str = 'Peppa prefer Python Programming'\n",
        "print(str[:5:1])\n",
        "print(str[6:12:1])\n",
        "print(str[13:19:1])\n",
        "print(str[20::])"
      ]
    },
    {
      "cell_type": "code",
      "source": [
        "str = \"Michael Amanuel Fsehatsion\"\n",
        "print(str[:])\n",
        "print(str[-1::-1])\n",
        "print(str[-1:-11:-1])"
      ],
      "metadata": {
        "colab": {
          "base_uri": "https://localhost:8080/"
        },
        "id": "dhoMecNW8LWz",
        "outputId": "279db84c-2902-4db9-f5ec-28bdff942e96"
      },
      "execution_count": 24,
      "outputs": [
        {
          "output_type": "stream",
          "name": "stdout",
          "text": [
            "Michael Amanuel Fsehatsion\n",
            "noistahesF leunamA leahciM\n",
            "noistahesF\n"
          ]
        }
      ]
    },
    {
      "cell_type": "code",
      "source": [
        "str = 'VenkataNarasimhaRajuvaripeta'\n",
        "print(str[-22:-29:-1])\n",
        "print(str[-13:-22:-1])\n",
        "print(str[-1:-13:-1])\n"
      ],
      "metadata": {
        "colab": {
          "base_uri": "https://localhost:8080/"
        },
        "id": "wVHyksws_-C7",
        "outputId": "e961287f-c8c4-43f4-c944-1d1d1dff52bb"
      },
      "execution_count": 36,
      "outputs": [
        {
          "output_type": "stream",
          "name": "stdout",
          "text": [
            "atakneV\n",
            "ahmisaraN\n",
            "atepiravujaR\n"
          ]
        }
      ]
    },
    {
      "cell_type": "code",
      "source": [
        "str = 'Michael Amanuel Fsehatsion Habte'\n",
        "print(len(str))\n",
        "print(str[6::-1])\n",
        "print(str[-1::-6])\n",
        "print(str[15:6:-1])\n",
        "print(str[27:15:-1])"
      ],
      "metadata": {
        "colab": {
          "base_uri": "https://localhost:8080/"
        },
        "id": "FeJMlOypEbTd",
        "outputId": "90b35312-6838-4ac8-f035-9ceabfaa6f8c"
      },
      "execution_count": 43,
      "outputs": [
        {
          "output_type": "stream",
          "name": "stdout",
          "text": [
            "32\n",
            "leahciM\n",
            "enhe i\n",
            " leunamA \n",
            "H noistahesF\n"
          ]
        }
      ]
    },
    {
      "cell_type": "markdown",
      "source": [],
      "metadata": {
        "id": "gl0L2Px2PiCU"
      }
    },
    {
      "cell_type": "code",
      "source": [
        "# -ve index +ve value\n",
        "str = 'Michael Amanuel Fsehatsion Habte'\n",
        "str[-6::],str[-17:-6:], str[-24:-17:],str[-32:-25:]"
      ],
      "metadata": {
        "colab": {
          "base_uri": "https://localhost:8080/"
        },
        "id": "-Qq5zsuHHyLZ",
        "outputId": "d0fe8f99-59ca-4fcf-9b28-51c4e64ee305"
      },
      "execution_count": 61,
      "outputs": [
        {
          "output_type": "execute_result",
          "data": {
            "text/plain": [
              "(' Habte', ' Fsehatsion', 'Amanuel', 'Michael')"
            ]
          },
          "metadata": {},
          "execution_count": 61
        }
      ]
    },
    {
      "cell_type": "code",
      "source": [
        "list = [\"apple\", \"banana\", \"orange\", \"grape\", \"pear\", \"watermelon\", \"kiwi\", \"strawberry\", \"mango\"]\n",
        "print(list)\n",
        "print(type(list))"
      ],
      "metadata": {
        "colab": {
          "base_uri": "https://localhost:8080/"
        },
        "id": "uLmal_fANpwF",
        "outputId": "1f65dba7-c539-48d9-f9f6-7156596dd9b1"
      },
      "execution_count": 62,
      "outputs": [
        {
          "output_type": "stream",
          "name": "stdout",
          "text": [
            "['apple', 'banana', 'orange', 'grape', 'pear', 'watermelon', 'kiwi', 'strawberry', 'mango']\n",
            "<class 'list'>\n"
          ]
        }
      ]
    },
    {
      "cell_type": "code",
      "source": [
        "list = [\"apple\", \"banana\", \"orange\", \"grape\", \"pear\", \"watermelon\", \"kiwi\", \"strawberry\", \"mango\"]\n",
        "list[0], list[1],list[2], list[3],list[4], list[5],list[6], list[7],list[8]"
      ],
      "metadata": {
        "colab": {
          "base_uri": "https://localhost:8080/"
        },
        "id": "vLXLwaPSOFVY",
        "outputId": "cda145be-ca98-47ee-8b05-5d64e90932a2"
      },
      "execution_count": 82,
      "outputs": [
        {
          "output_type": "execute_result",
          "data": {
            "text/plain": [
              "('apple',\n",
              " 'banana',\n",
              " 'orange',\n",
              " 'grape',\n",
              " 'pear',\n",
              " 'watermelon',\n",
              " 'kiwi',\n",
              " 'strawberry',\n",
              " 'mango')"
            ]
          },
          "metadata": {},
          "execution_count": 82
        }
      ]
    },
    {
      "cell_type": "code",
      "source": [
        "list = [\"apple\", \"banana\", \"orange\", \"grape\", \"pear\", \"watermelon\", \"kiwi\", \"strawberry\", \"mango\"]\n",
        "print(list[::])\n",
        "print(list[0::])\n",
        "print(list[:len(list):])\n",
        "print(list[::1])\n",
        "print(list[0:len(list):1])\n",
        "print(list[::-1])\n",
        "print(list[-1::-1])"
      ],
      "metadata": {
        "colab": {
          "base_uri": "https://localhost:8080/"
        },
        "id": "cBiclMyTOc0o",
        "outputId": "bd4c4ff5-989d-43de-9d0a-4c6bda780cea"
      },
      "execution_count": 83,
      "outputs": [
        {
          "output_type": "stream",
          "name": "stdout",
          "text": [
            "['apple', 'banana', 'orange', 'grape', 'pear', 'watermelon', 'kiwi', 'strawberry', 'mango']\n",
            "['apple', 'banana', 'orange', 'grape', 'pear', 'watermelon', 'kiwi', 'strawberry', 'mango']\n",
            "['apple', 'banana', 'orange', 'grape', 'pear', 'watermelon', 'kiwi', 'strawberry', 'mango']\n",
            "['apple', 'banana', 'orange', 'grape', 'pear', 'watermelon', 'kiwi', 'strawberry', 'mango']\n",
            "['apple', 'banana', 'orange', 'grape', 'pear', 'watermelon', 'kiwi', 'strawberry', 'mango']\n",
            "['mango', 'strawberry', 'kiwi', 'watermelon', 'pear', 'grape', 'orange', 'banana', 'apple']\n",
            "['mango', 'strawberry', 'kiwi', 'watermelon', 'pear', 'grape', 'orange', 'banana', 'apple']\n"
          ]
        }
      ]
    },
    {
      "cell_type": "code",
      "source": [
        "it_companies = [\"MS\",\"Apple\",\"Google\",\"Amazon\",\"Facebook\",\n",
        "                \"IBM\",\"Intel\",\"Oracle\",\"Adobe\",\"Cisco\"]\n",
        "\n",
        "print(it_companies[0:5:1])     # +ve indexing +ve slicing\n",
        "print(it_companies[6::-1])     # +ve indexing -ve slicing\n",
        "print(it_companies[-7::])      # -ve indexing +ve slicing\n",
        "print(it_companies[-1:-6:-1])   # -ve indexing -ve slicing"
      ],
      "metadata": {
        "colab": {
          "base_uri": "https://localhost:8080/"
        },
        "id": "eMHhNAKQQMTd",
        "outputId": "b2cd598f-1829-43cf-a9da-ac17b6bb33f4"
      },
      "execution_count": 80,
      "outputs": [
        {
          "output_type": "stream",
          "name": "stdout",
          "text": [
            "['MS', 'Apple', 'Google', 'Amazon', 'Facebook']\n",
            "['Intel', 'IBM', 'Facebook', 'Amazon', 'Google', 'Apple', 'MS']\n",
            "['Amazon', 'Facebook', 'IBM', 'Intel', 'Oracle', 'Adobe', 'Cisco']\n",
            "['Cisco', 'Adobe', 'Oracle', 'Intel', 'IBM']\n"
          ]
        }
      ]
    },
    {
      "cell_type": "code",
      "source": [
        "car_companies = (\"Toyota\",\"Ford\",\"Honda\",\"Chevrolet\",\"Volkswagen\",\n",
        "                 \"BMW\",\"Mercedes-Benz\",\"Nissan\",\"Audi\",\"Hyundai\")\n",
        "\n",
        "print(car_companies[0:5:1])      # +ve indexing +ve slicing\n",
        "print(car_companies[6::-1])      # +ve indexing -ve slicing\n",
        "print(car_companies[-7::])       # -ve indexing +ve slicing\n",
        "print(car_companies[-1:-6:-1])   # -ve indexing -ve slicing"
      ],
      "metadata": {
        "colab": {
          "base_uri": "https://localhost:8080/"
        },
        "id": "i-UxCGA7R7ex",
        "outputId": "15152b3c-f548-45ed-c981-ac1b96e51a29"
      },
      "execution_count": 81,
      "outputs": [
        {
          "output_type": "stream",
          "name": "stdout",
          "text": [
            "('Toyota', 'Ford', 'Honda', 'Chevrolet', 'Volkswagen')\n",
            "('Mercedes-Benz', 'BMW', 'Volkswagen', 'Chevrolet', 'Honda', 'Ford', 'Toyota')\n",
            "('Chevrolet', 'Volkswagen', 'BMW', 'Mercedes-Benz', 'Nissan', 'Audi', 'Hyundai')\n",
            "('Hyundai', 'Audi', 'Nissan', 'Mercedes-Benz', 'BMW')\n"
          ]
        }
      ]
    }
  ]
}