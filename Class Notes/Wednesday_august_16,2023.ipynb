{
  "nbformat": 4,
  "nbformat_minor": 0,
  "metadata": {
    "colab": {
      "provenance": []
    },
    "kernelspec": {
      "name": "python3",
      "display_name": "Python 3"
    },
    "language_info": {
      "name": "python"
    }
  },
  "cells": [
    {
      "cell_type": "code",
      "execution_count": 34,
      "metadata": {
        "id": "Vxx4iEm55LC_",
        "colab": {
          "base_uri": "https://localhost:8080/"
        },
        "outputId": "ff6822cf-8c74-402f-ab88-1d1513a43706"
      },
      "outputs": [
        {
          "output_type": "stream",
          "name": "stdout",
          "text": [
            "[0, 1, 1, 2, 3, 5, 8, 13, 21, 34]\n"
          ]
        }
      ],
      "source": [
        "#  Fibonacci series\n",
        "# 0 , 1, 1, 2, 3, 5, 8, 13, 21, 34.....\n",
        "\n",
        "# num = input(\"Enter the number?\")\n",
        "\n",
        "a, b = 0, 1\n",
        "\n",
        "f = [0, 1]\n",
        "for i in range(2, int(10)):\n",
        "    c = a + b\n",
        "    a = b\n",
        "    b = c\n",
        "    f.append(c)\n",
        "\n",
        "print(f)\n"
      ]
    },
    {
      "cell_type": "code",
      "source": [
        "stu_record = {'Sameer': 89, 'Sabina': 47,'Inder': 37, 'Kshav':57, 'kisto':61}\n",
        "\n",
        "for key, value in stu_record.items():\n",
        "    if value >= 80:\n",
        "        print(f\"{key}, score: {value} u got A\")\n",
        "    elif 60 < value < 80:\n",
        "        print(f\"{key}, score: {value} u got B\")\n",
        "    elif 50 < value <= 60:\n",
        "        print(f\"{key}, score: {value} u got c\")\n",
        "    elif 40 < value <= 50:\n",
        "        print(f\"{key}, score: {value} u got D\")\n",
        "    else:\n",
        "        print(f\"{key}, score: {value} u Fail\")\n",
        "\n"
      ],
      "metadata": {
        "colab": {
          "base_uri": "https://localhost:8080/"
        },
        "id": "mk5DvuhnBb1f",
        "outputId": "e5ab5031-2782-4924-f843-e119a2f7f835"
      },
      "execution_count": 57,
      "outputs": [
        {
          "output_type": "stream",
          "name": "stdout",
          "text": [
            "Sameer, score: 89 u got A\n",
            "Sabina, score: 47 u got D\n",
            "Inder, score: 37 u Fail\n",
            "Kshav, score: 57 u got c\n",
            "kisto, score: 61 u got B\n"
          ]
        }
      ]
    },
    {
      "cell_type": "code",
      "source": [],
      "metadata": {
        "id": "yMMjE-haGc15"
      },
      "execution_count": null,
      "outputs": []
    },
    {
      "cell_type": "markdown",
      "source": [
        "Function in Python\n",
        "\n"
      ],
      "metadata": {
        "id": "Gz6PFJPRHkoY"
      }
    },
    {
      "cell_type": "code",
      "source": [
        "# Type casting Function\n",
        " int() , float(), complex(),"
      ],
      "metadata": {
        "id": "0gihF8k6HvZ2"
      },
      "execution_count": null,
      "outputs": []
    },
    {
      "cell_type": "code",
      "source": [
        "int_one = 1947\n",
        "print(float(int_one))\n",
        "print(complex(int_one))\n",
        "print(bool(int_one))\n",
        "print(str(int_one))"
      ],
      "metadata": {
        "colab": {
          "base_uri": "https://localhost:8080/"
        },
        "id": "yrEGBjZjIC22",
        "outputId": "e948fb7f-68c0-4b69-9573-6b6d45b43ff9"
      },
      "execution_count": 59,
      "outputs": [
        {
          "output_type": "stream",
          "name": "stdout",
          "text": [
            "1947.0\n",
            "(1947+0j)\n",
            "True\n",
            "1947\n"
          ]
        }
      ]
    },
    {
      "cell_type": "code",
      "source": [
        "bin(), oct(), hex()"
      ],
      "metadata": {
        "id": "R9ee_WhxI27c"
      },
      "execution_count": null,
      "outputs": []
    },
    {
      "cell_type": "code",
      "source": [
        "# decimal => bin(), oct(), hex()\n",
        "for i in range(0, 50):\n",
        "  print(\"Decimal: \", i,',Binary: ', bin(i),',Octa decimal: ', oct(i),',Hexa Decimal; ', hex(i))\n",
        "  # print('Binaty: ', bin(i))\n",
        "  # print('Octa decimal: ', oct(i))\n",
        "  # print('Hexa Decimal; ', hex(i))"
      ],
      "metadata": {
        "colab": {
          "base_uri": "https://localhost:8080/"
        },
        "id": "S4tqgBi3I9E5",
        "outputId": "e7280cd4-89a8-443d-fe0d-9ca25872d9f8"
      },
      "execution_count": 69,
      "outputs": [
        {
          "output_type": "stream",
          "name": "stdout",
          "text": [
            "Decimal:  0 ,Binary:  0b0 ,Octa decimal:  0o0 ,Hexa Decimal;  0x0\n",
            "Decimal:  1 ,Binary:  0b1 ,Octa decimal:  0o1 ,Hexa Decimal;  0x1\n",
            "Decimal:  2 ,Binary:  0b10 ,Octa decimal:  0o2 ,Hexa Decimal;  0x2\n",
            "Decimal:  3 ,Binary:  0b11 ,Octa decimal:  0o3 ,Hexa Decimal;  0x3\n",
            "Decimal:  4 ,Binary:  0b100 ,Octa decimal:  0o4 ,Hexa Decimal;  0x4\n",
            "Decimal:  5 ,Binary:  0b101 ,Octa decimal:  0o5 ,Hexa Decimal;  0x5\n",
            "Decimal:  6 ,Binary:  0b110 ,Octa decimal:  0o6 ,Hexa Decimal;  0x6\n",
            "Decimal:  7 ,Binary:  0b111 ,Octa decimal:  0o7 ,Hexa Decimal;  0x7\n",
            "Decimal:  8 ,Binary:  0b1000 ,Octa decimal:  0o10 ,Hexa Decimal;  0x8\n",
            "Decimal:  9 ,Binary:  0b1001 ,Octa decimal:  0o11 ,Hexa Decimal;  0x9\n",
            "Decimal:  10 ,Binary:  0b1010 ,Octa decimal:  0o12 ,Hexa Decimal;  0xa\n",
            "Decimal:  11 ,Binary:  0b1011 ,Octa decimal:  0o13 ,Hexa Decimal;  0xb\n",
            "Decimal:  12 ,Binary:  0b1100 ,Octa decimal:  0o14 ,Hexa Decimal;  0xc\n",
            "Decimal:  13 ,Binary:  0b1101 ,Octa decimal:  0o15 ,Hexa Decimal;  0xd\n",
            "Decimal:  14 ,Binary:  0b1110 ,Octa decimal:  0o16 ,Hexa Decimal;  0xe\n",
            "Decimal:  15 ,Binary:  0b1111 ,Octa decimal:  0o17 ,Hexa Decimal;  0xf\n",
            "Decimal:  16 ,Binary:  0b10000 ,Octa decimal:  0o20 ,Hexa Decimal;  0x10\n",
            "Decimal:  17 ,Binary:  0b10001 ,Octa decimal:  0o21 ,Hexa Decimal;  0x11\n",
            "Decimal:  18 ,Binary:  0b10010 ,Octa decimal:  0o22 ,Hexa Decimal;  0x12\n",
            "Decimal:  19 ,Binary:  0b10011 ,Octa decimal:  0o23 ,Hexa Decimal;  0x13\n",
            "Decimal:  20 ,Binary:  0b10100 ,Octa decimal:  0o24 ,Hexa Decimal;  0x14\n",
            "Decimal:  21 ,Binary:  0b10101 ,Octa decimal:  0o25 ,Hexa Decimal;  0x15\n",
            "Decimal:  22 ,Binary:  0b10110 ,Octa decimal:  0o26 ,Hexa Decimal;  0x16\n",
            "Decimal:  23 ,Binary:  0b10111 ,Octa decimal:  0o27 ,Hexa Decimal;  0x17\n",
            "Decimal:  24 ,Binary:  0b11000 ,Octa decimal:  0o30 ,Hexa Decimal;  0x18\n",
            "Decimal:  25 ,Binary:  0b11001 ,Octa decimal:  0o31 ,Hexa Decimal;  0x19\n",
            "Decimal:  26 ,Binary:  0b11010 ,Octa decimal:  0o32 ,Hexa Decimal;  0x1a\n",
            "Decimal:  27 ,Binary:  0b11011 ,Octa decimal:  0o33 ,Hexa Decimal;  0x1b\n",
            "Decimal:  28 ,Binary:  0b11100 ,Octa decimal:  0o34 ,Hexa Decimal;  0x1c\n",
            "Decimal:  29 ,Binary:  0b11101 ,Octa decimal:  0o35 ,Hexa Decimal;  0x1d\n",
            "Decimal:  30 ,Binary:  0b11110 ,Octa decimal:  0o36 ,Hexa Decimal;  0x1e\n",
            "Decimal:  31 ,Binary:  0b11111 ,Octa decimal:  0o37 ,Hexa Decimal;  0x1f\n",
            "Decimal:  32 ,Binary:  0b100000 ,Octa decimal:  0o40 ,Hexa Decimal;  0x20\n",
            "Decimal:  33 ,Binary:  0b100001 ,Octa decimal:  0o41 ,Hexa Decimal;  0x21\n",
            "Decimal:  34 ,Binary:  0b100010 ,Octa decimal:  0o42 ,Hexa Decimal;  0x22\n",
            "Decimal:  35 ,Binary:  0b100011 ,Octa decimal:  0o43 ,Hexa Decimal;  0x23\n",
            "Decimal:  36 ,Binary:  0b100100 ,Octa decimal:  0o44 ,Hexa Decimal;  0x24\n",
            "Decimal:  37 ,Binary:  0b100101 ,Octa decimal:  0o45 ,Hexa Decimal;  0x25\n",
            "Decimal:  38 ,Binary:  0b100110 ,Octa decimal:  0o46 ,Hexa Decimal;  0x26\n",
            "Decimal:  39 ,Binary:  0b100111 ,Octa decimal:  0o47 ,Hexa Decimal;  0x27\n",
            "Decimal:  40 ,Binary:  0b101000 ,Octa decimal:  0o50 ,Hexa Decimal;  0x28\n",
            "Decimal:  41 ,Binary:  0b101001 ,Octa decimal:  0o51 ,Hexa Decimal;  0x29\n",
            "Decimal:  42 ,Binary:  0b101010 ,Octa decimal:  0o52 ,Hexa Decimal;  0x2a\n",
            "Decimal:  43 ,Binary:  0b101011 ,Octa decimal:  0o53 ,Hexa Decimal;  0x2b\n",
            "Decimal:  44 ,Binary:  0b101100 ,Octa decimal:  0o54 ,Hexa Decimal;  0x2c\n",
            "Decimal:  45 ,Binary:  0b101101 ,Octa decimal:  0o55 ,Hexa Decimal;  0x2d\n",
            "Decimal:  46 ,Binary:  0b101110 ,Octa decimal:  0o56 ,Hexa Decimal;  0x2e\n",
            "Decimal:  47 ,Binary:  0b101111 ,Octa decimal:  0o57 ,Hexa Decimal;  0x2f\n",
            "Decimal:  48 ,Binary:  0b110000 ,Octa decimal:  0o60 ,Hexa Decimal;  0x30\n",
            "Decimal:  49 ,Binary:  0b110001 ,Octa decimal:  0o61 ,Hexa Decimal;  0x31\n"
          ]
        }
      ]
    },
    {
      "cell_type": "code",
      "source": [
        "help()\n"
      ],
      "metadata": {
        "colab": {
          "base_uri": "https://localhost:8080/"
        },
        "id": "1up-SYeYLYmi",
        "outputId": "9214eecb-6172-4294-c9ae-5e80e5e30b63"
      },
      "execution_count": 73,
      "outputs": [
        {
          "output_type": "stream",
          "name": "stdout",
          "text": [
            "\n",
            "Welcome to Python 3.10's help utility!\n",
            "\n",
            "If this is your first time using Python, you should definitely check out\n",
            "the tutorial on the internet at https://docs.python.org/3.10/tutorial/.\n",
            "\n",
            "Enter the name of any module, keyword, or topic to get help on writing\n",
            "Python programs and using Python modules.  To quit this help utility and\n",
            "return to the interpreter, just type \"quit\".\n",
            "\n",
            "To get a list of available modules, keywords, symbols, or topics, type\n",
            "\"modules\", \"keywords\", \"symbols\", or \"topics\".  Each module also comes\n",
            "with a one-line summary of what it does; to list the modules whose name\n",
            "or summary contain a given string such as \"spam\", type \"modules spam\".\n",
            "\n",
            "\n",
            "You are now leaving help and returning to the Python interpreter.\n",
            "If you want to ask for help on a particular object directly from the\n",
            "interpreter, you can type \"help(object)\".  Executing \"help('string')\"\n",
            "has the same effect as typing a particular string at the help> prompt.\n"
          ]
        }
      ]
    },
    {
      "cell_type": "code",
      "source": [
        "# user define function\n",
        "\n",
        "def sum_of_two(a, b):\n",
        "  return (a + b)\n",
        "\n",
        "sum_of_two(1947, -1947)"
      ],
      "metadata": {
        "colab": {
          "base_uri": "https://localhost:8080/"
        },
        "id": "K257F4LQMfSz",
        "outputId": "31606cf0-7ccb-46d6-cc75-6f5ebff022b4"
      },
      "execution_count": 95,
      "outputs": [
        {
          "output_type": "execute_result",
          "data": {
            "text/plain": [
              "0"
            ]
          },
          "metadata": {},
          "execution_count": 95
        }
      ]
    },
    {
      "cell_type": "code",
      "source": [
        "def sum_of_two(a, b):\n",
        "  return (a + b)\n",
        "\n",
        "sum_of_two(3.14, -3.14)"
      ],
      "metadata": {
        "colab": {
          "base_uri": "https://localhost:8080/"
        },
        "id": "2tBZdNw8M6nn",
        "outputId": "357ba2cf-c082-4bb4-e56c-5ef075fe9025"
      },
      "execution_count": 94,
      "outputs": [
        {
          "output_type": "execute_result",
          "data": {
            "text/plain": [
              "0.0"
            ]
          },
          "metadata": {},
          "execution_count": 94
        }
      ]
    },
    {
      "cell_type": "code",
      "source": [
        "def sum_of_two(a, b):\n",
        "  return (a + b)\n",
        "\n",
        "sum_of_two(3.14, -3.14)"
      ],
      "metadata": {
        "colab": {
          "base_uri": "https://localhost:8080/"
        },
        "id": "yvJhH399NCM1",
        "outputId": "38f2f219-bca6-4600-8de6-75838636913b"
      },
      "execution_count": 93,
      "outputs": [
        {
          "output_type": "execute_result",
          "data": {
            "text/plain": [
              "0.0"
            ]
          },
          "metadata": {},
          "execution_count": 93
        }
      ]
    },
    {
      "cell_type": "code",
      "source": [
        "def sum_of_two(a, b):\n",
        "  return (a + b)\n",
        "\n",
        "sum_of_two(True, False)"
      ],
      "metadata": {
        "colab": {
          "base_uri": "https://localhost:8080/"
        },
        "id": "A7AC7LGwNCuz",
        "outputId": "de22c064-af55-4ef7-e900-048e0d0071dc"
      },
      "execution_count": 92,
      "outputs": [
        {
          "output_type": "execute_result",
          "data": {
            "text/plain": [
              "1"
            ]
          },
          "metadata": {},
          "execution_count": 92
        }
      ]
    },
    {
      "cell_type": "code",
      "source": [
        "def sum_of_two(a, b):\n",
        "  return (a + b)\n",
        "\n",
        "sum_of_two('Python', 'Programming')"
      ],
      "metadata": {
        "colab": {
          "base_uri": "https://localhost:8080/",
          "height": 35
        },
        "id": "zvq9ZdDQNHl3",
        "outputId": "ef35a93a-97f7-49bc-a222-3cbdee1595e1"
      },
      "execution_count": 91,
      "outputs": [
        {
          "output_type": "execute_result",
          "data": {
            "text/plain": [
              "'PythonProgramming'"
            ],
            "application/vnd.google.colaboratory.intrinsic+json": {
              "type": "string"
            }
          },
          "metadata": {},
          "execution_count": 91
        }
      ]
    },
    {
      "cell_type": "code",
      "source": [
        "def sum_of_two(a, b):\n",
        "  return (a + b)\n",
        "\n",
        "sum_of_two((1,2,3,4,5), (6,7,8,9,10))"
      ],
      "metadata": {
        "colab": {
          "base_uri": "https://localhost:8080/"
        },
        "id": "f4veCFFlNPxC",
        "outputId": "f39ef5dd-e60b-40aa-ca51-f1c623dfdf57"
      },
      "execution_count": 90,
      "outputs": [
        {
          "output_type": "execute_result",
          "data": {
            "text/plain": [
              "(1, 2, 3, 4, 5, 6, 7, 8, 9, 10)"
            ]
          },
          "metadata": {},
          "execution_count": 90
        }
      ]
    },
    {
      "cell_type": "code",
      "source": [
        "def sum_of_two(a, b):\n",
        "    return (a + b)\n",
        "\n",
        "sum_of_two({1,2,3,4,5}, {6,7,8,9,10})\n",
        "# TypeError: unsupported operand type(s) for +: 'set' and 'set'"
      ],
      "metadata": {
        "id": "3axjXlcANZRq"
      },
      "execution_count": null,
      "outputs": []
    },
    {
      "cell_type": "code",
      "source": [
        "def sum_of_two(a, b):\n",
        "  return (a + b)\n",
        "\n",
        "sum_of_two = ({'Sameer': 89, 'Sabina': 47},{'Inder': 37, 'Kshav':57, 'kisto':61})\n",
        "# TypeError: unsupported operand type(s) for +: 'dict' and 'dict'"
      ],
      "metadata": {
        "id": "Lz9n0zssNn6J"
      },
      "execution_count": 88,
      "outputs": []
    }
  ]
}