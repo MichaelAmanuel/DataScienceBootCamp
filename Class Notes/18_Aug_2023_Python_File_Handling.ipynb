{
  "nbformat": 4,
  "nbformat_minor": 0,
  "metadata": {
    "colab": {
      "provenance": []
    },
    "kernelspec": {
      "name": "python3",
      "display_name": "Python 3"
    },
    "language_info": {
      "name": "python"
    }
  },
  "cells": [
    {
      "cell_type": "code",
      "execution_count": 27,
      "metadata": {
        "id": "TZV_XGA2GWmM"
      },
      "outputs": [],
      "source": [
        "f = open('my_file_opearation.txt', 'x') # create file"
      ]
    },
    {
      "cell_type": "code",
      "source": [
        "f = open('my_file_operation.txt', 'w') # weite text to the file"
      ],
      "metadata": {
        "id": "Zh7_YIL3LbNw"
      },
      "execution_count": 28,
      "outputs": []
    },
    {
      "cell_type": "code",
      "source": [
        "f.write('This is my first file operation program.')"
      ],
      "metadata": {
        "colab": {
          "base_uri": "https://localhost:8080/"
        },
        "id": "eKoXmi2LLfhq",
        "outputId": "488a5627-4200-4a94-8fc9-512a2cc88624"
      },
      "execution_count": 29,
      "outputs": [
        {
          "output_type": "execute_result",
          "data": {
            "text/plain": [
              "40"
            ]
          },
          "metadata": {},
          "execution_count": 29
        }
      ]
    },
    {
      "cell_type": "code",
      "source": [
        "f = open('my_file_operation.txt', 'r')"
      ],
      "metadata": {
        "id": "D0XWJdXALjmc"
      },
      "execution_count": 30,
      "outputs": []
    },
    {
      "cell_type": "code",
      "source": [
        "f.read()"
      ],
      "metadata": {
        "colab": {
          "base_uri": "https://localhost:8080/",
          "height": 36
        },
        "id": "OPk3a7poLqB9",
        "outputId": "8b155743-b247-482d-9ca2-af315c13bf88"
      },
      "execution_count": 31,
      "outputs": [
        {
          "output_type": "execute_result",
          "data": {
            "text/plain": [
              "'This is my first file operation program.'"
            ],
            "application/vnd.google.colaboratory.intrinsic+json": {
              "type": "string"
            }
          },
          "metadata": {},
          "execution_count": 31
        }
      ]
    },
    {
      "cell_type": "code",
      "source": [
        "f = open('my_file_operation.txt', 'a') # append writing to the existing written"
      ],
      "metadata": {
        "id": "LltxllFFLtGI"
      },
      "execution_count": 32,
      "outputs": []
    },
    {
      "cell_type": "code",
      "source": [
        "f.write('This is set of new text for my file my_file_operation.txt')"
      ],
      "metadata": {
        "colab": {
          "base_uri": "https://localhost:8080/"
        },
        "id": "gg-YSDGRLy9O",
        "outputId": "ba9aa600-2521-46c6-e0a3-fa52a4ad4c0d"
      },
      "execution_count": 33,
      "outputs": [
        {
          "output_type": "execute_result",
          "data": {
            "text/plain": [
              "57"
            ]
          },
          "metadata": {},
          "execution_count": 33
        }
      ]
    },
    {
      "cell_type": "code",
      "source": [
        "f = open('my_file_operation.txt', 'r')"
      ],
      "metadata": {
        "id": "tQbwExtIL1o6"
      },
      "execution_count": 34,
      "outputs": []
    },
    {
      "cell_type": "code",
      "source": [
        "f.read()"
      ],
      "metadata": {
        "colab": {
          "base_uri": "https://localhost:8080/",
          "height": 36
        },
        "id": "kZm4BzLsL2UO",
        "outputId": "8735da4e-473d-4560-cea8-d2e0d40efb03"
      },
      "execution_count": 35,
      "outputs": [
        {
          "output_type": "execute_result",
          "data": {
            "text/plain": [
              "'This is my first file operation program.This is set of new text for my file my_file_operation.txt'"
            ],
            "application/vnd.google.colaboratory.intrinsic+json": {
              "type": "string"
            }
          },
          "metadata": {},
          "execution_count": 35
        }
      ]
    },
    {
      "cell_type": "code",
      "source": [
        "g = open('this_file_is_second_file', 'x')"
      ],
      "metadata": {
        "id": "kW94RA4IMjDY"
      },
      "execution_count": null,
      "outputs": []
    },
    {
      "cell_type": "code",
      "source": [
        "g = open('this_file_is_second_file', 'w')\n",
        "g.write('my file is very good so far')"
      ],
      "metadata": {
        "colab": {
          "base_uri": "https://localhost:8080/"
        },
        "id": "LY-ZOOSdNxt0",
        "outputId": "a0f4eb14-a94a-426e-f806-15b8085510a7"
      },
      "execution_count": 39,
      "outputs": [
        {
          "output_type": "execute_result",
          "data": {
            "text/plain": [
              "27"
            ]
          },
          "metadata": {},
          "execution_count": 39
        }
      ]
    },
    {
      "cell_type": "code",
      "source": [
        "g = open('my_file_operation.txt', 'r')"
      ],
      "metadata": {
        "id": "t-UyrFxHOK3p"
      },
      "execution_count": 42,
      "outputs": []
    },
    {
      "cell_type": "code",
      "source": [
        "g.read()"
      ],
      "metadata": {
        "colab": {
          "base_uri": "https://localhost:8080/",
          "height": 36
        },
        "id": "AwLI_g2ZOYKJ",
        "outputId": "3a405163-e84e-41ff-c007-6cd7845c2c0c"
      },
      "execution_count": 43,
      "outputs": [
        {
          "output_type": "execute_result",
          "data": {
            "text/plain": [
              "'This is my first file operation program.This is set of new text for my file my_file_operation.txt'"
            ],
            "application/vnd.google.colaboratory.intrinsic+json": {
              "type": "string"
            }
          },
          "metadata": {},
          "execution_count": 43
        }
      ]
    },
    {
      "cell_type": "code",
      "source": [],
      "metadata": {
        "id": "-yADyxQaRIPz"
      },
      "execution_count": null,
      "outputs": []
    },
    {
      "cell_type": "markdown",
      "source": [
        "# **Exception Handling**\n",
        "# 1. syntax error\n",
        "# 2. logical error\n",
        "# 3. run time error"
      ],
      "metadata": {
        "id": "mvZhOWVRPlej"
      }
    },
    {
      "cell_type": "code",
      "source": [
        "print('my name is mike\")"
      ],
      "metadata": {
        "id": "ElypZXKcP2Lr"
      },
      "execution_count": null,
      "outputs": []
    },
    {
      "cell_type": "code",
      "source": [
        "fro i in rage(10):\n",
        "print(i)"
      ],
      "metadata": {
        "id": "7ah_yULCQI0D"
      },
      "execution_count": null,
      "outputs": []
    },
    {
      "cell_type": "code",
      "source": [
        "for i in range(20):\n",
        "print(i)"
      ],
      "metadata": {
        "id": "6Chwz2YYQQQp"
      },
      "execution_count": null,
      "outputs": []
    },
    {
      "cell_type": "code",
      "source": [
        "file = open(\"my_error_handling_file.txt\", 'x')"
      ],
      "metadata": {
        "id": "MP5SISlvQWfE"
      },
      "execution_count": 45,
      "outputs": []
    },
    {
      "cell_type": "code",
      "source": [
        "file = open(\"my_error_handling_file.txt\", 'x')"
      ],
      "metadata": {
        "colab": {
          "base_uri": "https://localhost:8080/",
          "height": 179
        },
        "id": "JqfxLYyXRss9",
        "outputId": "fdd15842-8a2a-4808-904b-fdcd05f9b8c8"
      },
      "execution_count": 46,
      "outputs": [
        {
          "output_type": "error",
          "ename": "FileExistsError",
          "evalue": "ignored",
          "traceback": [
            "\u001b[0;31m---------------------------------------------------------------------------\u001b[0m",
            "\u001b[0;31mFileExistsError\u001b[0m                           Traceback (most recent call last)",
            "\u001b[0;32m<ipython-input-46-79ff2950aa23>\u001b[0m in \u001b[0;36m<cell line: 1>\u001b[0;34m()\u001b[0m\n\u001b[0;32m----> 1\u001b[0;31m \u001b[0mfile\u001b[0m \u001b[0;34m=\u001b[0m \u001b[0mopen\u001b[0m\u001b[0;34m(\u001b[0m\u001b[0;34m\"my_error_handling_file.txt\"\u001b[0m\u001b[0;34m,\u001b[0m \u001b[0;34m'x'\u001b[0m\u001b[0;34m)\u001b[0m\u001b[0;34m\u001b[0m\u001b[0;34m\u001b[0m\u001b[0m\n\u001b[0m",
            "\u001b[0;31mFileExistsError\u001b[0m: [Errno 17] File exists: 'my_error_handling_file.txt'"
          ]
        }
      ]
    },
    {
      "cell_type": "code",
      "source": [
        "try:\n",
        "  file = open(\"my_error_handling_file.txt\", 'x')\n",
        "except FileExistsError as fnfe:\n",
        "              print('File exists Error Exeption', fnfe)"
      ],
      "metadata": {
        "colab": {
          "base_uri": "https://localhost:8080/"
        },
        "id": "TM1DU02aRt80",
        "outputId": "20b71583-0312-46a7-be06-90c8df53494c"
      },
      "execution_count": 49,
      "outputs": [
        {
          "output_type": "stream",
          "name": "stdout",
          "text": [
            "File exists Error Exeption [Errno 17] File exists: 'my_error_handling_file.txt'\n"
          ]
        }
      ]
    },
    {
      "cell_type": "code",
      "source": [
        "list = [12,23,34,45,56,67,78,89,90,10,20,30,40,50,60,70,80,90,100]\n",
        "v_len = len(list)\n",
        "print(v_len, v_len + 3)\n",
        "\n",
        "for i in range(v_len + 3):\n",
        "  try:\n",
        "    print('value in side my list', list[i])\n",
        "  except IndexError as ie:\n",
        "\n",
        "    print('IndexError Exception my list is of length', v_len, 'and trying to fetch index', v_len + 3, ie)"
      ],
      "metadata": {
        "colab": {
          "base_uri": "https://localhost:8080/"
        },
        "id": "8s5J6pC7T1ah",
        "outputId": "a2797e19-66a8-4ccf-f9d2-04e153210453"
      },
      "execution_count": 23,
      "outputs": [
        {
          "output_type": "stream",
          "name": "stdout",
          "text": [
            "19 22\n",
            "value in side my list 12\n",
            "value in side my list 23\n",
            "value in side my list 34\n",
            "value in side my list 45\n",
            "value in side my list 56\n",
            "value in side my list 67\n",
            "value in side my list 78\n",
            "value in side my list 89\n",
            "value in side my list 90\n",
            "value in side my list 10\n",
            "value in side my list 20\n",
            "value in side my list 30\n",
            "value in side my list 40\n",
            "value in side my list 50\n",
            "value in side my list 60\n",
            "value in side my list 70\n",
            "value in side my list 80\n",
            "value in side my list 90\n",
            "value in side my list 100\n",
            "IndexError Exception my list is of length 19 and trying to fetch index 22 list index out of range\n",
            "IndexError Exception my list is of length 19 and trying to fetch index 22 list index out of range\n",
            "IndexError Exception my list is of length 19 and trying to fetch index 22 list index out of range\n"
          ]
        }
      ]
    },
    {
      "cell_type": "code",
      "source": [
        "tuple = (1,2,3,4,5,6,7,8,9,10)\n",
        "tuple.append(11)\n"
      ],
      "metadata": {
        "colab": {
          "base_uri": "https://localhost:8080/",
          "height": 198
        },
        "id": "7VxC4oQAzQcM",
        "outputId": "bfea013d-cc45-4d1a-ef05-407de4227273"
      },
      "execution_count": 14,
      "outputs": [
        {
          "output_type": "error",
          "ename": "AttributeError",
          "evalue": "ignored",
          "traceback": [
            "\u001b[0;31m---------------------------------------------------------------------------\u001b[0m",
            "\u001b[0;31mAttributeError\u001b[0m                            Traceback (most recent call last)",
            "\u001b[0;32m<ipython-input-14-5b8b7dddc0be>\u001b[0m in \u001b[0;36m<cell line: 2>\u001b[0;34m()\u001b[0m\n\u001b[1;32m      1\u001b[0m \u001b[0mtuple\u001b[0m \u001b[0;34m=\u001b[0m \u001b[0;34m(\u001b[0m\u001b[0;36m1\u001b[0m\u001b[0;34m,\u001b[0m\u001b[0;36m2\u001b[0m\u001b[0;34m,\u001b[0m\u001b[0;36m3\u001b[0m\u001b[0;34m,\u001b[0m\u001b[0;36m4\u001b[0m\u001b[0;34m,\u001b[0m\u001b[0;36m5\u001b[0m\u001b[0;34m,\u001b[0m\u001b[0;36m6\u001b[0m\u001b[0;34m,\u001b[0m\u001b[0;36m7\u001b[0m\u001b[0;34m,\u001b[0m\u001b[0;36m8\u001b[0m\u001b[0;34m,\u001b[0m\u001b[0;36m9\u001b[0m\u001b[0;34m,\u001b[0m\u001b[0;36m10\u001b[0m\u001b[0;34m)\u001b[0m\u001b[0;34m\u001b[0m\u001b[0;34m\u001b[0m\u001b[0m\n\u001b[0;32m----> 2\u001b[0;31m \u001b[0mtuple\u001b[0m\u001b[0;34m.\u001b[0m\u001b[0mappend\u001b[0m\u001b[0;34m(\u001b[0m\u001b[0;36m11\u001b[0m\u001b[0;34m)\u001b[0m\u001b[0;34m\u001b[0m\u001b[0;34m\u001b[0m\u001b[0m\n\u001b[0m",
            "\u001b[0;31mAttributeError\u001b[0m: 'tuple' object has no attribute 'append'"
          ]
        }
      ]
    },
    {
      "cell_type": "code",
      "source": [
        "tuple = (1,2,3,4,5,6,7,8,9,10)\n",
        "try:\n",
        "  tuple.append(11)\n",
        "except AttributeError as ae:\n",
        "  print('AttributeError Exception ', ae)"
      ],
      "metadata": {
        "colab": {
          "base_uri": "https://localhost:8080/"
        },
        "id": "YU5ndikH06uc",
        "outputId": "a8c6df4b-78c8-488b-bf7c-c89beb6803e2"
      },
      "execution_count": 15,
      "outputs": [
        {
          "output_type": "stream",
          "name": "stdout",
          "text": [
            "AttributeError Exception  'tuple' object has no attribute 'append'\n"
          ]
        }
      ]
    },
    {
      "cell_type": "code",
      "source": [
        "tup1 = (1,2,3,4,5,6,7,8,9,10)\n",
        "try:\n",
        "  tup1.append(11)\n",
        "except AttributeError as ae:\n",
        "  print('AttributeError Exception ', ae)"
      ],
      "metadata": {
        "colab": {
          "base_uri": "https://localhost:8080/"
        },
        "id": "9gTiwOM21Y-1",
        "outputId": "875e0a62-360b-47a4-e324-9aba05ba943f"
      },
      "execution_count": 21,
      "outputs": [
        {
          "output_type": "stream",
          "name": "stdout",
          "text": [
            "AttributeError Exception  'tuple' object has no attribute 'append'\n"
          ]
        }
      ]
    },
    {
      "cell_type": "code",
      "source": [
        "a = 'Python'\n",
        "b = 10\n",
        "c = 'Programming'\n",
        "\n",
        "print(a+b+c)"
      ],
      "metadata": {
        "colab": {
          "base_uri": "https://localhost:8080/",
          "height": 216
        },
        "id": "aBRCN0qk4Bly",
        "outputId": "4ab3fed8-079f-4fb2-9fe2-7ec5244a3152"
      },
      "execution_count": 20,
      "outputs": [
        {
          "output_type": "error",
          "ename": "TypeError",
          "evalue": "ignored",
          "traceback": [
            "\u001b[0;31m---------------------------------------------------------------------------\u001b[0m",
            "\u001b[0;31mTypeError\u001b[0m                                 Traceback (most recent call last)",
            "\u001b[0;32m<ipython-input-20-99ab24745270>\u001b[0m in \u001b[0;36m<cell line: 5>\u001b[0;34m()\u001b[0m\n\u001b[1;32m      3\u001b[0m \u001b[0mc\u001b[0m \u001b[0;34m=\u001b[0m \u001b[0;34m'Programming'\u001b[0m\u001b[0;34m\u001b[0m\u001b[0;34m\u001b[0m\u001b[0m\n\u001b[1;32m      4\u001b[0m \u001b[0;34m\u001b[0m\u001b[0m\n\u001b[0;32m----> 5\u001b[0;31m \u001b[0mprint\u001b[0m\u001b[0;34m(\u001b[0m\u001b[0ma\u001b[0m\u001b[0;34m+\u001b[0m\u001b[0mb\u001b[0m\u001b[0;34m+\u001b[0m\u001b[0mc\u001b[0m\u001b[0;34m)\u001b[0m\u001b[0;34m\u001b[0m\u001b[0;34m\u001b[0m\u001b[0m\n\u001b[0m",
            "\u001b[0;31mTypeError\u001b[0m: can only concatenate str (not \"int\") to str"
          ]
        }
      ]
    },
    {
      "cell_type": "code",
      "source": [
        "a = 'Python'\n",
        "b = 10\n",
        "c = 'Programming'\n",
        "\n",
        "try:\n",
        "  print(a+c)\n",
        "  print(a+b+c)\n",
        "  print(a+b)\n",
        "  print(b+c)\n",
        "except TypeError as te:\n",
        "  print('TypeError Exception ', te)"
      ],
      "metadata": {
        "colab": {
          "base_uri": "https://localhost:8080/"
        },
        "id": "NCaLFxiq33pE",
        "outputId": "6fc56256-bd1b-43a4-b3ef-58f73ea7108e"
      },
      "execution_count": 19,
      "outputs": [
        {
          "output_type": "stream",
          "name": "stdout",
          "text": [
            "PythonProgramming\n",
            "TypeError Exception  can only concatenate str (not \"int\") to str\n"
          ]
        }
      ]
    },
    {
      "cell_type": "code",
      "source": [
        "try:\n",
        "  for i in range(10):\n",
        "  print(i)\n",
        "\n",
        "except IndentationError as ie:\n",
        "  print('IndentationError', ie)"
      ],
      "metadata": {
        "colab": {
          "base_uri": "https://localhost:8080/",
          "height": 143
        },
        "id": "qVpyYHiS2sxR",
        "outputId": "6131efda-1cba-41a1-a157-87a391146bed"
      },
      "execution_count": 18,
      "outputs": [
        {
          "output_type": "error",
          "ename": "IndentationError",
          "evalue": "ignored",
          "traceback": [
            "\u001b[0;36m  File \u001b[0;32m\"<ipython-input-18-3e2727218ff0>\"\u001b[0;36m, line \u001b[0;32m3\u001b[0m\n\u001b[0;31m    print(i)\u001b[0m\n\u001b[0m    ^\u001b[0m\n\u001b[0;31mIndentationError\u001b[0m\u001b[0;31m:\u001b[0m expected an indented block after 'for' statement on line 2\n"
          ]
        }
      ]
    }
  ]
}