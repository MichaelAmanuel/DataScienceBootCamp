{
  "nbformat": 4,
  "nbformat_minor": 0,
  "metadata": {
    "colab": {
      "provenance": []
    },
    "kernelspec": {
      "name": "python3",
      "display_name": "Python 3"
    },
    "language_info": {
      "name": "python"
    }
  },
  "cells": [
    {
      "cell_type": "code",
      "execution_count": 11,
      "metadata": {
        "colab": {
          "base_uri": "https://localhost:8080/"
        },
        "id": "en1WgAFcjA1Z",
        "outputId": "a9f09ebe-1d3c-4590-ed03-747ad43842db"
      },
      "outputs": [
        {
          "output_type": "stream",
          "name": "stdout",
          "text": [
            "Michael   Amanuel\n"
          ]
        }
      ],
      "source": [
        "class person:\n",
        "  def __init__(self, fname, lname):\n",
        "    self.first_name = fname\n",
        "    self.last_name = lname\n",
        "\n",
        "  def printname(self):\n",
        "    print(self.first_name, ' ', self.last_name)\n",
        "\n",
        "obj = person('Michael', 'Amanuel')\n",
        "\n",
        "obj.printname()"
      ]
    },
    {
      "cell_type": "code",
      "source": [
        "class childclass(person):\n",
        "  pass"
      ],
      "metadata": {
        "id": "KelqXAsYt8Xw"
      },
      "execution_count": 12,
      "outputs": []
    },
    {
      "cell_type": "code",
      "source": [
        "obj_2 = childclass('Pipa', 'Mimi')\n",
        "obj_2.printname()"
      ],
      "metadata": {
        "colab": {
          "base_uri": "https://localhost:8080/"
        },
        "id": "Wv8b0dncuGIi",
        "outputId": "f4bfe128-328b-4ee1-b503-7a45c31f4baa"
      },
      "execution_count": 13,
      "outputs": [
        {
          "output_type": "stream",
          "name": "stdout",
          "text": [
            "Pipa   Mimi\n"
          ]
        }
      ]
    },
    {
      "cell_type": "code",
      "source": [
        "\n",
        "class Computer:\n",
        "\n",
        "  def __init__(self, ram, cpu):\n",
        "    self.ram = ram\n",
        "    self.cpu = cpu\n",
        "\n",
        "  def print_computer(self):\n",
        "    print(f'The computer {self.ram} GB ram and {self.cpu} is the CPU.')\n",
        "\n",
        "class dell(Computer):\n",
        "  pass\n",
        "  # def __init__(self, ram, memory):\n",
        "  #   super().__init__(ram, memory)\n",
        "\n",
        "\n",
        "com_one = dell('8', 'i-7')\n",
        "com_one.print_computer()"
      ],
      "metadata": {
        "colab": {
          "base_uri": "https://localhost:8080/"
        },
        "id": "fTDL9rP51FLR",
        "outputId": "78fbdb69-a1a7-4be9-8370-374b13a3ccf1"
      },
      "execution_count": 44,
      "outputs": [
        {
          "output_type": "stream",
          "name": "stdout",
          "text": [
            "The computer 8 GB ram and i-7 is the CPU\n"
          ]
        }
      ]
    },
    {
      "cell_type": "code",
      "source": [
        "class person:\n",
        "  def __init__(self, fname, lname):\n",
        "    self.first_name = fname\n",
        "    self.last_name = lname\n",
        "\n",
        "  def printname(self):\n",
        "    print(self.first_name, ' ', self.last_name)\n",
        "\n",
        "\n",
        "class childclass(person):\n",
        "  def __init__(self, fname, lname, mname):\n",
        "    super().__init__(fname, lname)\n",
        "    self.mname = mname\n",
        "    print(self.first_name, ' ', self.last_name,' ',self.mname)\n",
        "\n",
        "\n",
        "obj = childclass('Baba', \"Mama\", 'Bigmama')\n"
      ],
      "metadata": {
        "colab": {
          "base_uri": "https://localhost:8080/"
        },
        "id": "P3-_0IWkw6ST",
        "outputId": "fb17202f-4fae-4024-cb8e-33e47a604e74"
      },
      "execution_count": 47,
      "outputs": [
        {
          "output_type": "stream",
          "name": "stdout",
          "text": [
            "Baba   Mama   Bigmama\n"
          ]
        }
      ]
    },
    {
      "cell_type": "code",
      "source": [
        "class Person:\n",
        "  def __init__(self, fname, lname):\n",
        "    self.first_name = fname\n",
        "    self.last_name = lname\n",
        "\n",
        "  def printname(self):\n",
        "    print('Class Person: ',self.first_name, ' ', self.last_name)\n",
        "\n",
        "\n",
        "class Student(Person):\n",
        "  def __init__(self, fname, lname):\n",
        "    super().__init__(fname, lname)\n",
        "\n",
        "\n",
        "obj_one = Student('Mike', 'Aman')\n",
        "obj_one.printname()"
      ],
      "metadata": {
        "colab": {
          "base_uri": "https://localhost:8080/"
        },
        "id": "aT_DzKWp-3VE",
        "outputId": "b8639f03-364f-4b40-9680-5cdaa01f55a7"
      },
      "execution_count": 49,
      "outputs": [
        {
          "output_type": "stream",
          "name": "stdout",
          "text": [
            "Class Person:  Mike   Aman\n"
          ]
        }
      ]
    },
    {
      "cell_type": "code",
      "source": [
        "class Car:\n",
        "\n",
        "  def __init__(self, name, model):\n",
        "    self.name = name\n",
        "    self.model = model\n",
        "\n",
        "  def print_details(self):\n",
        "    print('Class car: ', self.name, self.model)\n",
        "\n",
        "\n",
        "class Audi(Car):\n",
        "\n",
        "  def __init__(self, name, model, make):\n",
        "    super().__init__(name, model)\n",
        "    self.make = make\n",
        "\n",
        "  def print_details(self):\n",
        "   print(self.name, self.model, self.make)\n",
        "\n",
        "\n",
        "car_one = Audi('Audi-777', 'Audi Q3', 1987)\n",
        "car_one.print_details()"
      ],
      "metadata": {
        "colab": {
          "base_uri": "https://localhost:8080/"
        },
        "id": "HB_51FyUAbjO",
        "outputId": "2b4610f9-67bc-4453-9200-ef30f033b75f"
      },
      "execution_count": 54,
      "outputs": [
        {
          "output_type": "stream",
          "name": "stdout",
          "text": [
            "Audi-777 Audi Q3 1987\n"
          ]
        }
      ]
    },
    {
      "cell_type": "code",
      "source": [],
      "metadata": {
        "id": "119vKhEGEl-G"
      },
      "execution_count": null,
      "outputs": []
    }
  ]
}