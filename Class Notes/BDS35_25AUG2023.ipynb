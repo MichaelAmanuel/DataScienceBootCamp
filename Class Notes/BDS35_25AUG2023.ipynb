{
  "nbformat": 4,
  "nbformat_minor": 0,
  "metadata": {
    "colab": {
      "provenance": []
    },
    "kernelspec": {
      "name": "python3",
      "display_name": "Python 3"
    },
    "language_info": {
      "name": "python"
    }
  },
  "cells": [
    {
      "cell_type": "markdown",
      "source": [
        "** A collection of modules that are linked together is also known as p Pyhton library. It has code bundles that can be used agin and agin in differnet programs. For programmers, it makes Python programming easier and simpler. Since then, we will not need to compose the same code for varius projects **"
      ],
      "metadata": {
        "id": "exnasRMrpu0A"
      }
    },
    {
      "cell_type": "code",
      "execution_count": 2,
      "metadata": {
        "id": "6bZ3ZKxtmEA5"
      },
      "outputs": [],
      "source": [
        "import numpy as np"
      ]
    },
    {
      "cell_type": "code",
      "source": [
        "print(np.__version__)\n",
        "np.show_config()"
      ],
      "metadata": {
        "colab": {
          "base_uri": "https://localhost:8080/"
        },
        "id": "a-LsK706uZ5H",
        "outputId": "3b21d97f-51e4-4d0e-eeb5-82c9d34e66f7"
      },
      "execution_count": 7,
      "outputs": [
        {
          "output_type": "stream",
          "name": "stdout",
          "text": [
            "1.23.5\n",
            "openblas64__info:\n",
            "    libraries = ['openblas64_', 'openblas64_']\n",
            "    library_dirs = ['/usr/local/lib']\n",
            "    language = c\n",
            "    define_macros = [('HAVE_CBLAS', None), ('BLAS_SYMBOL_SUFFIX', '64_'), ('HAVE_BLAS_ILP64', None)]\n",
            "    runtime_library_dirs = ['/usr/local/lib']\n",
            "blas_ilp64_opt_info:\n",
            "    libraries = ['openblas64_', 'openblas64_']\n",
            "    library_dirs = ['/usr/local/lib']\n",
            "    language = c\n",
            "    define_macros = [('HAVE_CBLAS', None), ('BLAS_SYMBOL_SUFFIX', '64_'), ('HAVE_BLAS_ILP64', None)]\n",
            "    runtime_library_dirs = ['/usr/local/lib']\n",
            "openblas64__lapack_info:\n",
            "    libraries = ['openblas64_', 'openblas64_']\n",
            "    library_dirs = ['/usr/local/lib']\n",
            "    language = c\n",
            "    define_macros = [('HAVE_CBLAS', None), ('BLAS_SYMBOL_SUFFIX', '64_'), ('HAVE_BLAS_ILP64', None), ('HAVE_LAPACKE', None)]\n",
            "    runtime_library_dirs = ['/usr/local/lib']\n",
            "lapack_ilp64_opt_info:\n",
            "    libraries = ['openblas64_', 'openblas64_']\n",
            "    library_dirs = ['/usr/local/lib']\n",
            "    language = c\n",
            "    define_macros = [('HAVE_CBLAS', None), ('BLAS_SYMBOL_SUFFIX', '64_'), ('HAVE_BLAS_ILP64', None), ('HAVE_LAPACKE', None)]\n",
            "    runtime_library_dirs = ['/usr/local/lib']\n",
            "Supported SIMD extensions in this NumPy install:\n",
            "    baseline = SSE,SSE2,SSE3\n",
            "    found = SSSE3,SSE41,POPCNT,SSE42,AVX,F16C,FMA3,AVX2\n",
            "    not found = AVX512F,AVX512CD,AVX512_KNL,AVX512_KNM,AVX512_SKX,AVX512_CLX,AVX512_CNL,AVX512_ICL\n"
          ]
        }
      ]
    },
    {
      "cell_type": "code",
      "source": [
        "v = np.zeros(10)\n",
        "print(v)"
      ],
      "metadata": {
        "colab": {
          "base_uri": "https://localhost:8080/"
        },
        "id": "yaTgHnIztRuo",
        "outputId": "dcddfa33-d3d0-43fb-8d6d-a1572b5a72e0"
      },
      "execution_count": 3,
      "outputs": [
        {
          "output_type": "stream",
          "name": "stdout",
          "text": [
            "[0. 0. 0. 0. 0. 0. 0. 0. 0. 0.]\n"
          ]
        }
      ]
    },
    {
      "cell_type": "code",
      "source": [
        "print('%d bytes' %(v.size * v.itemsize))"
      ],
      "metadata": {
        "colab": {
          "base_uri": "https://localhost:8080/"
        },
        "id": "teXO0nI6tZN1",
        "outputId": "8da79f5e-819c-4c29-a545-6160c138b650"
      },
      "execution_count": 5,
      "outputs": [
        {
          "output_type": "stream",
          "name": "stdout",
          "text": [
            "80 bytes\n"
          ]
        }
      ]
    },
    {
      "cell_type": "code",
      "source": [
        "v = np.zeros(10)\n",
        "v[4] = 1\n",
        "print(v)"
      ],
      "metadata": {
        "colab": {
          "base_uri": "https://localhost:8080/"
        },
        "id": "y1_6742utuv0",
        "outputId": "b239188a-2c70-4d55-ce73-e6460a411c67"
      },
      "execution_count": 11,
      "outputs": [
        {
          "output_type": "stream",
          "name": "stdout",
          "text": [
            "[0. 0. 0. 0. 1. 0. 0. 0. 0. 0.]\n"
          ]
        }
      ]
    },
    {
      "cell_type": "code",
      "source": [
        "v = np.arange(10, 20)\n",
        "print(v)"
      ],
      "metadata": {
        "colab": {
          "base_uri": "https://localhost:8080/"
        },
        "id": "Wde8Pcm2vLfs",
        "outputId": "7af4e699-52fa-4ad1-ef36-36cbc29c7b25"
      },
      "execution_count": 12,
      "outputs": [
        {
          "output_type": "stream",
          "name": "stdout",
          "text": [
            "[10 11 12 13 14 15 16 17 18 19]\n"
          ]
        }
      ]
    },
    {
      "cell_type": "code",
      "source": [
        "import numpy as np\n",
        "v = np.arange(10, 50)\n",
        "print(v)\n",
        "print(type(v))"
      ],
      "metadata": {
        "colab": {
          "base_uri": "https://localhost:8080/"
        },
        "id": "Gf_FokX1vR98",
        "outputId": "f43bee91-3f84-4037-c143-1d9f4dc636c0"
      },
      "execution_count": 14,
      "outputs": [
        {
          "output_type": "stream",
          "name": "stdout",
          "text": [
            "[10 11 12 13 14 15 16 17 18 19 20 21 22 23 24 25 26 27 28 29 30 31 32 33\n",
            " 34 35 36 37 38 39 40 41 42 43 44 45 46 47 48 49]\n",
            "<class 'numpy.ndarray'>\n"
          ]
        }
      ]
    },
    {
      "cell_type": "code",
      "source": [
        "v = np.arange(50)\n",
        "print(v)\n",
        "v = v[::-1]\n",
        "print(v)"
      ],
      "metadata": {
        "colab": {
          "base_uri": "https://localhost:8080/"
        },
        "id": "XtU_hsunvaQ3",
        "outputId": "737dab01-d259-4204-9e09-8376a91905b4"
      },
      "execution_count": 17,
      "outputs": [
        {
          "output_type": "stream",
          "name": "stdout",
          "text": [
            "[ 0  1  2  3  4  5  6  7  8  9 10 11 12 13 14 15 16 17 18 19 20 21 22 23\n",
            " 24 25 26 27 28 29 30 31 32 33 34 35 36 37 38 39 40 41 42 43 44 45 46 47\n",
            " 48 49]\n",
            "[49 48 47 46 45 44 43 42 41 40 39 38 37 36 35 34 33 32 31 30 29 28 27 26\n",
            " 25 24 23 22 21 20 19 18 17 16 15 14 13 12 11 10  9  8  7  6  5  4  3  2\n",
            "  1  0]\n"
          ]
        }
      ]
    },
    {
      "cell_type": "markdown",
      "source": [
        "**1. The range function is a built-in\n",
        "  Python function that returns an immutable sequence of numbers within a specified range. It is commonly used in for loops to iterate over a sequence of numbers.\n",
        "2. The arange function is not a built-in\n",
        "  Python function but rather a function provided by the NumPy library, which is widely used for numerical computations. NumPy is especially popular for working with arrays and matrices efficiently.\n",
        "\n",
        "**"
      ],
      "metadata": {
        "id": "t31Zhw9Yw3RB"
      }
    },
    {
      "cell_type": "code",
      "source": [
        "v = np.arange(9).reshape(3 ,3)\n",
        "print(v)"
      ],
      "metadata": {
        "colab": {
          "base_uri": "https://localhost:8080/"
        },
        "id": "O2YrpoFOxhSn",
        "outputId": "f91147b1-c8c2-45eb-f733-7e407fe2f3df"
      },
      "execution_count": 20,
      "outputs": [
        {
          "output_type": "stream",
          "name": "stdout",
          "text": [
            "[[0 1 2]\n",
            " [3 4 5]\n",
            " [6 7 8]]\n"
          ]
        }
      ]
    },
    {
      "cell_type": "code",
      "source": [
        "nz = np.nonzero([1,0,0,2,0,0,3,0,0,0,4,0,0,0,0,0,5,0,0,0,0,0,6])\n",
        "print(nz)"
      ],
      "metadata": {
        "colab": {
          "base_uri": "https://localhost:8080/"
        },
        "id": "VqJF1RhAyWJS",
        "outputId": "a5409641-0c01-41b4-f426-4e38e6a1e460"
      },
      "execution_count": 21,
      "outputs": [
        {
          "output_type": "stream",
          "name": "stdout",
          "text": [
            "(array([ 0,  3,  6, 10, 16, 22]),)\n"
          ]
        }
      ]
    },
    {
      "cell_type": "code",
      "source": [
        "v = np.eye(3)\n",
        "print(v)"
      ],
      "metadata": {
        "colab": {
          "base_uri": "https://localhost:8080/"
        },
        "id": "_boDvzwnypxq",
        "outputId": "747dba8d-6f50-473c-dd71-481fdce0ed9d"
      },
      "execution_count": 22,
      "outputs": [
        {
          "output_type": "stream",
          "name": "stdout",
          "text": [
            "[[1. 0. 0.]\n",
            " [0. 1. 0.]\n",
            " [0. 0. 1.]]\n"
          ]
        }
      ]
    },
    {
      "cell_type": "code",
      "source": [
        "v = np.eye(5)\n",
        "print(v)"
      ],
      "metadata": {
        "colab": {
          "base_uri": "https://localhost:8080/"
        },
        "id": "ve_pADfNyxNX",
        "outputId": "605e2b79-b9be-41f1-a597-dd86d812fbba"
      },
      "execution_count": 23,
      "outputs": [
        {
          "output_type": "stream",
          "name": "stdout",
          "text": [
            "[[1. 0. 0. 0. 0.]\n",
            " [0. 1. 0. 0. 0.]\n",
            " [0. 0. 1. 0. 0.]\n",
            " [0. 0. 0. 1. 0.]\n",
            " [0. 0. 0. 0. 1.]]\n"
          ]
        }
      ]
    },
    {
      "cell_type": "code",
      "source": [
        "v = np.random.random(10)\n",
        "print(v)"
      ],
      "metadata": {
        "colab": {
          "base_uri": "https://localhost:8080/"
        },
        "id": "Rbe809kPy07E",
        "outputId": "80ed3e7f-9db7-40d2-bd56-6cb592d9fbf8"
      },
      "execution_count": 28,
      "outputs": [
        {
          "output_type": "stream",
          "name": "stdout",
          "text": [
            "[0.47684048 0.19730568 0.59316304 0.26636    0.67688243 0.40587996\n",
            " 0.91920877 0.16169717 0.40607729 0.14808356]\n"
          ]
        }
      ]
    },
    {
      "cell_type": "code",
      "source": [
        "v = np.random.random((10 ,10))\n",
        "print(v)"
      ],
      "metadata": {
        "colab": {
          "base_uri": "https://localhost:8080/"
        },
        "id": "jdeK1TUAzWsE",
        "outputId": "5da9f0e5-ec0c-4589-eb64-997818f47d19"
      },
      "execution_count": 30,
      "outputs": [
        {
          "output_type": "stream",
          "name": "stdout",
          "text": [
            "[[0.44479958 0.6969674  0.34311493 0.52900738 0.51926521 0.41416485\n",
            "  0.77291288 0.64622656 0.17498225 0.02465576]\n",
            " [0.78209735 0.77603116 0.35446113 0.30945159 0.49693798 0.42825847\n",
            "  0.40416543 0.3689155  0.26972994 0.84434055]\n",
            " [0.2932934  0.00929344 0.7250855  0.33858696 0.90145033 0.75616693\n",
            "  0.77334157 0.75438702 0.67655217 0.05456118]\n",
            " [0.577589   0.26002802 0.37712521 0.75889089 0.80928903 0.59092061\n",
            "  0.36875359 0.82952784 0.66844011 0.07735718]\n",
            " [0.43898713 0.31323638 0.20771662 0.50192227 0.98700811 0.18092874\n",
            "  0.47767386 0.20889111 0.1501767  0.88225515]\n",
            " [0.41566173 0.11899481 0.9267688  0.82492813 0.52710685 0.1257325\n",
            "  0.15377693 0.78545574 0.61806474 0.62252352]\n",
            " [0.51827843 0.88950057 0.17706538 0.79856637 0.86941001 0.02686792\n",
            "  0.34754162 0.93989144 0.39104788 0.85627269]\n",
            " [0.81874669 0.26141822 0.19100152 0.68137838 0.04273564 0.86127681\n",
            "  0.31885269 0.55888199 0.49925226 0.28867338]\n",
            " [0.34006011 0.16260721 0.55408337 0.44901193 0.96273711 0.64739508\n",
            "  0.64935767 0.15430628 0.05942369 0.61634043]\n",
            " [0.10960492 0.08962013 0.01742689 0.71274854 0.1481969  0.13967328\n",
            "  0.70854564 0.66465114 0.65632815 0.91190667]]\n"
          ]
        }
      ]
    },
    {
      "cell_type": "code",
      "source": [
        "v = np.random.random((3 ,3, 3))\n",
        "print(v)"
      ],
      "metadata": {
        "colab": {
          "base_uri": "https://localhost:8080/"
        },
        "id": "GbOtqRfzzoAF",
        "outputId": "fddc97f2-b4a4-4fb4-98be-26d657e93adb"
      },
      "execution_count": 32,
      "outputs": [
        {
          "output_type": "stream",
          "name": "stdout",
          "text": [
            "[[[0.73290828 0.43661823 0.88996808]\n",
            "  [0.95805331 0.79531256 0.16287957]\n",
            "  [0.53057928 0.85018797 0.57011694]]\n",
            "\n",
            " [[0.7919702  0.74364548 0.62005969]\n",
            "  [0.48167945 0.034949   0.1959683 ]\n",
            "  [0.62263341 0.19217076 0.31398534]]\n",
            "\n",
            " [[0.70206404 0.78844787 0.48018092]\n",
            "  [0.68552127 0.85026709 0.1836464 ]\n",
            "  [0.8104431  0.17744328 0.08936702]]]\n"
          ]
        }
      ]
    },
    {
      "cell_type": "code",
      "source": [
        "v = np.random.random((2,2,2))\n",
        "print(v)"
      ],
      "metadata": {
        "colab": {
          "base_uri": "https://localhost:8080/"
        },
        "id": "BX8fIOSWz-VJ",
        "outputId": "2f56cb60-e7de-4f3f-d2a9-2306d67da2e3"
      },
      "execution_count": 34,
      "outputs": [
        {
          "output_type": "stream",
          "name": "stdout",
          "text": [
            "[[[0.22353902 0.58221563]\n",
            "  [0.41727485 0.75666002]]\n",
            "\n",
            " [[0.25274973 0.46674073]\n",
            "  [0.3656913  0.0888699 ]]]\n"
          ]
        }
      ]
    },
    {
      "cell_type": "code",
      "source": [
        "v = np.random.random((2,2))\n",
        "x = np.round(v ,2)*100\n",
        "print(x)"
      ],
      "metadata": {
        "colab": {
          "base_uri": "https://localhost:8080/"
        },
        "id": "Oea0hcTN0Ku2",
        "outputId": "d170293d-6836-4737-98a7-3de58b5bede0"
      },
      "execution_count": 40,
      "outputs": [
        {
          "output_type": "stream",
          "name": "stdout",
          "text": [
            "[[86.  5.]\n",
            " [98. 88.]]\n"
          ]
        }
      ]
    },
    {
      "cell_type": "code",
      "source": [
        "v = np.random.random((3,3,3))\n",
        "x = np.round(v ,2)*100\n",
        "print(x)"
      ],
      "metadata": {
        "colab": {
          "base_uri": "https://localhost:8080/"
        },
        "id": "aNPpiUsI1GId",
        "outputId": "6039f79d-f22f-430b-b34f-38d8e520f301"
      },
      "execution_count": 42,
      "outputs": [
        {
          "output_type": "stream",
          "name": "stdout",
          "text": [
            "[[[1000.  450.  800.]\n",
            "  [ 600.  620.  800.]\n",
            "  [  20.  970.  700.]]\n",
            "\n",
            " [[ 270.  320.  420.]\n",
            "  [ 370.  390.  430.]\n",
            "  [ 230.  330.  710.]]\n",
            "\n",
            " [[ 560.  260.   10.]\n",
            "  [ 730.  380.  630.]\n",
            "  [ 930.  750.  860.]]]\n"
          ]
        }
      ]
    },
    {
      "cell_type": "code",
      "source": [
        "vy = np.random.random(5)\n",
        "print(\"Random array:\", vy)\n",
        "\n",
        "\n",
        "p = np.random.random((3, 3))\n",
        "print(\"Random matrix:\", p)\n"
      ],
      "metadata": {
        "colab": {
          "base_uri": "https://localhost:8080/"
        },
        "id": "Lmrek6do1fja",
        "outputId": "4300e60e-eef2-4838-d119-2ec4ec1e407c"
      },
      "execution_count": 47,
      "outputs": [
        {
          "output_type": "stream",
          "name": "stdout",
          "text": [
            "Random array: [0.76545093 0.94010507 0.806445   0.09133735 0.82825164]\n",
            "Random matrix: [[0.86928337 0.1709164  0.25710054]\n",
            " [0.43985092 0.89943327 0.16789297]\n",
            " [0.38879546 0.62185332 0.36687001]]\n"
          ]
        }
      ]
    },
    {
      "cell_type": "code",
      "source": [
        "v = np.random.random((10, 10))\n",
        "v_max, v_min = v.max(), v.min()\n",
        "print(v_max, v_min)"
      ],
      "metadata": {
        "colab": {
          "base_uri": "https://localhost:8080/"
        },
        "id": "0jBRp2tJ1xkC",
        "outputId": "176cd354-6040-49d1-f63a-50dd41abc966"
      },
      "execution_count": 52,
      "outputs": [
        {
          "output_type": "stream",
          "name": "stdout",
          "text": [
            "0.9929434237737897 0.012442763555681524\n"
          ]
        }
      ]
    },
    {
      "cell_type": "code",
      "source": [
        "v = np.random.random(10)\n",
        "v_sum = v.sum()\n",
        "v_mean = v.mean()\n",
        "print(v_sum)\n",
        "print(v_mean)"
      ],
      "metadata": {
        "colab": {
          "base_uri": "https://localhost:8080/"
        },
        "id": "iydlSk3j2I49",
        "outputId": "78a8023c-2feb-4f48-a748-ae1e002d0dad"
      },
      "execution_count": 58,
      "outputs": [
        {
          "output_type": "stream",
          "name": "stdout",
          "text": [
            "4.455146066247365\n",
            "0.4455146066247365\n"
          ]
        }
      ]
    },
    {
      "cell_type": "code",
      "source": [
        "v = np.ones((10, 10))\n",
        "print(v)\n",
        "v[1:-1, 1:-1] = 0\n",
        "print(v)"
      ],
      "metadata": {
        "colab": {
          "base_uri": "https://localhost:8080/"
        },
        "id": "kWPLtTFj2mdR",
        "outputId": "5ee2f695-c616-46e6-b40a-bf6746e14cb9"
      },
      "execution_count": 59,
      "outputs": [
        {
          "output_type": "stream",
          "name": "stdout",
          "text": [
            "[[1. 1. 1. 1. 1. 1. 1. 1. 1. 1.]\n",
            " [1. 1. 1. 1. 1. 1. 1. 1. 1. 1.]\n",
            " [1. 1. 1. 1. 1. 1. 1. 1. 1. 1.]\n",
            " [1. 1. 1. 1. 1. 1. 1. 1. 1. 1.]\n",
            " [1. 1. 1. 1. 1. 1. 1. 1. 1. 1.]\n",
            " [1. 1. 1. 1. 1. 1. 1. 1. 1. 1.]\n",
            " [1. 1. 1. 1. 1. 1. 1. 1. 1. 1.]\n",
            " [1. 1. 1. 1. 1. 1. 1. 1. 1. 1.]\n",
            " [1. 1. 1. 1. 1. 1. 1. 1. 1. 1.]\n",
            " [1. 1. 1. 1. 1. 1. 1. 1. 1. 1.]]\n"
          ]
        }
      ]
    },
    {
      "cell_type": "code",
      "source": [
        "v = np.zeros((10, 10))\n",
        "# print(v)\n",
        "v[1:-1, 1:-1] = 1\n",
        "print(v)"
      ],
      "metadata": {
        "colab": {
          "base_uri": "https://localhost:8080/"
        },
        "id": "T-POa_YB3FQE",
        "outputId": "6049fc85-a5de-44a1-b5fc-77bb40c3467a"
      },
      "execution_count": 62,
      "outputs": [
        {
          "output_type": "stream",
          "name": "stdout",
          "text": [
            "[[0. 0. 0. 0. 0. 0. 0. 0. 0. 0.]\n",
            " [0. 1. 1. 1. 1. 1. 1. 1. 1. 0.]\n",
            " [0. 1. 1. 1. 1. 1. 1. 1. 1. 0.]\n",
            " [0. 1. 1. 1. 1. 1. 1. 1. 1. 0.]\n",
            " [0. 1. 1. 1. 1. 1. 1. 1. 1. 0.]\n",
            " [0. 1. 1. 1. 1. 1. 1. 1. 1. 0.]\n",
            " [0. 1. 1. 1. 1. 1. 1. 1. 1. 0.]\n",
            " [0. 1. 1. 1. 1. 1. 1. 1. 1. 0.]\n",
            " [0. 1. 1. 1. 1. 1. 1. 1. 1. 0.]\n",
            " [0. 0. 0. 0. 0. 0. 0. 0. 0. 0.]]\n"
          ]
        }
      ]
    },
    {
      "cell_type": "code",
      "source": [
        "v = np.zeros((10, 10))\n",
        "# print(v)\n",
        "v[1:len(v)-1, 1:len(v)-1] = 1\n",
        "print(v)"
      ],
      "metadata": {
        "colab": {
          "base_uri": "https://localhost:8080/"
        },
        "id": "iNtjsbpT4Ly_",
        "outputId": "77944e99-1753-43f0-bf4c-9086f7f341e8"
      },
      "execution_count": 67,
      "outputs": [
        {
          "output_type": "stream",
          "name": "stdout",
          "text": [
            "[[0. 0. 0. 0. 0. 0. 0. 0. 0. 0.]\n",
            " [0. 1. 1. 1. 1. 1. 1. 1. 1. 0.]\n",
            " [0. 1. 1. 1. 1. 1. 1. 1. 1. 0.]\n",
            " [0. 1. 1. 1. 1. 1. 1. 1. 1. 0.]\n",
            " [0. 1. 1. 1. 1. 1. 1. 1. 1. 0.]\n",
            " [0. 1. 1. 1. 1. 1. 1. 1. 1. 0.]\n",
            " [0. 1. 1. 1. 1. 1. 1. 1. 1. 0.]\n",
            " [0. 1. 1. 1. 1. 1. 1. 1. 1. 0.]\n",
            " [0. 1. 1. 1. 1. 1. 1. 1. 1. 0.]\n",
            " [0. 0. 0. 0. 0. 0. 0. 0. 0. 0.]]\n"
          ]
        }
      ]
    },
    {
      "cell_type": "code",
      "source": [
        "\n",
        "v = np.ones((5,5))\n",
        "# print(v)\n",
        "\n",
        "v = np.pad(v, pad_width=1, mode='constant', constant_values=0)\n",
        "print(v)"
      ],
      "metadata": {
        "colab": {
          "base_uri": "https://localhost:8080/"
        },
        "id": "ODBOlSPO5JF8",
        "outputId": "a059f752-2775-488a-f711-e7fdae5b6a60"
      },
      "execution_count": 74,
      "outputs": [
        {
          "output_type": "stream",
          "name": "stdout",
          "text": [
            "[[0. 0. 0. 0. 0. 0. 0.]\n",
            " [0. 1. 1. 1. 1. 1. 0.]\n",
            " [0. 1. 1. 1. 1. 1. 0.]\n",
            " [0. 1. 1. 1. 1. 1. 0.]\n",
            " [0. 1. 1. 1. 1. 1. 0.]\n",
            " [0. 1. 1. 1. 1. 1. 0.]\n",
            " [0. 0. 0. 0. 0. 0. 0.]]\n"
          ]
        }
      ]
    },
    {
      "cell_type": "code",
      "source": [
        "np.nan"
      ],
      "metadata": {
        "colab": {
          "base_uri": "https://localhost:8080/"
        },
        "id": "c7DBh7V_6dF2",
        "outputId": "f3e7cf1b-e833-4151-c01d-0ebe0fe4c1de"
      },
      "execution_count": 75,
      "outputs": [
        {
          "output_type": "execute_result",
          "data": {
            "text/plain": [
              "nan"
            ]
          },
          "metadata": {},
          "execution_count": 75
        }
      ]
    },
    {
      "cell_type": "code",
      "source": [
        "print(np.nan + 5)\n",
        "v = np.ones((10,np.nan))\n",
        "v[1:np.nan, 1:-1] = 0\n",
        "print(v)"
      ],
      "metadata": {
        "colab": {
          "base_uri": "https://localhost:8080/"
        },
        "id": "h-OAklnf7Ax-",
        "outputId": "8d80b04e-b987-4b4d-8890-2d99115a7d5d"
      },
      "execution_count": 76,
      "outputs": [
        {
          "output_type": "stream",
          "name": "stdout",
          "text": [
            "nan\n",
            "False\n",
            "False\n",
            "nan\n",
            "False\n"
          ]
        }
      ]
    },
    {
      "cell_type": "code",
      "source": [
        "print(0.3)\n",
        "print(3*0.1)"
      ],
      "metadata": {
        "colab": {
          "base_uri": "https://localhost:8080/"
        },
        "id": "-0pozC0V7dCD",
        "outputId": "f46a7c02-afd5-4766-a6cc-ba57ac7b399d"
      },
      "execution_count": 77,
      "outputs": [
        {
          "output_type": "stream",
          "name": "stdout",
          "text": [
            "0.3\n",
            "0.30000000000000004\n"
          ]
        }
      ]
    },
    {
      "cell_type": "code",
      "source": [
        "# Create a 5x5 matrix with values 1,2,3,4 just below the diagonal\n",
        "\n",
        "z = np.diag(1 + np.arange(4), k=-1)\n",
        "print(z)"
      ],
      "metadata": {
        "colab": {
          "base_uri": "https://localhost:8080/"
        },
        "id": "5n0yYdhU9Gmz",
        "outputId": "f617fd91-3448-44bf-95f3-6d72a79a8e3c"
      },
      "execution_count": 86,
      "outputs": [
        {
          "output_type": "stream",
          "name": "stdout",
          "text": [
            "[[0 0 0 0 0]\n",
            " [1 0 0 0 0]\n",
            " [0 2 0 0 0]\n",
            " [0 0 3 0 0]\n",
            " [0 0 0 4 0]]\n"
          ]
        }
      ]
    }
  ]
}