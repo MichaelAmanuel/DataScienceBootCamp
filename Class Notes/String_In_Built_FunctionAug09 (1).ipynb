{
  "nbformat": 4,
  "nbformat_minor": 0,
  "metadata": {
    "colab": {
      "provenance": []
    },
    "kernelspec": {
      "name": "python3",
      "display_name": "Python 3"
    },
    "language_info": {
      "name": "python"
    }
  },
  "cells": [
    {
      "cell_type": "markdown",
      "source": [
        "In Python, an \"in-built\" function (often referred to as a built-in function or a standard library function) is a function that is available for use without requiring you to import any external libraries or modules. These functions are part of the Python programming language itself and provide a wide range of functionality for performing various tasks."
      ],
      "metadata": {
        "id": "25ULzX_6TfGu"
      }
    },
    {
      "cell_type": "code",
      "execution_count": null,
      "metadata": {
        "colab": {
          "base_uri": "https://localhost:8080/"
        },
        "id": "9JxgtNHkSdZq",
        "outputId": "04248d11-1e94-4bb0-85b2-72214503b93b"
      },
      "outputs": [
        {
          "output_type": "stream",
          "name": "stdout",
          "text": [
            "HloWrd\n"
          ]
        }
      ],
      "source": [
        "temp_str = \"Hello World\"\n",
        "print(temp_str[::2])\n",
        "# String slicing [start:stop:step]\n"
      ]
    },
    {
      "cell_type": "code",
      "source": [
        "dir(temp_str)"
      ],
      "metadata": {
        "colab": {
          "base_uri": "https://localhost:8080/"
        },
        "id": "ve0Y9nT6S7YB",
        "outputId": "d15950f5-fe35-4e29-9cc0-19388532ab47"
      },
      "execution_count": null,
      "outputs": [
        {
          "output_type": "execute_result",
          "data": {
            "text/plain": [
              "['__add__',\n",
              " '__class__',\n",
              " '__contains__',\n",
              " '__delattr__',\n",
              " '__dir__',\n",
              " '__doc__',\n",
              " '__eq__',\n",
              " '__format__',\n",
              " '__ge__',\n",
              " '__getattribute__',\n",
              " '__getitem__',\n",
              " '__getnewargs__',\n",
              " '__gt__',\n",
              " '__hash__',\n",
              " '__init__',\n",
              " '__init_subclass__',\n",
              " '__iter__',\n",
              " '__le__',\n",
              " '__len__',\n",
              " '__lt__',\n",
              " '__mod__',\n",
              " '__mul__',\n",
              " '__ne__',\n",
              " '__new__',\n",
              " '__reduce__',\n",
              " '__reduce_ex__',\n",
              " '__repr__',\n",
              " '__rmod__',\n",
              " '__rmul__',\n",
              " '__setattr__',\n",
              " '__sizeof__',\n",
              " '__str__',\n",
              " '__subclasshook__',\n",
              " 'capitalize',\n",
              " 'casefold',\n",
              " 'center',\n",
              " 'count',\n",
              " 'encode',\n",
              " 'endswith',\n",
              " 'expandtabs',\n",
              " 'find',\n",
              " 'format',\n",
              " 'format_map',\n",
              " 'index',\n",
              " 'isalnum',\n",
              " 'isalpha',\n",
              " 'isascii',\n",
              " 'isdecimal',\n",
              " 'isdigit',\n",
              " 'isidentifier',\n",
              " 'islower',\n",
              " 'isnumeric',\n",
              " 'isprintable',\n",
              " 'isspace',\n",
              " 'istitle',\n",
              " 'isupper',\n",
              " 'join',\n",
              " 'ljust',\n",
              " 'lower',\n",
              " 'lstrip',\n",
              " 'maketrans',\n",
              " 'partition',\n",
              " 'removeprefix',\n",
              " 'removesuffix',\n",
              " 'replace',\n",
              " 'rfind',\n",
              " 'rindex',\n",
              " 'rjust',\n",
              " 'rpartition',\n",
              " 'rsplit',\n",
              " 'rstrip',\n",
              " 'split',\n",
              " 'splitlines',\n",
              " 'startswith',\n",
              " 'strip',\n",
              " 'swapcase',\n",
              " 'title',\n",
              " 'translate',\n",
              " 'upper',\n",
              " 'zfill']"
            ]
          },
          "metadata": {},
          "execution_count": 2
        }
      ]
    },
    {
      "cell_type": "markdown",
      "source": [
        "The capitalize() method is a string method in Python that returns a new string with the first character of the original string capitalized (converted to uppercase), and all other characters in the string converted to lowercase. This method is used to capitalize the first letter of a string while making the rest of the string lowercase."
      ],
      "metadata": {
        "id": "zIaQnuAqdamj"
      }
    },
    {
      "cell_type": "code",
      "source": [
        "#  takes first letter to capital\n",
        "temp_str = \"hello world\"\n",
        "print(temp_str.capitalize())\n",
        "print(temp_str.upper())"
      ],
      "metadata": {
        "colab": {
          "base_uri": "https://localhost:8080/"
        },
        "id": "WsN2E1Y1Tia3",
        "outputId": "403bcb2f-9591-4e89-eb7f-7f7e6b067959"
      },
      "execution_count": null,
      "outputs": [
        {
          "output_type": "stream",
          "name": "stdout",
          "text": [
            "Hello world\n",
            "HELLO WORLD\n"
          ]
        }
      ]
    },
    {
      "cell_type": "markdown",
      "source": [
        "The casefold() method is a string method in Python that returns a new string where all characters are converted to lowercase, and certain Unicode characters are also folded to their lowercase equivalents. This method is similar to the lower() method, but it is more aggressive in terms of case conversion."
      ],
      "metadata": {
        "id": "yXSbI2ridAAY"
      }
    },
    {
      "cell_type": "code",
      "source": [
        "#  retern a string where all character are lower\n",
        "temp_str = \"hello worLD\"\n",
        "print(temp_str.casefold())\n",
        "print(temp_str.lower())"
      ],
      "metadata": {
        "colab": {
          "base_uri": "https://localhost:8080/"
        },
        "outputId": "1cece8f0-32ce-4b38-8bf1-427144076ae5",
        "id": "GsNLj9-6UW0Q"
      },
      "execution_count": null,
      "outputs": [
        {
          "output_type": "stream",
          "name": "stdout",
          "text": [
            "hello world\n",
            "hello world\n"
          ]
        }
      ]
    },
    {
      "cell_type": "markdown",
      "source": [
        "\n",
        "**The center() method is a string method in Python that is used to center-align a string within a specified width. This method returns a new string, which is padded with spaces on both sides to achieve the desired alignment."
      ],
      "metadata": {
        "id": "ktMDvbgsVrdo"
      }
    },
    {
      "cell_type": "code",
      "source": [
        "# Increase length of string by adding whatever char is mentioned\n",
        "temp_str = \"Hello World\"\n",
        "print(temp_str.center(24,\"+\"))"
      ],
      "metadata": {
        "colab": {
          "base_uri": "https://localhost:8080/"
        },
        "id": "CpwE2L5kU53l",
        "outputId": "16c52072-6dd4-4d8b-b783-1fe805453841"
      },
      "execution_count": null,
      "outputs": [
        {
          "output_type": "stream",
          "name": "stdout",
          "text": [
            "++++++Hello World+++++++\n"
          ]
        }
      ]
    },
    {
      "cell_type": "code",
      "source": [
        "# returns how many times the substring appears in the given range in the big string\n",
        "# count() is case sensetive function\n",
        "temp_str = \"hello World how is every thing going on is hello\"\n",
        "print(temp_str.count(\"is\"))\n",
        "# how togive range\n",
        "# count(value,start,end)\n",
        "# start and end are optional\n",
        "print(temp_str.count(\"hello\",10))\n",
        "\n"
      ],
      "metadata": {
        "colab": {
          "base_uri": "https://localhost:8080/"
        },
        "id": "KXXKaDfQVv-_",
        "outputId": "633680f6-75e8-4141-8326-f799063ddcba"
      },
      "execution_count": null,
      "outputs": [
        {
          "output_type": "stream",
          "name": "stdout",
          "text": [
            "2\n",
            "1\n"
          ]
        }
      ]
    },
    {
      "cell_type": "code",
      "source": [
        "print(temp_str.count(\"hello\",43))"
      ],
      "metadata": {
        "colab": {
          "base_uri": "https://localhost:8080/"
        },
        "id": "8zHS7B3sXkE0",
        "outputId": "0f8c9190-1700-4ffa-ca02-0fb1120e4a22"
      },
      "execution_count": null,
      "outputs": [
        {
          "output_type": "stream",
          "name": "stdout",
          "text": [
            "1\n"
          ]
        }
      ]
    },
    {
      "cell_type": "markdown",
      "source": [
        "The endswith() method is a string method in Python that is used to check whether a given string ends with a specified substring. This method returns True if the string ends with the specified substring, and False otherwise."
      ],
      "metadata": {
        "id": "YHJPRejOczzs"
      }
    },
    {
      "cell_type": "code",
      "source": [
        "# Return True and False on the basis of suffux passed\n",
        "temp_str = \"hello World how is every thing going on is hello.?\"\n",
        "# endswith(value,start,end)\n",
        "temp_str.endswith(\"hello.?\",0,5),temp_str.endswith(\"o\",0,5)"
      ],
      "metadata": {
        "colab": {
          "base_uri": "https://localhost:8080/"
        },
        "id": "jqd8YMgmayvF",
        "outputId": "a75ae84e-05e4-42d0-d9a7-c66ce09ec8ff"
      },
      "execution_count": null,
      "outputs": [
        {
          "output_type": "execute_result",
          "data": {
            "text/plain": [
              "(False, True)"
            ]
          },
          "metadata": {},
          "execution_count": 37
        }
      ]
    },
    {
      "cell_type": "code",
      "source": [
        "# lowest index of the substring if found else return -1\n",
        "temp_str = \"hello World how is every thing going on is hello.?\"\n",
        "print(temp_str.find('how'))\n",
        "print(temp_str.find(\"is\"))"
      ],
      "metadata": {
        "colab": {
          "base_uri": "https://localhost:8080/"
        },
        "id": "_VP9ZfQlcwhH",
        "outputId": "c60e26e0-9d99-4122-b319-221c7b222e83"
      },
      "execution_count": null,
      "outputs": [
        {
          "output_type": "stream",
          "name": "stdout",
          "text": [
            "11\n",
            "16\n"
          ]
        }
      ]
    },
    {
      "cell_type": "markdown",
      "source": [
        "The format() method in Python is used to format strings by replacing placeholders in the string with specified values."
      ],
      "metadata": {
        "id": "fjEHp5tTgWoQ"
      }
    },
    {
      "cell_type": "code",
      "source": [
        "temp_str = \"Hello World how is {name}.I am a {position}.\"\n",
        "print(temp_str.format(name=\"Michael\",position=\"Boss\"))"
      ],
      "metadata": {
        "colab": {
          "base_uri": "https://localhost:8080/"
        },
        "id": "-Y-ZRclgew7S",
        "outputId": "9359641c-c70a-4c45-9155-5c8f1494e171"
      },
      "execution_count": null,
      "outputs": [
        {
          "output_type": "stream",
          "name": "stdout",
          "text": [
            "Hello World how is Michael.I am a Boss.\n"
          ]
        }
      ]
    },
    {
      "cell_type": "code",
      "source": [
        "# Function\n",
        "# 1. format map\n",
        "# 2. expandtabs\n",
        "# replica of find function but this returns error if nothng found\n",
        "temp_str = \"hello World how is every thing going on is hello.?\"\n",
        "temp_str.index(\"hell\")"
      ],
      "metadata": {
        "colab": {
          "base_uri": "https://localhost:8080/"
        },
        "id": "dtKQM84dgYUj",
        "outputId": "1bce5b95-87c8-4461-f84f-8e260700f7eb"
      },
      "execution_count": null,
      "outputs": [
        {
          "output_type": "execute_result",
          "data": {
            "text/plain": [
              "0"
            ]
          },
          "metadata": {},
          "execution_count": 53
        }
      ]
    },
    {
      "cell_type": "code",
      "source": [
        "# Returns Trueif only numbers and alphabets are present else returns false\n",
        "temp_str = \"hello World how is every thing going on is hello\"\n",
        "temp_str1 = 'Hellomike123mike'\n",
        "print(temp_str.isalnum())\n",
        "print(temp_str1.isalnum())\n",
        "print(temp_str[0:8].isalnum())"
      ],
      "metadata": {
        "colab": {
          "base_uri": "https://localhost:8080/"
        },
        "id": "AmsW6hEPiSr9",
        "outputId": "721a2ed8-fd58-4110-ad0a-9da77df4a415"
      },
      "execution_count": null,
      "outputs": [
        {
          "output_type": "stream",
          "name": "stdout",
          "text": [
            "False\n",
            "True\n",
            "False\n"
          ]
        }
      ]
    },
    {
      "cell_type": "code",
      "source": [
        "temp_str = \"hello World how is every thing going on is hello.?\"\n",
        "temp_str1 = 'Hellomike123mike'\n",
        "print(temp_str.isalpha())\n",
        "print(temp_str1.isalpha())\n",
        "print(temp_str1[0:6].isalpha())\n"
      ],
      "metadata": {
        "colab": {
          "base_uri": "https://localhost:8080/"
        },
        "id": "LwO5YhqKjMak",
        "outputId": "b33c7cf5-38e1-4e1a-82a1-39a55b09a944"
      },
      "execution_count": null,
      "outputs": [
        {
          "output_type": "stream",
          "name": "stdout",
          "text": [
            "False\n",
            "False\n",
            "True\n"
          ]
        }
      ]
    },
    {
      "cell_type": "code",
      "source": [
        "# returns if only numbers between\n",
        "str = \"Hello World\"\n",
        "print(str.isdecimal())\n",
        "int = \"12345678912314\"\n",
        "print(int.isdecimal())\n",
        "unicode_0 = \"\\u0030\""
      ],
      "metadata": {
        "colab": {
          "base_uri": "https://localhost:8080/"
        },
        "id": "N7SgEBoHkhaR",
        "outputId": "1b708dc5-f60f-45be-d1c1-28d00d26358a"
      },
      "execution_count": null,
      "outputs": [
        {
          "output_type": "stream",
          "name": "stdout",
          "text": [
            "False\n",
            "True\n"
          ]
        }
      ]
    },
    {
      "cell_type": "code",
      "source": [
        "#\n",
        "str = \"Hello World\"\n",
        "print(str.isdigit())\n",
        "int = \"12345\"\n",
        "print(int.isdigit())"
      ],
      "metadata": {
        "colab": {
          "base_uri": "https://localhost:8080/"
        },
        "id": "Ikfiqpa8k55h",
        "outputId": "7ae0a476-9f31-4ccf-9d49-369c2ac14978"
      },
      "execution_count": null,
      "outputs": [
        {
          "output_type": "stream",
          "name": "stdout",
          "text": [
            "False\n",
            "True\n"
          ]
        }
      ]
    },
    {
      "cell_type": "code",
      "source": [
        "#  returns True if the word is a keyword in python else False\n",
        "temp_str = \"Hello world\"\n",
        "print(temp_str.isidentifier())\n",
        "temp_str2 = \"if\"\n",
        "print(temp_str2.isidentifier())"
      ],
      "metadata": {
        "colab": {
          "base_uri": "https://localhost:8080/"
        },
        "id": "KtZsDwkhapRf",
        "outputId": "b8d5659f-7853-4279-ff2e-66df8ce8e63d"
      },
      "execution_count": 3,
      "outputs": [
        {
          "output_type": "stream",
          "name": "stdout",
          "text": [
            "False\n",
            "True\n"
          ]
        }
      ]
    },
    {
      "cell_type": "markdown",
      "source": [
        "An identifier is a name given to entities like variables, functions, classes, etc. It's important for an identifier to follow certain rules to be valid."
      ],
      "metadata": {
        "id": "isCi6mBdc32u"
      }
    },
    {
      "cell_type": "code",
      "source": [
        "#  returns true if no capital letter else false\n",
        "# also works with variable declaration\n",
        "temp_str = \"Hello world\"\n",
        "temp_str2 = 'hello world 12345'\n",
        "print(temp_str.islower())\n",
        "print(temp_str2.islower())"
      ],
      "metadata": {
        "colab": {
          "base_uri": "https://localhost:8080/"
        },
        "id": "4jZzHr6rapB0",
        "outputId": "157c6349-6a49-4933-e251-839693d40be0"
      },
      "execution_count": 5,
      "outputs": [
        {
          "output_type": "stream",
          "name": "stdout",
          "text": [
            "False\n",
            "True\n"
          ]
        }
      ]
    },
    {
      "cell_type": "code",
      "source": [
        "# he .isspace() method in Python is used to check if a given string consists only of whitespace characters.\n",
        "temp_str = \"Hello world\"\n",
        "temp_str2 = ' '\n",
        "print(temp_str.isspace())\n",
        "print(temp_str2.isspace())"
      ],
      "metadata": {
        "colab": {
          "base_uri": "https://localhost:8080/"
        },
        "id": "h1fP2OlJc6so",
        "outputId": "cfa329c5-65e2-4826-cfff-add4ea825654"
      },
      "execution_count": 7,
      "outputs": [
        {
          "output_type": "stream",
          "name": "stdout",
          "text": [
            "False\n",
            "True\n"
          ]
        }
      ]
    },
    {
      "cell_type": "code",
      "source": [
        "# The .istitle() method in Python is used to check if a given string follows the rules of title case.\n",
        "# True id fist chr of each the word are capital\n",
        "temp_str = \"Hello World\"\n",
        "temp_str2 = 'Hello world'\n",
        "print(temp_str.istitle())\n",
        "print(temp_str2.istitle())"
      ],
      "metadata": {
        "colab": {
          "base_uri": "https://localhost:8080/"
        },
        "id": "ZbuMWtljdpky",
        "outputId": "6fd7b4a8-b0be-41d4-bdb2-2584d6479ed5"
      },
      "execution_count": 12,
      "outputs": [
        {
          "output_type": "stream",
          "name": "stdout",
          "text": [
            "True\n",
            "False\n"
          ]
        }
      ]
    },
    {
      "cell_type": "code",
      "source": [
        "# True if all the alphabets are in upper case\n",
        "temp_str = \"Hello World\"\n",
        "temp_str2 = 'HELLO WORLD 123'\n",
        "print(temp_str.isupper())\n",
        "print(temp_str2.isupper())"
      ],
      "metadata": {
        "colab": {
          "base_uri": "https://localhost:8080/"
        },
        "id": "lrh0Fj7ReL6K",
        "outputId": "014030b2-7ec0-44be-d30a-f31712b006c2"
      },
      "execution_count": 18,
      "outputs": [
        {
          "output_type": "stream",
          "name": "stdout",
          "text": [
            "False\n",
            "True\n"
          ]
        }
      ]
    },
    {
      "cell_type": "code",
      "source": [
        "#  print\n",
        "temp_list = [\"Hello\", \"World\", \"How\", \"Are\", \"You\"]\n",
        "print(\" \".join(temp_list))"
      ],
      "metadata": {
        "colab": {
          "base_uri": "https://localhost:8080/"
        },
        "id": "IsqZLxE5fntL",
        "outputId": "63bcc01f-2b99-4295-db71-28367d15b052"
      },
      "execution_count": 26,
      "outputs": [
        {
          "output_type": "stream",
          "name": "stdout",
          "text": [
            "Hello 111 World How Are You\n"
          ]
        }
      ]
    },
    {
      "cell_type": "code",
      "source": [
        "#\n",
        "temp_str = \"Hello World\"\n",
        "temp_str2 = 'HELLO WORLD 123'\n",
        "print(temp_str.lower())\n",
        "print(temp_str2.lower())"
      ],
      "metadata": {
        "colab": {
          "base_uri": "https://localhost:8080/"
        },
        "id": "pzZ4dvRHhhho",
        "outputId": "922a1355-9e5c-47ab-aea7-c1da80fc97d1"
      },
      "execution_count": 27,
      "outputs": [
        {
          "output_type": "stream",
          "name": "stdout",
          "text": [
            "hello world\n",
            "hello world 123\n"
          ]
        }
      ]
    },
    {
      "cell_type": "code",
      "source": [
        "# Remove whiye space andtabs on left side of the string\n",
        "temp_str = \"           Hello World    u\"\n",
        "temp_str2 = '         HELLO WORLD      123'\n",
        "print(temp_str.lstrip())\n",
        "print(temp_str2.lstrip())"
      ],
      "metadata": {
        "colab": {
          "base_uri": "https://localhost:8080/"
        },
        "id": "NzmUTW0xilSL",
        "outputId": "35c8779b-f754-4113-ddf2-1f2ea42c7ef7"
      },
      "execution_count": 30,
      "outputs": [
        {
          "output_type": "stream",
          "name": "stdout",
          "text": [
            "Hello World    u\n",
            "HELLO WORLD      123\n"
          ]
        }
      ]
    },
    {
      "cell_type": "code",
      "source": [
        "# Remove whiye space andtabs on right side of the string\n",
        "temp_str = \"           Hello World    \"\n",
        "temp_str2 = '         HELLO WORLD      123'\n",
        "print(temp_str.rstrip())\n",
        "print(temp_str2.rstrip())"
      ],
      "metadata": {
        "colab": {
          "base_uri": "https://localhost:8080/"
        },
        "id": "9vztLHOVlqL5",
        "outputId": "5c505471-ebbb-4cfc-daed-98b590a5109c"
      },
      "execution_count": 48,
      "outputs": [
        {
          "output_type": "stream",
          "name": "stdout",
          "text": [
            "           Hello World\n",
            "         HELLO WORLD      123\n"
          ]
        }
      ]
    },
    {
      "cell_type": "code",
      "source": [
        "#\n",
        "temp_str = \"i could eat apples all day\"\n",
        "temp_str2 = 'HELLO word 123'\n",
        "print(temp_str.partition(\"apples\"))\n",
        "print(temp_str2.partition(\"word\"))"
      ],
      "metadata": {
        "colab": {
          "base_uri": "https://localhost:8080/"
        },
        "id": "2sHvsvYVi89v",
        "outputId": "9489dbae-e0d5-4556-dcb7-f905ba0110da"
      },
      "execution_count": 37,
      "outputs": [
        {
          "output_type": "stream",
          "name": "stdout",
          "text": [
            "('i could eat ', 'apples', ' all day')\n",
            "('HELLO ', 'word', ' 123')\n"
          ]
        }
      ]
    },
    {
      "cell_type": "code",
      "source": [
        "#\n",
        "temp_str = \"i could eat apples all day\"\n",
        "temp_str2 = 'HELLO WORLD 123'\n",
        "print(temp_str.replace(\"i\", 'I').replace(\"eat\", 'ate').replace(\"day\", 'night.'))\n",
        "print(temp_str2.replace(\"WORLD\", 'world'))"
      ],
      "metadata": {
        "colab": {
          "base_uri": "https://localhost:8080/"
        },
        "id": "38cjz6KBkMB1",
        "outputId": "6041996d-5a2f-457f-e5f5-91a85be33144"
      },
      "execution_count": 45,
      "outputs": [
        {
          "output_type": "stream",
          "name": "stdout",
          "text": [
            "I could ate apples all night.\n",
            "HELLO world 123\n"
          ]
        }
      ]
    },
    {
      "cell_type": "code",
      "source": [
        "temp_str = \"i could eat apples all day\"\n",
        "print(temp_str.split(\",\"))\n",
        "print(temp_str.split())"
      ],
      "metadata": {
        "colab": {
          "base_uri": "https://localhost:8080/"
        },
        "id": "pNgFgljOlk8f",
        "outputId": "ec402b1d-fe1d-48e6-e247-44829657ec14"
      },
      "execution_count": 55,
      "outputs": [
        {
          "output_type": "stream",
          "name": "stdout",
          "text": [
            "['i could eat apples all day']\n",
            "['i', 'could', 'eat', 'apples', 'all', 'day']\n"
          ]
        }
      ]
    },
    {
      "cell_type": "code",
      "source": [
        "temp_str = \"i could eat apples all day, that all i can say\"\n",
        "print(temp_str.startswith(\"i\"))\n",
        "print(temp_str.startswith(\"could\"))"
      ],
      "metadata": {
        "colab": {
          "base_uri": "https://localhost:8080/"
        },
        "id": "Woqz5t9NllDt",
        "outputId": "b6fedcad-37c1-4e6c-bd3c-961293e771b5"
      },
      "execution_count": 60,
      "outputs": [
        {
          "output_type": "stream",
          "name": "stdout",
          "text": [
            "True\n",
            "False\n"
          ]
        }
      ]
    },
    {
      "cell_type": "code",
      "source": [
        "temp_str = \"          Hello World\"\n",
        "temp_str.strip()"
      ],
      "metadata": {
        "colab": {
          "base_uri": "https://localhost:8080/",
          "height": 35
        },
        "id": "oACpPLeYnT0T",
        "outputId": "3d672610-0ed2-4eca-d837-6dff2ec12013"
      },
      "execution_count": 61,
      "outputs": [
        {
          "output_type": "execute_result",
          "data": {
            "text/plain": [
              "'Hello World'"
            ],
            "application/vnd.google.colaboratory.intrinsic+json": {
              "type": "string"
            }
          },
          "metadata": {},
          "execution_count": 61
        }
      ]
    },
    {
      "cell_type": "code",
      "source": [
        "temp_str = \"i could eat Apple aLL day, that all i can say\"\n",
        "print(temp_str.swapcase())"
      ],
      "metadata": {
        "colab": {
          "base_uri": "https://localhost:8080/"
        },
        "id": "IHhsG7bmnres",
        "outputId": "697f4ccc-63ec-404b-b2ef-bd555c260543"
      },
      "execution_count": 64,
      "outputs": [
        {
          "output_type": "stream",
          "name": "stdout",
          "text": [
            "I COULD EAT aPPLE All DAY, THAT ALL I CAN SAY\n"
          ]
        }
      ]
    },
    {
      "cell_type": "code",
      "source": [
        "temp_str = \"i could eat apples all day, that all i can say\"\n",
        "print(temp_str.title())"
      ],
      "metadata": {
        "colab": {
          "base_uri": "https://localhost:8080/"
        },
        "id": "6v7JJBifn5p6",
        "outputId": "858d45e4-bbd1-4339-cf64-2268d0b59edd"
      },
      "execution_count": 65,
      "outputs": [
        {
          "output_type": "stream",
          "name": "stdout",
          "text": [
            "I Could Eat Apples All Day, That All I Can Say\n"
          ]
        }
      ]
    },
    {
      "cell_type": "code",
      "source": [
        "# ASSCI code value of s is 83 default we replace it with 80 here which is P\n",
        "temp_dict = {83:80, 88:83}\n",
        "temp_str = \"Hello Sam! Shhhhhh\"\n",
        "\n",
        "temp_str.translate(temp_dict)"
      ],
      "metadata": {
        "colab": {
          "base_uri": "https://localhost:8080/",
          "height": 35
        },
        "id": "y_fHltGIoWRe",
        "outputId": "42a53fdb-3aea-4cc9-cc5d-c5457eb2b357"
      },
      "execution_count": 94,
      "outputs": [
        {
          "output_type": "execute_result",
          "data": {
            "text/plain": [
              "'Hello Pam! Phhhhhh'"
            ],
            "application/vnd.google.colaboratory.intrinsic+json": {
              "type": "string"
            }
          },
          "metadata": {},
          "execution_count": 94
        }
      ]
    },
    {
      "cell_type": "code",
      "source": [
        "temp_dic = dict(name= 'Mike',age=33,country='Eritrea')\n",
        "print(temp_dic)\n"
      ],
      "metadata": {
        "colab": {
          "base_uri": "https://localhost:8080/"
        },
        "id": "lnAgyhWRp4Nh",
        "outputId": "c186dd0a-b930-42b6-f0b3-3550b8e5c7c2"
      },
      "execution_count": 83,
      "outputs": [
        {
          "output_type": "stream",
          "name": "stdout",
          "text": [
            "{'name': 'Mike', 'age': 33, 'country': 'Eritrea'}\n"
          ]
        }
      ]
    },
    {
      "cell_type": "code",
      "source": [
        "temp_str = \"i could eat apples all day, that all i can say\"\n",
        "temp_str.upper()"
      ],
      "metadata": {
        "colab": {
          "base_uri": "https://localhost:8080/",
          "height": 35
        },
        "id": "aIkm_0eztW9k",
        "outputId": "d704af31-d23b-40e3-c893-e101fb123a09"
      },
      "execution_count": 95,
      "outputs": [
        {
          "output_type": "execute_result",
          "data": {
            "text/plain": [
              "'I COULD EAT APPLES ALL DAY, THAT ALL I CAN SAY'"
            ],
            "application/vnd.google.colaboratory.intrinsic+json": {
              "type": "string"
            }
          },
          "metadata": {},
          "execution_count": 95
        }
      ]
    },
    {
      "cell_type": "markdown",
      "source": [
        "**The .zfill() method is a string method in Python that pads a string with zeros (0) on the left side to a specified width. It's often used to ensure that a string has a minimum length by adding leading zeros if necessary."
      ],
      "metadata": {
        "id": "qnCROMAkusqI"
      }
    },
    {
      "cell_type": "code",
      "source": [
        "#\n",
        "temp_str = \"i could eat apples all day, that all i can say\"\n",
        "print(len(temp_str))\n",
        "print(temp_str.zfill(10))\n",
        "print(temp_str.zfill(50))\n",
        "print(temp_str.zfill(60))"
      ],
      "metadata": {
        "colab": {
          "base_uri": "https://localhost:8080/"
        },
        "id": "-46L1NLbt_qw",
        "outputId": "aadfb09f-2e7f-4358-88cb-11838819149c"
      },
      "execution_count": 100,
      "outputs": [
        {
          "output_type": "stream",
          "name": "stdout",
          "text": [
            "46\n",
            "i could eat apples all day, that all i can say\n",
            "0000i could eat apples all day, that all i can say\n",
            "00000000000000i could eat apples all day, that all i can say\n"
          ]
        }
      ]
    }
  ]
}