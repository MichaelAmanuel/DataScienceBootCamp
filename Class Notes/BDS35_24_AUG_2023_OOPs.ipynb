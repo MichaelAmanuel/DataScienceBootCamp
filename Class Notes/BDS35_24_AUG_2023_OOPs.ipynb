{
  "nbformat": 4,
  "nbformat_minor": 0,
  "metadata": {
    "colab": {
      "provenance": []
    },
    "kernelspec": {
      "name": "python3",
      "display_name": "Python 3"
    },
    "language_info": {
      "name": "python"
    }
  },
  "cells": [
    {
      "cell_type": "code",
      "execution_count": null,
      "metadata": {
        "id": "aAkh9FsH9aj8"
      },
      "outputs": [],
      "source": [
        "# 1. Over Loading\n",
        "# 2. Over Ridding\n",
        "# 3. Opearator\n",
        "# 4. Polymorphism\n",
        "# 5. Encapsulation"
      ]
    },
    {
      "cell_type": "code",
      "source": [
        "print(10 + 12)"
      ],
      "metadata": {
        "colab": {
          "base_uri": "https://localhost:8080/"
        },
        "id": "Uq7p9wlVB8hu",
        "outputId": "dbf8560e-22b7-4b25-db95-0a5d4ee5e6d0"
      },
      "execution_count": 1,
      "outputs": [
        {
          "output_type": "stream",
          "name": "stdout",
          "text": [
            "22\n"
          ]
        }
      ]
    },
    {
      "cell_type": "code",
      "source": [
        "print(3.1415 + 3.1415)"
      ],
      "metadata": {
        "colab": {
          "base_uri": "https://localhost:8080/"
        },
        "id": "do6G5oORCBn-",
        "outputId": "71f0c327-59ff-4d90-9505-abf9cc177ba5"
      },
      "execution_count": 2,
      "outputs": [
        {
          "output_type": "stream",
          "name": "stdout",
          "text": [
            "6.283\n"
          ]
        }
      ]
    },
    {
      "cell_type": "code",
      "source": [
        "print('Python' + 'Programming')"
      ],
      "metadata": {
        "colab": {
          "base_uri": "https://localhost:8080/"
        },
        "id": "K6UrhFf0CHEw",
        "outputId": "8a2449b3-438d-4d42-9ca4-3511e6e00f65"
      },
      "execution_count": 3,
      "outputs": [
        {
          "output_type": "stream",
          "name": "stdout",
          "text": [
            "PythonProgramming\n"
          ]
        }
      ]
    },
    {
      "cell_type": "code",
      "source": [
        "l = 'Python Programming'\n",
        "\n",
        "print(len(l))\n",
        "\n",
        "l = [12,23,34,45,56,67,78,89,90]\n",
        "print(len(l))\n",
        "\n",
        "l = (1,2,3,4,5,6,7)\n",
        "print(len(l))\n",
        "\n",
        "l = {'a':'apple',\n",
        "      'b':\"banana\"\n",
        "    }\n",
        "print(len(l))"
      ],
      "metadata": {
        "colab": {
          "base_uri": "https://localhost:8080/"
        },
        "id": "hVJFniXtC7qb",
        "outputId": "73608ea6-c28e-498e-b341-a3db351f021e"
      },
      "execution_count": 8,
      "outputs": [
        {
          "output_type": "stream",
          "name": "stdout",
          "text": [
            "18\n",
            "9\n",
            "7\n",
            "2\n"
          ]
        }
      ]
    },
    {
      "cell_type": "code",
      "source": [
        "class person:\n",
        "  def __init__(self, fname, mname, lname):\n",
        "    pass\n",
        "  def print_details(self):\n",
        "    print(self.fname, self.mname, self.lname)\n",
        "class student(person):\n",
        "  def __init__(self, fname, mname, lname):\n",
        "    pass\n",
        "  def print_details(self):\n",
        "    print(self.fname, self.mname, self.lname)"
      ],
      "metadata": {
        "id": "e0umY5aAD73s"
      },
      "execution_count": null,
      "outputs": []
    },
    {
      "cell_type": "code",
      "source": [
        "class Car:\n",
        "  def __init__(self, brand, model):\n",
        "    self.brand = brand\n",
        "    self.model = model\n",
        "\n",
        "  def move(self):\n",
        "    print(\"Drive!\")\n",
        "\n",
        "class Boat:\n",
        "  def __init__(self, brand, model):\n",
        "    self.brand = brand\n",
        "    self.model = model\n",
        "\n",
        "  def move(self):\n",
        "    print(\"Sail!\")\n",
        "\n",
        "class Plane:\n",
        "  def __init__(self, brand, model):\n",
        "    self.brand = brand\n",
        "    self.model = model\n",
        "\n",
        "  def move(self):\n",
        "    print(\"Fly!\")\n",
        "\n",
        "car1 = Car(\"Ford\", \"Mustang\")       #Create a Car class\n",
        "boat1 = Boat(\"Ibiza\", \"Touring 20\") #Create a Boat class\n",
        "plane1 = Plane(\"Boeing\", \"747\")     #Create a Plane class\n",
        "\n",
        "for x in (car1, boat1, plane1):\n",
        "  x.move()"
      ],
      "metadata": {
        "colab": {
          "base_uri": "https://localhost:8080/"
        },
        "id": "v9gRyiabFEs7",
        "outputId": "51c9fe36-78ed-4bad-9f84-286fb48b32c7"
      },
      "execution_count": 9,
      "outputs": [
        {
          "output_type": "stream",
          "name": "stdout",
          "text": [
            "Drive!\n",
            "Sail!\n",
            "Fly!\n"
          ]
        }
      ]
    },
    {
      "cell_type": "code",
      "source": [
        "class vehicle:\n",
        "  def __init__(self, brand, model):\n",
        "    self.brand = brand\n",
        "    self.model = model\n",
        "\n",
        "  def move(self):\n",
        "    print(\"Drive!\")\n",
        "\n",
        "class Car(vehicle):\n",
        "\n",
        "  def move(self):\n",
        "    print(\"Drive!\")\n",
        "\n",
        "class Boat(vehicle):\n",
        "\n",
        "  def move(self):\n",
        "    print(\"Sail!\")\n",
        "\n",
        "class Plane(vehicle):\n",
        "\n",
        "  def move(self):\n",
        "    print(\"Fly!\")\n",
        "\n",
        "car1 = Car(\"Ford\", \"Mustang\")       #Create a Car class\n",
        "boat1 = Boat(\"Ibiza\", \"Touring 20\") #Create a Boat class\n",
        "plane1 = Plane(\"Boeing\", \"747\")     #Create a Plane class\n",
        "\n",
        "for x in (car1, boat1, plane1):\n",
        "  print(x.brand,' ', x.model)\n",
        "\n",
        "  x.move()"
      ],
      "metadata": {
        "colab": {
          "base_uri": "https://localhost:8080/"
        },
        "id": "pHxHoG6qIqw5",
        "outputId": "57b697d5-3019-4f0d-c344-b08391431465"
      },
      "execution_count": 15,
      "outputs": [
        {
          "output_type": "stream",
          "name": "stdout",
          "text": [
            "Ford   Mustang\n",
            "Drive!\n",
            "Ibiza   Touring 20\n",
            "Sail!\n",
            "Boeing   747\n",
            "Fly!\n"
          ]
        }
      ]
    },
    {
      "cell_type": "markdown",
      "source": [
        "**The code demonstrates several object-oriented programming concepts. Let's go through each concept and explain how they're used in  code:\n",
        "\n",
        "1. **Inheritance**: Inheritance is a fundamental concept in object-oriented programming. It allows you to create a new class (subclass) that inherits properties and methods from an existing class (superclass). In this code, classes Car, Boat, and Plane are subclasses of the vehicle class. They inherit the attributes brand and model, as well as the move() method.\n",
        "\n",
        "2. **Method Overriding:** Method overriding involves providing a new implementation for a method in a subclass that's already defined in its superclass. In this code, each subclass (Car, Boat, Plane) overrides the move() method of the parent class vehicle to provide its own specific implementation.\n",
        "\n",
        "3. **Operator Overloading:** Operator overloading allows you to define how operators behave for objects of a class. While this code doesn't explicitly demonstrate operator overloading, it's a concept in Python where you can define methods like __add__, __sub__, etc., to customize how operators behave on objects of your class.\n",
        "\n",
        "4. **Polymorphism:** Polymorphism allows objects of different classes to be treated as objects of a common superclass. In your code, you're using a loop to iterate through instances of different classes (Car, Boat, Plane) as if they were all instances of the vehicle superclass. This is possible because they share a common interface (the move() method).\n",
        "\n",
        "5. **Encapsulation:** Encapsulation is the concept of bundling data (attributes) and methods that operate on the data into a single unit (a class). By using classes and defining attributes as instance variables (inside the __init__ method) and methods, you're encapsulating the data and functionality related to vehicles within each class.\n",
        "\n",
        "In summary, this code demonstrates the use of inheritance, method overriding, polymorphism, and encapsulation, which are all core concepts of object-oriented programming. Operator overloading, while not explicitly shown in this code, is another concept that allows you to customize how operators work with objects of your classes.**\n",
        "\n"
      ],
      "metadata": {
        "id": "au-oJxrCMJC3"
      }
    },
    {
      "cell_type": "code",
      "source": [
        "class Country:\n",
        "  def __init__(self, state, capital, population):\n",
        "    self.state = state\n",
        "    self.capital = capital\n",
        "\n",
        "  def economy():\n",
        "    print('The economy is good')\n",
        "\n",
        "class Country:\n",
        "    def __init__(self, state, capital, population):\n",
        "        self.state = state\n",
        "        self.capital = capital\n",
        "\n",
        "    def economy():\n",
        "        print('The economy is good')\n",
        "\n",
        "\n",
        "class state_one(Country):\n",
        "    def __init__(self, state, capital, population):\n",
        "        self.state = state\n",
        "        self.capital = capital\n",
        "\n",
        "    def economy(self):\n",
        "        print(f'The economy  in bad condition')\n",
        "\n",
        "\n",
        "class state_two(Country):\n",
        "    def __init__(self, state, capital, population):\n",
        "        self.state = state\n",
        "        self.capital = capital\n",
        "\n",
        "    def economy(self):\n",
        "        print(f'The economy  in not good ')\n",
        "\n",
        "\n",
        "class state_three(Country):\n",
        "    def __init__(self, state, capital, population):\n",
        "        self.state = state\n",
        "        self.capital = capital\n",
        "\n",
        "    def economy(self):\n",
        "        print(f'The economy  is in very bad ')\n",
        "\n",
        "\n",
        "state_1 = state_one('ca', 'Oakland', 6)\n",
        "state_2 = state_two('tx', 'Dallas', 4)\n",
        "state_3 = state_three('NY', 'NewYork', 5)\n",
        "\n",
        "\n",
        "for i in (state_1, state_2, state_3):\n",
        "    i.economy()"
      ],
      "metadata": {
        "colab": {
          "base_uri": "https://localhost:8080/"
        },
        "id": "wztd71HlO1Kr",
        "outputId": "42aeb3e7-9eea-4b75-a525-3d4367fe3da3"
      },
      "execution_count": 35,
      "outputs": [
        {
          "output_type": "stream",
          "name": "stdout",
          "text": [
            "The economy  in bad condition\n",
            "The economy  in not good \n",
            "The economy  is in very bad \n"
          ]
        }
      ]
    },
    {
      "cell_type": "code",
      "source": [
        "class Country:\n",
        "  def __init__(self, state, capital):\n",
        "    self.state = state\n",
        "    self.capital = capital\n",
        "\n",
        "  def economy():\n",
        "    print('The economy is good')\n",
        "\n",
        "  def country(self):\n",
        "    print(\"The Country name is USA and the capital is DC\")\n",
        "\n",
        "class State_one(Country):\n",
        "  def __init__(self, state, capital,population):\n",
        "     super().__init__(state, capital)\n",
        "     self.pupulation = population\n",
        "\n",
        "  def numbers(self):\n",
        "    print(f\"The state {self.state} is {self.pupulation}M population. \")\n",
        "\n",
        "  def capitals(self):\n",
        "    print(f'The capital of the state {self.state} is {self.capital}')\n",
        "\n",
        "class State_two(Country):\n",
        "  def __init__(self, state, capital,population):\n",
        "     super().__init__(state, capital)\n",
        "     self.pupulation = population\n",
        "\n",
        "  def numbers(self):\n",
        "    print(f\"The state {self.state} is {self.pupulation}M population. \")\n",
        "\n",
        "  def capitals(self):\n",
        "    print(f'The capital of the state {self.state} is {self.capital}')\n",
        "\n",
        "class State_three(Country):\n",
        "  def __init__(self, state, capital,population):\n",
        "     super().__init__(state, capital)\n",
        "     self.pupulation = population\n",
        "\n",
        "  def numbers(self):\n",
        "    print(f\"The state {self.state} is {self.pupulation}M population. \")\n",
        "\n",
        "  def capitals(self):\n",
        "    print(f'The capital of the state {self.state} is {self.capital}')\n",
        "\n",
        "\n",
        "country = Country('USA', 'Dc')\n",
        "state_one = State_one('California', 'Oakland', 12)\n",
        "state_two = State_two('Texas', 'Dallas', 4)\n",
        "state_three = State_three('NewYork', 'NewYork', 5)\n",
        "\n",
        "\n",
        "\n",
        "country.country()\n",
        "\n",
        "print('---------------------------------------------------\\n')\n",
        "\n",
        "for i in (state_one, state_two, state_three):\n",
        "    i.numbers()\n",
        "\n",
        "print('------------------------------------------------\\n')\n",
        "\n",
        "\n",
        "for i in (state_one, state_two, state_three):\n",
        "    i.capitals()\n"
      ],
      "metadata": {
        "colab": {
          "base_uri": "https://localhost:8080/"
        },
        "id": "WI1wmBnhWYNh",
        "outputId": "58808e5a-87c2-4337-df6d-69c814bb9889"
      },
      "execution_count": 49,
      "outputs": [
        {
          "output_type": "stream",
          "name": "stdout",
          "text": [
            "The Country name is USA and the capital is DC\n",
            "---------------------------------------------------\n",
            "\n",
            "The state California is 12M population. \n",
            "The state Texas is 4M population. \n",
            "The state NewYork is 5M population. \n",
            "------------------------------------------------\n",
            "\n",
            "The capital of the state California is Oakland\n",
            "The capital of the state Texas is Dallas\n",
            "The capital of the state NewYork is NewYork\n"
          ]
        }
      ]
    }
  ]
}