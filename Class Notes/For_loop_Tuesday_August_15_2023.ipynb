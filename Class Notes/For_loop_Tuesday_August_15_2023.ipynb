{
  "nbformat": 4,
  "nbformat_minor": 0,
  "metadata": {
    "colab": {
      "provenance": []
    },
    "kernelspec": {
      "name": "python3",
      "display_name": "Python 3"
    },
    "language_info": {
      "name": "python"
    }
  },
  "cells": [
    {
      "cell_type": "code",
      "source": [
        "list = [12,23,34,45,56,67,78,89,90,21,32,43,54,65,76,87,98,9]\n",
        "\n",
        "for i in list:\n",
        "  print('value of i ', i)"
      ],
      "metadata": {
        "colab": {
          "base_uri": "https://localhost:8080/"
        },
        "id": "Z7LTQVjesei2",
        "outputId": "4bad337e-657b-4c4d-a08a-c5866c02e5a4"
      },
      "execution_count": 10,
      "outputs": [
        {
          "output_type": "stream",
          "name": "stdout",
          "text": [
            "value of i  12\n",
            "value of i  23\n",
            "value of i  34\n",
            "value of i  45\n",
            "value of i  56\n",
            "value of i  67\n",
            "value of i  78\n",
            "value of i  89\n",
            "value of i  90\n",
            "value of i  21\n",
            "value of i  32\n",
            "value of i  43\n",
            "value of i  54\n",
            "value of i  65\n",
            "value of i  76\n",
            "value of i  87\n",
            "value of i  98\n",
            "value of i  9\n"
          ]
        }
      ]
    },
    {
      "cell_type": "code",
      "execution_count": 11,
      "metadata": {
        "colab": {
          "base_uri": "https://localhost:8080/"
        },
        "id": "V_2Uvvtsl3c9",
        "outputId": "2e7702e7-1197-42f8-e8e1-8848832fc702"
      },
      "outputs": [
        {
          "output_type": "stream",
          "name": "stdout",
          "text": [
            "value of i  apple\n",
            "value of i  banana\n",
            "value of i  orange\n",
            "value of i  grape\n",
            "value of i  kiwi\n",
            "value of i  pineapple\n"
          ]
        }
      ],
      "source": [
        "fruit_tuple = (\"apple\", \"banana\", \"orange\", \"grape\", \"kiwi\", \"pineapple\")\n",
        "\n",
        "for i in fruit_tuple:\n",
        "  print('value of i ', i)\n"
      ]
    },
    {
      "cell_type": "code",
      "source": [
        "set = {\"apple\", \"banana\", \"orange\", \"grape\", \"kiwi\", \"pineapple\", \"watermelon\", \"strawberry\", \"pear\", \"mango\", \"cherry\"}\n",
        "for i in set:\n",
        "  print('value of i ', i)"
      ],
      "metadata": {
        "colab": {
          "base_uri": "https://localhost:8080/"
        },
        "id": "uJPfNBcFqvsc",
        "outputId": "8100e025-7101-45d2-8b7b-eff4025cef65"
      },
      "execution_count": 23,
      "outputs": [
        {
          "output_type": "stream",
          "name": "stdout",
          "text": [
            "value of i  cherry\n",
            "value of i  apple\n",
            "value of i  mango\n",
            "value of i  orange\n",
            "value of i  kiwi\n",
            "value of i  pear\n",
            "value of i  strawberry\n",
            "value of i  banana\n",
            "value of i  watermelon\n",
            "value of i  pineapple\n",
            "value of i  grape\n"
          ]
        }
      ]
    },
    {
      "cell_type": "code",
      "source": [
        "str = 'Peppa prefer python programming'\n",
        "for i in str:\n",
        "  print('value of i' , i)"
      ],
      "metadata": {
        "colab": {
          "base_uri": "https://localhost:8080/"
        },
        "id": "VcnPGHY5rCJm",
        "outputId": "92c223fe-c003-47ca-d1d7-922884151aa7"
      },
      "execution_count": 3,
      "outputs": [
        {
          "output_type": "stream",
          "name": "stdout",
          "text": [
            "value of i P\n",
            "value of i e\n",
            "value of i p\n",
            "value of i p\n",
            "value of i a\n",
            "value of i  \n",
            "value of i p\n",
            "value of i r\n",
            "value of i e\n",
            "value of i f\n",
            "value of i e\n",
            "value of i r\n",
            "value of i  \n",
            "value of i p\n",
            "value of i y\n",
            "value of i t\n",
            "value of i h\n",
            "value of i o\n",
            "value of i n\n",
            "value of i  \n",
            "value of i p\n",
            "value of i r\n",
            "value of i o\n",
            "value of i g\n",
            "value of i r\n",
            "value of i a\n",
            "value of i m\n",
            "value of i m\n",
            "value of i i\n",
            "value of i n\n",
            "value of i g\n"
          ]
        }
      ]
    },
    {
      "cell_type": "code",
      "source": [
        "dict = {\"A\": \"Apple\",\"B\": \"Banana\",\"C\": \"Cat\",\"D\": \"Dog\",\"E\": \"Elephant\"}\n",
        "\n",
        "for i in dict:\n",
        "  print('value of i ', i)\n"
      ],
      "metadata": {
        "colab": {
          "base_uri": "https://localhost:8080/"
        },
        "id": "QFDNJWlyrVdG",
        "outputId": "d6290122-2fc5-4588-f739-c511c0e2a86a"
      },
      "execution_count": 4,
      "outputs": [
        {
          "output_type": "stream",
          "name": "stdout",
          "text": [
            "value of i  A\n",
            "value of i  B\n",
            "value of i  C\n",
            "value of i  D\n",
            "value of i  E\n"
          ]
        }
      ]
    },
    {
      "cell_type": "code",
      "source": [
        "for i in range(6):\n",
        "  print('value of i ', i)"
      ],
      "metadata": {
        "colab": {
          "base_uri": "https://localhost:8080/"
        },
        "id": "uiQRYc2Br6bi",
        "outputId": "e1f470b9-a1df-4ae1-b325-346ca43059e6"
      },
      "execution_count": 6,
      "outputs": [
        {
          "output_type": "stream",
          "name": "stdout",
          "text": [
            "value of i  0\n",
            "value of i  1\n",
            "value of i  2\n",
            "value of i  3\n",
            "value of i  4\n",
            "value of i  5\n"
          ]
        }
      ]
    },
    {
      "cell_type": "code",
      "source": [
        "for i in range(0, 10, 2):\n",
        "  print('value of i ', i)"
      ],
      "metadata": {
        "colab": {
          "base_uri": "https://localhost:8080/"
        },
        "id": "cDwdarymsDrF",
        "outputId": "74b32d26-779b-40eb-ed33-b95ba3734e6f"
      },
      "execution_count": 13,
      "outputs": [
        {
          "output_type": "stream",
          "name": "stdout",
          "text": [
            "value of i  0\n",
            "value of i  2\n",
            "value of i  4\n",
            "value of i  6\n",
            "value of i  8\n"
          ]
        }
      ]
    },
    {
      "cell_type": "code",
      "source": [
        "for i in range(10):\n",
        "  for j in range(10):\n",
        "    print('*', end=' ')\n",
        "  print('\\r')"
      ],
      "metadata": {
        "colab": {
          "base_uri": "https://localhost:8080/"
        },
        "id": "oeTWIvfMsbt2",
        "outputId": "7fbc2dab-f5ba-4481-9374-946e32b9e66f"
      },
      "execution_count": 1,
      "outputs": [
        {
          "output_type": "stream",
          "name": "stdout",
          "text": [
            "* * * * * * * * * * \r\n",
            "* * * * * * * * * * \r\n",
            "* * * * * * * * * * \r\n",
            "* * * * * * * * * * \r\n",
            "* * * * * * * * * * \r\n",
            "* * * * * * * * * * \r\n",
            "* * * * * * * * * * \r\n",
            "* * * * * * * * * * \r\n",
            "* * * * * * * * * * \r\n",
            "* * * * * * * * * * \r\n"
          ]
        }
      ]
    },
    {
      "cell_type": "code",
      "source": [
        "k = 1\n",
        "for i in range(10):\n",
        "  for j in range(10):\n",
        "    print(k, end=', ')\n",
        "    k += 1\n",
        "  print('\\r')"
      ],
      "metadata": {
        "colab": {
          "base_uri": "https://localhost:8080/"
        },
        "id": "d7mvygqfxPRp",
        "outputId": "c06e3f87-a713-415b-babe-9f689df77977"
      },
      "execution_count": 3,
      "outputs": [
        {
          "output_type": "stream",
          "name": "stdout",
          "text": [
            "1, 2, 3, 4, 5, 6, 7, 8, 9, 10, \r\n",
            "11, 12, 13, 14, 15, 16, 17, 18, 19, 20, \r\n",
            "21, 22, 23, 24, 25, 26, 27, 28, 29, 30, \r\n",
            "31, 32, 33, 34, 35, 36, 37, 38, 39, 40, \r\n",
            "41, 42, 43, 44, 45, 46, 47, 48, 49, 50, \r\n",
            "51, 52, 53, 54, 55, 56, 57, 58, 59, 60, \r\n",
            "61, 62, 63, 64, 65, 66, 67, 68, 69, 70, \r\n",
            "71, 72, 73, 74, 75, 76, 77, 78, 79, 80, \r\n",
            "81, 82, 83, 84, 85, 86, 87, 88, 89, 90, \r\n",
            "91, 92, 93, 94, 95, 96, 97, 98, 99, 100, \r\n"
          ]
        }
      ]
    },
    {
      "cell_type": "code",
      "source": [
        "for i in range(10):\n",
        "  for j in range(0, 10-i):\n",
        "    print(' ', end='')\n",
        "  for k in range(0, i + 1):\n",
        "    print('*', end=\" \")\n",
        "  print('\\r')\n",
        ""
      ],
      "metadata": {
        "colab": {
          "base_uri": "https://localhost:8080/"
        },
        "id": "0lqSw3nnzbqj",
        "outputId": "8837f53c-2054-4476-a1d7-4c5f7770a5bd"
      },
      "execution_count": 40,
      "outputs": [
        {
          "output_type": "stream",
          "name": "stdout",
          "text": [
            "          * \r\n",
            "         * * \r\n",
            "        * * * \r\n",
            "       * * * * \r\n",
            "      * * * * * \r\n",
            "     * * * * * * \r\n",
            "    * * * * * * * \r\n",
            "   * * * * * * * * \r\n",
            "  * * * * * * * * * \r\n",
            " * * * * * * * * * * \r\n"
          ]
        }
      ]
    },
    {
      "cell_type": "code",
      "source": [
        "for i in range(10):\n",
        "  for j in range(0, i):\n",
        "    print(' ', end='')\n",
        "  for k in range(0, 10-i):\n",
        "    print('*', end=\" \")\n",
        "  print('\\r')"
      ],
      "metadata": {
        "colab": {
          "base_uri": "https://localhost:8080/"
        },
        "id": "tibxoLyT0IjH",
        "outputId": "f6a8941e-c82a-4117-c12c-564bb16a104c"
      },
      "execution_count": 48,
      "outputs": [
        {
          "output_type": "stream",
          "name": "stdout",
          "text": [
            "* * * * * * * * * * \r\n",
            " * * * * * * * * * \r\n",
            "  * * * * * * * * \r\n",
            "   * * * * * * * \r\n",
            "    * * * * * * \r\n",
            "     * * * * * \r\n",
            "      * * * * \r\n",
            "       * * * \r\n",
            "        * * \r\n",
            "         * \r\n"
          ]
        }
      ]
    },
    {
      "cell_type": "code",
      "source": [
        "for i in range(10):\n",
        "  for j in range(0, i+1):\n",
        "    print(' ', end='')\n",
        "  for k in range(0, 10-i):\n",
        "    print('*', end=\" \")\n",
        "  print()\n",
        "\n",
        "for i in range(0, 10):\n",
        "  for j in range(0, 9-i):\n",
        "    print(' ', end='')\n",
        "  for k in range(0, i + 2):\n",
        "    print('*', end=\" \")\n",
        "  print('\\r')\n",
        "\n"
      ],
      "metadata": {
        "colab": {
          "base_uri": "https://localhost:8080/"
        },
        "id": "iYNp0Whu2Xpf",
        "outputId": "fcf34ac6-3e92-41c6-a737-9bdc992f6d9a"
      },
      "execution_count": 76,
      "outputs": [
        {
          "output_type": "stream",
          "name": "stdout",
          "text": [
            " * * * * * * * * * * \n",
            "  * * * * * * * * * \n",
            "   * * * * * * * * \n",
            "    * * * * * * * \n",
            "     * * * * * * \n",
            "      * * * * * \n",
            "       * * * * \n",
            "        * * * \n",
            "         * * \n",
            "          * \n",
            "         * * \r\n",
            "        * * * \r\n",
            "       * * * * \r\n",
            "      * * * * * \r\n",
            "     * * * * * * \r\n",
            "    * * * * * * * \r\n",
            "   * * * * * * * * \r\n",
            "  * * * * * * * * * \r\n",
            " * * * * * * * * * * \r\n",
            "* * * * * * * * * * * \r\n"
          ]
        }
      ]
    },
    {
      "cell_type": "code",
      "source": [
        "for i in range(0, 10):\n",
        "  for j in range(0, 10-i):\n",
        "    print(' ', end='')\n",
        "  for k in range(0, i + 1):\n",
        "    print('*', end=\" \")\n",
        "  print('\\r')\n",
        "\n",
        "for i in range(10):\n",
        "  for j in range(0, i+2):\n",
        "    print(' ', end='')\n",
        "  for k in range(0, 9 - i):\n",
        "    print('*', end=\" \")\n",
        "  print()"
      ],
      "metadata": {
        "colab": {
          "base_uri": "https://localhost:8080/"
        },
        "id": "t8Xfu1W77pj2",
        "outputId": "59b83e22-4680-4d0a-cf67-a20d4195021d"
      },
      "execution_count": 83,
      "outputs": [
        {
          "output_type": "stream",
          "name": "stdout",
          "text": [
            "          * \r\n",
            "         * * \r\n",
            "        * * * \r\n",
            "       * * * * \r\n",
            "      * * * * * \r\n",
            "     * * * * * * \r\n",
            "    * * * * * * * \r\n",
            "   * * * * * * * * \r\n",
            "  * * * * * * * * * \r\n",
            " * * * * * * * * * * \r\n",
            "  * * * * * * * * * \n",
            "   * * * * * * * * \n",
            "    * * * * * * * \n",
            "     * * * * * * \n",
            "      * * * * * \n",
            "       * * * * \n",
            "        * * * \n",
            "         * * \n",
            "          * \n",
            "           \n"
          ]
        }
      ]
    },
    {
      "cell_type": "code",
      "source": [
        "for i in range(0, 10):\n",
        "  for j in range(0, 10-i):\n",
        "    print(' ', end='')\n",
        "  for k in range(0, i + 1):\n",
        "    print('*', end=\" \")\n",
        "  print('\\r')\n",
        "\n",
        "for i in range(10):\n",
        "  for j in range(0, i+2):\n",
        "    print(' ', end='')\n",
        "  for k in range(0, 9 - i):\n",
        "    print('*', end=\" \")\n",
        "  print()"
      ],
      "metadata": {
        "colab": {
          "base_uri": "https://localhost:8080/"
        },
        "id": "f8D8WYo4-9u0",
        "outputId": "b17e7c9f-5a23-45db-81dc-6ae637acf9a5"
      },
      "execution_count": 4,
      "outputs": [
        {
          "output_type": "stream",
          "name": "stdout",
          "text": [
            "          * \r\n",
            "         * * \r\n",
            "        * * * \r\n",
            "       * * * * \r\n",
            "      * * * * * \r\n",
            "     * * * * * * \r\n",
            "    * * * * * * * \r\n",
            "   * * * * * * * * \r\n",
            "  * * * * * * * * * \r\n",
            " * * * * * * * * * * \r\n",
            "  * * * * * * * * * \n",
            "   * * * * * * * * \n",
            "    * * * * * * * \n",
            "     * * * * * * \n",
            "      * * * * * \n",
            "       * * * * \n",
            "        * * * \n",
            "         * * \n",
            "          * \n",
            "           \n"
          ]
        }
      ]
    },
    {
      "cell_type": "code",
      "source": [
        "for i in range(11):\n",
        "    print('*' , end=\" \")\n",
        "print('\\r')\n",
        "\n",
        "for i in range(10):\n",
        "    for j in range(0, i +1 ):\n",
        "        print(' ', end='')\n",
        "    for j in range(0, 1 ):\n",
        "        print('*' , end='')\n",
        "    for j in range(0, 9 - i):\n",
        "        print(' ' , end=' ')\n",
        "    for j in range(0, 1):\n",
        "        print('*' , end=' ')\n",
        "    print('\\r')"
      ],
      "metadata": {
        "colab": {
          "base_uri": "https://localhost:8080/"
        },
        "id": "f4_4ZitWls67",
        "outputId": "10284972-b9c4-4176-e639-b0dabb0f85e8"
      },
      "execution_count": 1,
      "outputs": [
        {
          "output_type": "stream",
          "name": "stdout",
          "text": [
            "* * * * * * * * * * * \r\n",
            " *                  * \r\n",
            "  *                * \r\n",
            "   *              * \r\n",
            "    *            * \r\n",
            "     *          * \r\n",
            "      *        * \r\n",
            "       *      * \r\n",
            "        *    * \r\n",
            "         *  * \r\n",
            "          ** \r\n"
          ]
        }
      ]
    },
    {
      "cell_type": "code",
      "source": [
        "word = ['A', 'B', 'C', 'D', 'E', 'F', 'G', 'H', 'I', 'J']\n",
        "\n",
        "for i in range(10):\n",
        "    for k in range(0 , 9 - i):\n",
        "        print(' ', end='')\n",
        "    for j in range(0 ,i+1):\n",
        "        print(word[j], end=' ' )\n",
        "\n",
        "    print('\\r')"
      ],
      "metadata": {
        "colab": {
          "base_uri": "https://localhost:8080/"
        },
        "id": "7z4djNrhlxkc",
        "outputId": "56e27db7-2e60-45a9-bc0f-3b33374f9d90"
      },
      "execution_count": 2,
      "outputs": [
        {
          "output_type": "stream",
          "name": "stdout",
          "text": [
            "         A \r\n",
            "        A B \r\n",
            "       A B C \r\n",
            "      A B C D \r\n",
            "     A B C D E \r\n",
            "    A B C D E F \r\n",
            "   A B C D E F G \r\n",
            "  A B C D E F G H \r\n",
            " A B C D E F G H I \r\n",
            "A B C D E F G H I J \r\n"
          ]
        }
      ]
    },
    {
      "cell_type": "code",
      "source": [
        "word = ['A', 'B', 'C', 'D', 'E', 'F', 'G', 'H', 'I', 'J']\n",
        "\n",
        "for k in range(10):\n",
        "    for j in range(0, k):\n",
        "        print(' ', end= '')\n",
        "    for i in range(0, 10 - k):\n",
        "        print(word[i], end=' ')\n",
        "    print('\\r')\n"
      ],
      "metadata": {
        "colab": {
          "base_uri": "https://localhost:8080/"
        },
        "id": "w_95usySl0E5",
        "outputId": "720c2568-c538-47a0-c19c-1800d6e650c4"
      },
      "execution_count": 3,
      "outputs": [
        {
          "output_type": "stream",
          "name": "stdout",
          "text": [
            "A B C D E F G H I J \r\n",
            " A B C D E F G H I \r\n",
            "  A B C D E F G H \r\n",
            "   A B C D E F G \r\n",
            "    A B C D E F \r\n",
            "     A B C D E \r\n",
            "      A B C D \r\n",
            "       A B C \r\n",
            "        A B \r\n",
            "         A \r\n"
          ]
        }
      ]
    },
    {
      "cell_type": "code",
      "source": [
        "for k in range(10):\n",
        "    for j in range(0, k):\n",
        "        print(' ', end= '')\n",
        "    for i in range(0, 10 - k):\n",
        "        print( i + 1, end=' ')\n",
        "    print('\\r')"
      ],
      "metadata": {
        "colab": {
          "base_uri": "https://localhost:8080/"
        },
        "id": "hvV05pZkl6Kn",
        "outputId": "311de0f4-5320-47de-9a70-bc15190ad8f5"
      },
      "execution_count": 4,
      "outputs": [
        {
          "output_type": "stream",
          "name": "stdout",
          "text": [
            "1 2 3 4 5 6 7 8 9 10 \r\n",
            " 1 2 3 4 5 6 7 8 9 \r\n",
            "  1 2 3 4 5 6 7 8 \r\n",
            "   1 2 3 4 5 6 7 \r\n",
            "    1 2 3 4 5 6 \r\n",
            "     1 2 3 4 5 \r\n",
            "      1 2 3 4 \r\n",
            "       1 2 3 \r\n",
            "        1 2 \r\n",
            "         1 \r\n"
          ]
        }
      ]
    },
    {
      "cell_type": "markdown",
      "source": [
        "Wednesday august-16,2023"
      ],
      "metadata": {
        "id": "sPXPyrAP5AJv"
      }
    },
    {
      "cell_type": "code",
      "source": [],
      "metadata": {
        "id": "FGLguffL495r"
      },
      "execution_count": null,
      "outputs": []
    }
  ]
}