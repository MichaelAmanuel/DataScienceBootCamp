{
  "nbformat": 4,
  "nbformat_minor": 0,
  "metadata": {
    "colab": {
      "provenance": [],
      "authorship_tag": "ABX9TyOSObc1rKLDlY7V3yR9aAdv",
      "include_colab_link": true
    },
    "kernelspec": {
      "name": "python3",
      "display_name": "Python 3"
    },
    "language_info": {
      "name": "python"
    }
  },
  "cells": [
    {
      "cell_type": "markdown",
      "metadata": {
        "id": "view-in-github",
        "colab_type": "text"
      },
      "source": [
        "<a href=\"https://colab.research.google.com/github/MichaelAmanuel/DataScienceBootCamp/blob/main/Data%20type.ipynb\" target=\"_parent\"><img src=\"https://colab.research.google.com/assets/colab-badge.svg\" alt=\"Open In Colab\"/></a>"
      ]
    },
    {
      "cell_type": "code",
      "execution_count": 1,
      "metadata": {
        "colab": {
          "base_uri": "https://localhost:8080/"
        },
        "id": "ofR31KoJxRY6",
        "outputId": "6b534bc6-c264-4dfd-8885-265d03dbb7ff"
      },
      "outputs": [
        {
          "output_type": "stream",
          "name": "stdout",
          "text": [
            "1987\n",
            "<class 'int'>\n",
            "-1987\n",
            "<class 'int'>\n"
          ]
        }
      ],
      "source": [
        "int1  = 1987\n",
        "print(int1)\n",
        "print(type(int1))\n",
        "\n",
        "int = -1987\n",
        "print(int)\n",
        "print(type(int))\n"
      ]
    },
    {
      "cell_type": "markdown",
      "source": [],
      "metadata": {
        "id": "CPC1saAExmuy"
      }
    },
    {
      "cell_type": "code",
      "source": [
        "# Float: Any combination of whole number and fractional number\n",
        "flt = 3.1415\n",
        "print(flt)\n",
        "print(type(flt))\n",
        "\n",
        "flt = -3.1415\n",
        "print(flt)\n",
        "print(type(flt))"
      ],
      "metadata": {
        "colab": {
          "base_uri": "https://localhost:8080/"
        },
        "id": "MXU9JselxpjW",
        "outputId": "96e6323b-83ea-4205-a26c-d46f0dc3c71b"
      },
      "execution_count": 2,
      "outputs": [
        {
          "output_type": "stream",
          "name": "stdout",
          "text": [
            "3.1415\n",
            "<class 'float'>\n",
            "-3.1415\n",
            "<class 'float'>\n"
          ]
        }
      ]
    },
    {
      "cell_type": "code",
      "source": [
        "# Complex  : combination of integer or float and imagenary number"
      ],
      "metadata": {
        "id": "5us3mCY-x0W4"
      },
      "execution_count": null,
      "outputs": []
    }
  ]
}