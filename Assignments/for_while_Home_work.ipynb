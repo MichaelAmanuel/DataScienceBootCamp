{
  "nbformat": 4,
  "nbformat_minor": 0,
  "metadata": {
    "colab": {
      "provenance": []
    },
    "kernelspec": {
      "name": "python3",
      "display_name": "Python 3"
    },
    "language_info": {
      "name": "python"
    }
  },
  "cells": [
    {
      "cell_type": "code",
      "source": [
        "# Question 1) Remove all repeated elements from the list Given below using for loop.\n",
        "\n",
        "a=[1,2,3,4,5,11,1,2,6,1,8]\n",
        "\n",
        "b = []\n",
        "for x in a:\n",
        "    if x not in b:\n",
        "       b.append(x)\n",
        "\n",
        "print(b)"
      ],
      "metadata": {
        "colab": {
          "base_uri": "https://localhost:8080/"
        },
        "id": "P-8nM2lhl_5_",
        "outputId": "c59cf8e8-2b80-4458-90ec-3cfcd2d14439"
      },
      "execution_count": null,
      "outputs": [
        {
          "output_type": "stream",
          "name": "stdout",
          "text": [
            "[1, 2, 3, 4, 5, 11, 6, 8]\n"
          ]
        }
      ]
    },
    {
      "cell_type": "code",
      "source": [
        "a=[1,2,3,4,5,11,1,2,6,1,8]\n",
        "\n",
        "b = []\n",
        "for x in a:\n",
        "    if x in b:\n",
        "      print('repeated value:- ', x)\n",
        "    else:\n",
        "      b.append(x)\n",
        "\n",
        "print(b)"
      ],
      "metadata": {
        "colab": {
          "base_uri": "https://localhost:8080/"
        },
        "id": "RpaqafMAW8Bn",
        "outputId": "555d1db0-77e8-4ace-9026-f8b76ac42eda"
      },
      "execution_count": 2,
      "outputs": [
        {
          "output_type": "stream",
          "name": "stdout",
          "text": [
            "repeated value:-  1\n",
            "repeated value:-  2\n",
            "repeated value:-  1\n",
            "[1, 2, 3, 4, 5, 11, 6, 8]\n"
          ]
        }
      ]
    },
    {
      "cell_type": "code",
      "source": [
        "#  Usnig set method\n",
        "a=[1,2,3,4,5,11,1,2,6,1,8]\n",
        "print(set(a))"
      ],
      "metadata": {
        "colab": {
          "base_uri": "https://localhost:8080/"
        },
        "id": "orNJrVEwXXLG",
        "outputId": "c190faee-979a-4d52-b431-3d5b362c44fe"
      },
      "execution_count": 3,
      "outputs": [
        {
          "output_type": "stream",
          "name": "stdout",
          "text": [
            "{1, 2, 3, 4, 5, 6, 8, 11}\n"
          ]
        }
      ]
    },
    {
      "cell_type": "code",
      "source": [
        "# Question 2) Print all prime numbers below 100\n",
        "\n",
        "c = []\n",
        "for x in range(1, 101):\n",
        "    count = 0\n",
        "    for j in range(2, int(x/2)):\n",
        "        if x % j == 0:\n",
        "            count += 1\n",
        "    if count < 1 :\n",
        "        print(x,end=' ')\n",
        "        c.append(x)\n",
        "print()\n",
        "print('c =',c)"
      ],
      "metadata": {
        "colab": {
          "base_uri": "https://localhost:8080/"
        },
        "id": "AAkuq283mJ7A",
        "outputId": "9a810e66-9814-41d1-829a-fa039f7cc817"
      },
      "execution_count": 16,
      "outputs": [
        {
          "output_type": "stream",
          "name": "stdout",
          "text": [
            "1 2 3 4 5 7 11 13 17 19 23 29 31 37 41 43 47 53 59 61 67 71 73 79 83 89 97 \n",
            "c = [1, 2, 3, 4, 5, 7, 11, 13, 17, 19, 23, 29, 31, 37, 41, 43, 47, 53, 59, 61, 67, 71, 73, 79, 83, 89, 97]\n"
          ]
        }
      ]
    },
    {
      "cell_type": "code",
      "source": [
        "# Question 2) Print all prime numbers below 100\n",
        "list_of_prime_num = []\n",
        "for k in range(2, 100):\n",
        "  flag = True\n",
        "  for s in range(2, int(k/2)):\n",
        "    if k % s == 0:\n",
        "      flag = False\n",
        "      break\n",
        "  if flag:\n",
        "    list_of_prime_num.append(k)\n",
        "\n",
        "for prim in list_of_prime_num:\n",
        "  print(prim, \"is a prime number\")"
      ],
      "metadata": {
        "colab": {
          "base_uri": "https://localhost:8080/"
        },
        "id": "PFB_8UvmZ01_",
        "outputId": "d5820c6e-ddda-42a5-90cb-a60828da2b6c"
      },
      "execution_count": 14,
      "outputs": [
        {
          "output_type": "stream",
          "name": "stdout",
          "text": [
            "2 is a prime number\n",
            "3 is a prime number\n",
            "4 is a prime number\n",
            "5 is a prime number\n",
            "7 is a prime number\n",
            "11 is a prime number\n",
            "13 is a prime number\n",
            "17 is a prime number\n",
            "19 is a prime number\n",
            "23 is a prime number\n",
            "29 is a prime number\n",
            "31 is a prime number\n",
            "37 is a prime number\n",
            "41 is a prime number\n",
            "43 is a prime number\n",
            "47 is a prime number\n",
            "53 is a prime number\n",
            "59 is a prime number\n",
            "61 is a prime number\n",
            "67 is a prime number\n",
            "71 is a prime number\n",
            "73 is a prime number\n",
            "79 is a prime number\n",
            "83 is a prime number\n",
            "89 is a prime number\n",
            "97 is a prime number\n"
          ]
        }
      ]
    },
    {
      "cell_type": "code",
      "source": [
        "# Question 3) print list in reverse order using for loop\n",
        "\n",
        "c = [1, 11, 13, 17, 19, 23, 29, 31, 37, 41, 43, 47, 53, 59, 61, 67, 71, 73, 79, 83, 89, 97]\n",
        "\n",
        "d = []\n",
        "f = []\n",
        "for x in c[-1::-1]:\n",
        "    d.append(x)\n",
        "print(d)\n",
        "\n",
        "for x in c[len(c)-1: 0: -1]:\n",
        "    f.append(x)\n",
        "print(d)"
      ],
      "metadata": {
        "colab": {
          "base_uri": "https://localhost:8080/"
        },
        "id": "6WSx3a3br0gM",
        "outputId": "440f7d92-4761-4952-9867-734a2cf20214"
      },
      "execution_count": null,
      "outputs": [
        {
          "output_type": "stream",
          "name": "stdout",
          "text": [
            "[97, 89, 83, 79, 73, 71, 67, 61, 59, 53, 47, 43, 41, 37, 31, 29, 23, 19, 17, 13, 11, 1]\n",
            "[97, 89, 83, 79, 73, 71, 67, 61, 59, 53, 47, 43, 41, 37, 31, 29, 23, 19, 17, 13, 11, 1]\n"
          ]
        }
      ]
    },
    {
      "cell_type": "code",
      "source": [
        "# Question 4)  print multiplication table of 13 using for loop\n",
        "\n",
        "for x in range(1, 14):\n",
        "  for k in range(1, 14):\n",
        "    print(k * x, end=' ')\n",
        "  print('\\r')"
      ],
      "metadata": {
        "colab": {
          "base_uri": "https://localhost:8080/"
        },
        "id": "g62pb4UitWA3",
        "outputId": "cc96ae65-bd70-4ac5-dde6-bc4fe36fa715"
      },
      "execution_count": null,
      "outputs": [
        {
          "output_type": "stream",
          "name": "stdout",
          "text": [
            "1 2 3 4 5 6 7 8 9 10 11 12 13 \r\n",
            "2 4 6 8 10 12 14 16 18 20 22 24 26 \r\n",
            "3 6 9 12 15 18 21 24 27 30 33 36 39 \r\n",
            "4 8 12 16 20 24 28 32 36 40 44 48 52 \r\n",
            "5 10 15 20 25 30 35 40 45 50 55 60 65 \r\n",
            "6 12 18 24 30 36 42 48 54 60 66 72 78 \r\n",
            "7 14 21 28 35 42 49 56 63 70 77 84 91 \r\n",
            "8 16 24 32 40 48 56 64 72 80 88 96 104 \r\n",
            "9 18 27 36 45 54 63 72 81 90 99 108 117 \r\n",
            "10 20 30 40 50 60 70 80 90 100 110 120 130 \r\n",
            "11 22 33 44 55 66 77 88 99 110 121 132 143 \r\n",
            "12 24 36 48 60 72 84 96 108 120 132 144 156 \r\n",
            "13 26 39 52 65 78 91 104 117 130 143 156 169 \r\n"
          ]
        }
      ]
    },
    {
      "cell_type": "code",
      "source": [
        "for x in range(1, 14):\n",
        "  print(str(x),\"* 13 =\", x * 12 )\n",
        "print('\\r')"
      ],
      "metadata": {
        "colab": {
          "base_uri": "https://localhost:8080/"
        },
        "id": "YAUups9et3nb",
        "outputId": "13f3e4e3-696d-4132-f247-774f2ef04ca7"
      },
      "execution_count": 20,
      "outputs": [
        {
          "output_type": "stream",
          "name": "stdout",
          "text": [
            "1 * 13 = 12\n",
            "2 * 13 = 24\n",
            "3 * 13 = 36\n",
            "4 * 13 = 48\n",
            "5 * 13 = 60\n",
            "6 * 13 = 72\n",
            "7 * 13 = 84\n",
            "8 * 13 = 96\n",
            "9 * 13 = 108\n",
            "10 * 13 = 120\n",
            "11 * 13 = 132\n",
            "12 * 13 = 144\n",
            "13 * 13 = 156\n",
            "\r\n"
          ]
        }
      ]
    },
    {
      "cell_type": "code",
      "source": [
        "#  Python program to count the total number of digits in a number\n",
        "\n",
        "num = (input(\"give the number\"))\n",
        "len = len(num)\n",
        "print(len)"
      ],
      "metadata": {
        "colab": {
          "base_uri": "https://localhost:8080/"
        },
        "id": "D7jbVOAVfFg5",
        "outputId": "be611fa2-d518-449e-9cca-4b505148f5b9"
      },
      "execution_count": 21,
      "outputs": [
        {
          "output_type": "stream",
          "name": "stdout",
          "text": [
            "give the number12343\n",
            "5\n"
          ]
        }
      ]
    },
    {
      "cell_type": "code",
      "source": [
        "# Write a program to find greatest common divisor (GCD) or highest common factor\n",
        "#  (HCF) of given two numbers\n",
        "\n",
        "num = int(input(\"first number\"))\n",
        "num2 = int(input(\"first number\"))\n",
        "if num > num2:\n",
        "  for x in range(num , 2, -1):\n",
        "      if num % x ==0 and num2 % x==0:\n",
        "        print(x)\n",
        "        break\n",
        "else:\n",
        "  for x in range(num2 , 2, -1):\n",
        "    if num % x ==0 and num2 % x==0:\n",
        "      print(x)\n",
        "      break"
      ],
      "metadata": {
        "colab": {
          "base_uri": "https://localhost:8080/"
        },
        "id": "zgeeoNuFftVl",
        "outputId": "52685968-b370-4733-d427-65b6ba6fcf1e"
      },
      "execution_count": 37,
      "outputs": [
        {
          "output_type": "stream",
          "name": "stdout",
          "text": [
            "first number15\n",
            "first number10\n",
            "5\n"
          ]
        }
      ]
    },
    {
      "cell_type": "code",
      "source": [
        "# Write a program to find greatest common divisor (GCD) or highest common factor\n",
        "#  (HCF) of given two numbers\n",
        "\n",
        "a = int(input(\"first number? \"))\n",
        "b = int(input(\"first number? \"))\n",
        "\n",
        "max_num = max(a, b)\n",
        "\n",
        "for x in range( max_num , 2, -1):\n",
        "  if a % x ==0 and b % x==0:\n",
        "    print('The answer is: ',x)\n",
        "    break\n"
      ],
      "metadata": {
        "id": "FpldW56cnK09"
      },
      "execution_count": null,
      "outputs": []
    },
    {
      "cell_type": "code",
      "source": [
        "1# Write a program to find greatest common divisor (GCD) or highest common factor\n",
        "#  (HCF) of given two numbers\n",
        "\n",
        "a = int(input(\"first number? \"))\n",
        "b = int(input(\"first number? \"))\n",
        "\n",
        "smallest_number = min(a, b)\n",
        "\n",
        "for k in (smallest_number, 2, -1):\n",
        "  if a % k == 0 and b % k == 0:\n",
        "    print(\"The GCD is \", k)\n",
        "    break"
      ],
      "metadata": {
        "colab": {
          "base_uri": "https://localhost:8080/"
        },
        "id": "YTYDODcTnRMg",
        "outputId": "9c6c21a3-ea31-4813-d42c-e20382666a56"
      },
      "execution_count": 46,
      "outputs": [
        {
          "output_type": "stream",
          "name": "stdout",
          "text": [
            "first number? 15\n",
            "first number? 10\n",
            "The GCD is  -1\n"
          ]
        }
      ]
    },
    {
      "cell_type": "code",
      "source": [],
      "metadata": {
        "id": "g3peY_H7pgcN"
      },
      "execution_count": null,
      "outputs": []
    },
    {
      "cell_type": "code",
      "source": [],
      "metadata": {
        "id": "QDOrMFyQpgsQ"
      },
      "execution_count": null,
      "outputs": []
    }
  ]
}