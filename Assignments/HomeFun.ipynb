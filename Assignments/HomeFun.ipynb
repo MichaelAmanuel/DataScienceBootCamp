{
  "nbformat": 4,
  "nbformat_minor": 0,
  "metadata": {
    "colab": {
      "provenance": []
    },
    "kernelspec": {
      "name": "python3",
      "display_name": "Python 3"
    },
    "language_info": {
      "name": "python"
    }
  },
  "cells": [
    {
      "cell_type": "code",
      "execution_count": 18,
      "metadata": {
        "colab": {
          "base_uri": "https://localhost:8080/"
        },
        "id": "ZS5K7t2atTnR",
        "outputId": "fc69711f-6273-4648-aa39-a57550eb25ca"
      },
      "outputs": [
        {
          "output_type": "stream",
          "name": "stdout",
          "text": [
            "1 2 3 4 5 6 7 8 9 0 \r\n",
            " 2 3 4 5 6 7 8 9 0 \r\n",
            "  3 4 5 6 7 8 9 0 \r\n",
            "   4 5 6 7 8 9 0 \r\n",
            "    5 6 7 8 9 0 \r\n",
            "     6 7 8 9 0 \r\n",
            "      7 8 9 0 \r\n",
            "       8 9 0 \r\n",
            "        9 0 \r\n",
            "         0 \r\n"
          ]
        }
      ],
      "source": [
        "# Program 1:\n",
        "\n",
        "for i in range(10):\n",
        "  for j in range( i ):\n",
        "    print(' ', end='')\n",
        "  for k in range(10 - i):\n",
        "    result = k + i + 1\n",
        "    if result == 10:\n",
        "      print(0 , end=' ')\n",
        "    else:\n",
        "      print(result , end=' ')\n",
        "\n",
        "  print('\\r')\n",
        ""
      ]
    },
    {
      "cell_type": "code",
      "source": [
        "# Program 2:\n",
        "\n",
        "for i in range(10):\n",
        "  for j in range( i ):\n",
        "    print(' ', end='')\n",
        "  for k in range(10 - i):\n",
        "    result = 11 - (k+1+i)\n",
        "    if result == 10:\n",
        "      print(0 , end=' ')\n",
        "    else:\n",
        "      print(result , end=' ')\n",
        "\n",
        "\n",
        "  print('\\r')\n"
      ],
      "metadata": {
        "colab": {
          "base_uri": "https://localhost:8080/"
        },
        "id": "_cw8wFUryM2m",
        "outputId": "e0e8337c-405e-4495-f3b1-f50f27983cd2"
      },
      "execution_count": 88,
      "outputs": [
        {
          "output_type": "stream",
          "name": "stdout",
          "text": [
            "0 9 8 7 6 5 4 3 2 1 \r\n",
            " 9 8 7 6 5 4 3 2 1 \r\n",
            "  8 7 6 5 4 3 2 1 \r\n",
            "   7 6 5 4 3 2 1 \r\n",
            "    6 5 4 3 2 1 \r\n",
            "     5 4 3 2 1 \r\n",
            "      4 3 2 1 \r\n",
            "       3 2 1 \r\n",
            "        2 1 \r\n",
            "         1 \r\n"
          ]
        }
      ]
    },
    {
      "cell_type": "code",
      "source": [
        "# Program 3:\n",
        "\n",
        "for i in range(10):\n",
        "  for j in range( i ):\n",
        "    print(' ', end='')\n",
        "  for k in range(10 - i):\n",
        "    result = 11 - (k+1+i)\n",
        "    if result == 10:\n",
        "      print(0 , end=' ')\n",
        "    else:\n",
        "      print(result , end=' ')\n",
        "  print()\n",
        "\n",
        "for i in range(11):\n",
        "  for k in range(10 - i):\n",
        "    print('', end=' ')\n",
        "\n",
        "  for j in range(i):\n",
        "    result = i-j\n",
        "    if result == 10:\n",
        "      print(0 , end=' ')\n",
        "    else:\n",
        "      print(result , end=' ')\n",
        "\n",
        "\n",
        "  print('\\r')"
      ],
      "metadata": {
        "colab": {
          "base_uri": "https://localhost:8080/"
        },
        "id": "H4MG9k3q1hkD",
        "outputId": "9e2378ca-7a8c-4c5e-c9e5-de7fc2972505"
      },
      "execution_count": 122,
      "outputs": [
        {
          "output_type": "stream",
          "name": "stdout",
          "text": [
            "0 9 8 7 6 5 4 3 2 1 \n",
            " 9 8 7 6 5 4 3 2 1 \n",
            "  8 7 6 5 4 3 2 1 \n",
            "   7 6 5 4 3 2 1 \n",
            "    6 5 4 3 2 1 \n",
            "     5 4 3 2 1 \n",
            "      4 3 2 1 \n",
            "       3 2 1 \n",
            "        2 1 \n",
            "         1 \n",
            "          \r\n",
            "         1 \r\n",
            "        2 1 \r\n",
            "       3 2 1 \r\n",
            "      4 3 2 1 \r\n",
            "     5 4 3 2 1 \r\n",
            "    6 5 4 3 2 1 \r\n",
            "   7 6 5 4 3 2 1 \r\n",
            "  8 7 6 5 4 3 2 1 \r\n",
            " 9 8 7 6 5 4 3 2 1 \r\n",
            "0 9 8 7 6 5 4 3 2 1 \r\n"
          ]
        }
      ]
    },
    {
      "cell_type": "code",
      "source": [
        "#  Program 4:\n",
        "\n",
        "for i in range(9):\n",
        "  for j in range(i+1):\n",
        "    print(i+1,end=\" \")\n",
        "\n",
        "  print('\\r')"
      ],
      "metadata": {
        "colab": {
          "base_uri": "https://localhost:8080/"
        },
        "id": "JihO65421pJt",
        "outputId": "c6d24175-eb51-4669-da03-7b6e84d3a79c"
      },
      "execution_count": 34,
      "outputs": [
        {
          "output_type": "stream",
          "name": "stdout",
          "text": [
            "1 \r\n",
            "2 2 \r\n",
            "3 3 3 \r\n",
            "4 4 4 4 \r\n",
            "5 5 5 5 5 \r\n",
            "6 6 6 6 6 6 \r\n",
            "7 7 7 7 7 7 7 \r\n",
            "8 8 8 8 8 8 8 8 \r\n",
            "9 9 9 9 9 9 9 9 9 \r\n"
          ]
        }
      ]
    },
    {
      "cell_type": "code",
      "source": [
        "# Program 5\n",
        "\n",
        "for i in range(7):\n",
        "\n",
        "  for j in range(i+1):\n",
        "    print(j+1 ,end=\" \")\n",
        "\n",
        "  for j in range(i):\n",
        "    print(i-j,end=\" \")\n",
        "\n",
        "\n",
        "  print('\\r')"
      ],
      "metadata": {
        "colab": {
          "base_uri": "https://localhost:8080/"
        },
        "id": "7ht8iMg73aW9",
        "outputId": "6bcc5508-1eda-40ee-f512-18b99cfa719e"
      },
      "execution_count": 79,
      "outputs": [
        {
          "output_type": "stream",
          "name": "stdout",
          "text": [
            "1 \r\n",
            "1 2 1 \r\n",
            "1 2 3 2 1 \r\n",
            "1 2 3 4 3 2 1 \r\n",
            "1 2 3 4 5 4 3 2 1 \r\n",
            "1 2 3 4 5 6 5 4 3 2 1 \r\n",
            "1 2 3 4 5 6 7 6 5 4 3 2 1 \r\n"
          ]
        }
      ]
    },
    {
      "cell_type": "code",
      "source": [
        "#  Program 6\n",
        "\n",
        "for i in range(9):\n",
        "  for k in range(9 - i):\n",
        "    print('', end=' ')\n",
        "  for j in range(i+1):\n",
        "    print(j+1 ,end=\" \")\n",
        "\n",
        "  print('\\r')"
      ],
      "metadata": {
        "colab": {
          "base_uri": "https://localhost:8080/"
        },
        "id": "Uy-ZhVjZ3scq",
        "outputId": "ca28ffd1-7c58-444c-8bfb-8583e13b59bf"
      },
      "execution_count": 44,
      "outputs": [
        {
          "output_type": "stream",
          "name": "stdout",
          "text": [
            "         1 \r\n",
            "        1 2 \r\n",
            "       1 2 3 \r\n",
            "      1 2 3 4 \r\n",
            "     1 2 3 4 5 \r\n",
            "    1 2 3 4 5 6 \r\n",
            "   1 2 3 4 5 6 7 \r\n",
            "  1 2 3 4 5 6 7 8 \r\n",
            " 1 2 3 4 5 6 7 8 9 \r\n"
          ]
        }
      ]
    },
    {
      "cell_type": "code",
      "source": [
        "# Program 7:\n",
        "\n",
        "for i in range(10):\n",
        "  for j in range(i+1):\n",
        "    print( j * i , end=\" \")\n",
        "\n",
        "  print('\\r')"
      ],
      "metadata": {
        "colab": {
          "base_uri": "https://localhost:8080/"
        },
        "id": "6-DLjKVi4jOC",
        "outputId": "69aa3bb6-39d7-4bb6-a0c1-a8f38b9e138b"
      },
      "execution_count": 49,
      "outputs": [
        {
          "output_type": "stream",
          "name": "stdout",
          "text": [
            "0 \r\n",
            "0 1 \r\n",
            "0 2 4 \r\n",
            "0 3 6 9 \r\n",
            "0 4 8 12 16 \r\n",
            "0 5 10 15 20 25 \r\n",
            "0 6 12 18 24 30 36 \r\n",
            "0 7 14 21 28 35 42 49 \r\n",
            "0 8 16 24 32 40 48 56 64 \r\n",
            "0 9 18 27 36 45 54 63 72 81 \r\n"
          ]
        }
      ]
    },
    {
      "cell_type": "code",
      "source": [
        "#  Program 8\n",
        "\n",
        "for i in range(10):\n",
        "  for j in range( i ):\n",
        "    print(' ', end='')\n",
        "  for k in range(9 - i):\n",
        "    result = k + i + 1\n",
        "    if result == 10:\n",
        "      print(0 , end=' ')\n",
        "    else:\n",
        "      print(result , end=' ')\n",
        "\n",
        "  print('\\r')\n",
        ""
      ],
      "metadata": {
        "colab": {
          "base_uri": "https://localhost:8080/"
        },
        "id": "sC0PEZMD5M92",
        "outputId": "686ec1ab-6460-40bc-8967-927ea89c0c47"
      },
      "execution_count": 50,
      "outputs": [
        {
          "output_type": "stream",
          "name": "stdout",
          "text": [
            "1 2 3 4 5 6 7 8 9 \r\n",
            " 2 3 4 5 6 7 8 9 \r\n",
            "  3 4 5 6 7 8 9 \r\n",
            "   4 5 6 7 8 9 \r\n",
            "    5 6 7 8 9 \r\n",
            "     6 7 8 9 \r\n",
            "      7 8 9 \r\n",
            "       8 9 \r\n",
            "        9 \r\n",
            "         \r\n"
          ]
        }
      ]
    },
    {
      "cell_type": "code",
      "source": [
        "#  Program 9:\n",
        "\n",
        "num_rows = 7\n",
        "current_number = 1\n",
        "\n",
        "for row in range(1, num_rows + 1):\n",
        "    for _ in range(row):\n",
        "        print(current_number, end=\" \")\n",
        "        current_number += 1\n",
        "    print()\n"
      ],
      "metadata": {
        "colab": {
          "base_uri": "https://localhost:8080/"
        },
        "id": "bg4GrMfL5amx",
        "outputId": "ca5c0a38-d349-408e-d393-89202b36f1cd"
      },
      "execution_count": 123,
      "outputs": [
        {
          "output_type": "stream",
          "name": "stdout",
          "text": [
            "1 \n",
            "2 3 \n",
            "4 5 6 \n",
            "7 8 9 10 \n",
            "11 12 13 14 15 \n",
            "16 17 18 19 20 21 \n",
            "22 23 24 25 26 27 28 \n"
          ]
        }
      ]
    },
    {
      "cell_type": "code",
      "source": [
        "#  Program 10:\n",
        "\n",
        "for i in range(7):\n",
        "  for j in range(7 - i):\n",
        "    print(7 , end=' ')\n",
        "  print('\\r')"
      ],
      "metadata": {
        "colab": {
          "base_uri": "https://localhost:8080/"
        },
        "id": "6NdjBbKa5yBA",
        "outputId": "ac16cc49-e198-4eb3-eba8-a34853c685c7"
      },
      "execution_count": 53,
      "outputs": [
        {
          "output_type": "stream",
          "name": "stdout",
          "text": [
            "7 7 7 7 7 7 7 \r\n",
            "7 7 7 7 7 7 \r\n",
            "7 7 7 7 7 \r\n",
            "7 7 7 7 \r\n",
            "7 7 7 \r\n",
            "7 7 \r\n",
            "7 \r\n"
          ]
        }
      ]
    }
  ]
}