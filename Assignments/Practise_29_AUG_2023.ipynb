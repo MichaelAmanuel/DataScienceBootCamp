{
  "nbformat": 4,
  "nbformat_minor": 0,
  "metadata": {
    "colab": {
      "provenance": []
    },
    "kernelspec": {
      "name": "python3",
      "display_name": "Python 3"
    },
    "language_info": {
      "name": "python"
    }
  },
  "cells": [
    {
      "cell_type": "code",
      "execution_count": 2,
      "metadata": {
        "colab": {
          "base_uri": "https://localhost:8080/"
        },
        "id": "l6nKjVSswWZP",
        "outputId": "49a9051f-bb4b-45a3-8bf7-1bd33a75f000"
      },
      "outputs": [
        {
          "output_type": "stream",
          "name": "stdout",
          "text": [
            "The 11 is not in the matrix.\n"
          ]
        }
      ],
      "source": [
        "matrix = [1, 2, 3, 4, 5, 6, 7, 8, 9]\n",
        "num= 11\n",
        "\n",
        "if num not in matrix:\n",
        "  print(f'The {num} is not in the matrix.')\n",
        "\n",
        "else:\n",
        "  print(f'Yes the {num} is in the matrix')"
      ]
    },
    {
      "cell_type": "code",
      "source": [
        "# Create a Shape class with subclasses like Circle, Rectangle, and Triangle.\n",
        "# Implement methods to calculate area and perimeter for each shape.\n",
        "\n",
        "\n",
        "class Shape:\n",
        "\n",
        "  def __init__(self):\n",
        "    pass\n",
        "\n",
        "  def calculate_are(self):\n",
        "    pass\n",
        "  def calculate_perimeter(self):\n",
        "    pass\n",
        "\n",
        "class Circle(Shape):\n",
        "    def __init__(self, r):\n",
        "      self.radius = r\n",
        "\n",
        "    def area(self):\n",
        "        return self.radius * self.radius * 3.1415\n",
        "\n",
        "    def perimeter(self):\n",
        "        return (2 * self.radius * 3.1415)\n",
        "\n",
        "class Rectangle(Shape):\n",
        "  def __init__(self, h, w):\n",
        "    self.height = h\n",
        "    self.width = w\n",
        "\n",
        "  def area(self):\n",
        "    return self.height * self.width\n",
        "\n",
        "  def perimeter(self):\n",
        "    return 2 * (self.height + self.width)\n",
        "\n",
        "class Triangle(Shape):\n",
        "    def __init__(self, h, w, l):\n",
        "      self.height = h\n",
        "      self.width = w\n",
        "      self.length = l\n",
        "\n",
        "    def area(self):\n",
        "      return 0.5 * self.height * self.width\n",
        "\n",
        "    def perimeter(self):\n",
        "      return self.height + self.width + self.length\n",
        "\n",
        "\n",
        "\n",
        "circle = Circle(7)\n",
        "triangle = Triangle(12, 23 , 19)\n",
        "recatngle = Rectangle(12, 23 )\n",
        "\n",
        "print(triangle.area())\n",
        "print(circle.perimeter())"
      ],
      "metadata": {
        "colab": {
          "base_uri": "https://localhost:8080/"
        },
        "id": "jJvLpPmfTbQQ",
        "outputId": "20b6b45c-93c7-4f87-9594-73463dc60160"
      },
      "execution_count": 1,
      "outputs": [
        {
          "output_type": "stream",
          "name": "stdout",
          "text": [
            "138.0\n",
            "43.981\n"
          ]
        }
      ]
    },
    {
      "cell_type": "code",
      "source": [
        "class Shape:\n",
        "\n",
        "    def __init__(self):\n",
        "        pass\n",
        "    def calculate_perimeter(self):\n",
        "        pass\n",
        "    def calculate_area(self):\n",
        "        pass\n",
        "\n",
        "class Circle(Shape):\n",
        "    def __init__(self, radius):\n",
        "        self.radius = radius\n",
        "\n",
        "    def calculate_area(self):\n",
        "        return 3.14 * (self.radius) ** 2\n",
        "\n",
        "    def calculate_perimeter(self):\n",
        "        return 2 * 3.14 * self.radius\n",
        "\n",
        "class Triangle(Shape):\n",
        "    def __init__(self, base, height , lenght):\n",
        "        self.length = base\n",
        "        self.width = height\n",
        "        self.base = base\n",
        "\n",
        "    def calculate_perimeter(self):\n",
        "        return self.length + self.width + self.base\n",
        "\n",
        "    def calculate_area(self):\n",
        "        return 0.5 * self.base * self.width\n",
        "\n",
        "\n",
        "class Rectangle(Shape):\n",
        "    def __init__(self, length, width):\n",
        "        self.length = length\n",
        "        self.width = width\n",
        "\n",
        "    def calculate_area(self):\n",
        "        return self.length * self.width\n",
        "\n",
        "    def calculate_perimeter(self):\n",
        "        return 2 * (self.length + self.width)\n",
        "\n",
        "circle = Circle(7)\n",
        "triangle = Triangle(12, 23 , 19)\n",
        "recatngle = Rectangle(12, 23 )\n",
        "\n",
        "print(triangle.calculate_area())\n",
        "print(circle.calculate_perimeter())"
      ],
      "metadata": {
        "id": "2QqpY4KL-jkM"
      },
      "execution_count": null,
      "outputs": []
    },
    {
      "cell_type": "code",
      "source": [
        "class Item:\n",
        "    def __init__(self, name, price):\n",
        "        self.name = name\n",
        "        self.price = price\n",
        "\n",
        "\n",
        "class Shoping_cart(Item):\n",
        "    def __init__(self):\n",
        "       self.items = []\n",
        "\n",
        "    def add_items(self, items_names):\n",
        "        self.items.append(items_names)\n",
        "\n",
        "    def remov_items(self, items_name):\n",
        "        found = False\n",
        "        for item in self.items:\n",
        "            if item.name == item_name:\n",
        "                self.items.remove(item)\n",
        "                print(f\"The {item_name} removed successfully\")\n",
        "                found = True\n",
        "                break\n",
        "        if not found:\n",
        "            print(f\"No such {item_name} is in the grocery list\")\n",
        "\n",
        "    def total_cost(self):\n",
        "        total = sum(item.price for item in self.items)\n",
        "        return total\n",
        "\n",
        "    def cost_discount(self):\n",
        "        discount = (discount_percentage / 100) * self.calculate_total()\n",
        "        total_after_discount = self.calculate_total() - discount\n",
        "        return total_after_discount\n",
        "\n",
        "shoper_one = Shoping_cart()\n",
        "\n",
        "item1 = Item(\"Apple\", 1.2)\n",
        "item2 = Item(\"Banana\", 0.5)\n",
        "item3 = Item(\"Orange\", 1.0)\n",
        "\n",
        "\n",
        "shoper_one.add_items(item1)\n",
        "shoper_one.add_items(item2)\n",
        "shoper_one.add_items(item3)\n",
        "\n",
        "total_cost = shoper_one.total_cost()\n",
        "print(\"Total cost:\", total_cost)"
      ],
      "metadata": {
        "colab": {
          "base_uri": "https://localhost:8080/"
        },
        "id": "BuQdZfUflIxs",
        "outputId": "4edffc8d-ded9-4a2b-a969-b7a439ddbc95"
      },
      "execution_count": 3,
      "outputs": [
        {
          "output_type": "stream",
          "name": "stdout",
          "text": [
            "Total cost: 2.7\n"
          ]
        }
      ]
    },
    {
      "cell_type": "code",
      "source": [
        "class Comment:\n",
        "    def __init__(self, user, text):\n",
        "        self.user = user\n",
        "        self.text = text\n",
        "\n",
        "    def __str__(self):\n",
        "        return f\"{self.user.username}: {self.text}\"\n",
        "\n",
        "class Post:\n",
        "    def __init__(self, user, text):\n",
        "        self.user = user\n",
        "        self.text = text\n",
        "        self.likes = []\n",
        "        self.comments = []\n",
        "\n",
        "    def add_like(self, user):\n",
        "        if user not in self.likes:\n",
        "            self.likes.append(user)\n",
        "            print(f\"{user.username} liked the post.\")\n",
        "\n",
        "    def add_comment(self, user, text):\n",
        "        comment = Comment(user, text)\n",
        "        self.comments.append(comment)\n",
        "        print(f\"{user.username} commented on the post: {text}\")\n",
        "\n",
        "    def display(self):\n",
        "        print(f\"Posted by: {self.user.username}\")\n",
        "        print(f\"Text: {self.text}\")\n",
        "        print(f\"Likes: {', '.join(user.username for user in self.likes)}\")\n",
        "        print(\"Comments:\")\n",
        "        for comment in self.comments:\n",
        "            print(comment)\n",
        "\n",
        "class User:\n",
        "    def __init__(self, username):\n",
        "        self.username = username\n",
        "\n",
        "    def create_post(self, text):\n",
        "        post = Post(self, text)\n",
        "        return post\n",
        "\n",
        "# Creating users\n",
        "user1 = User(\"Alice\")\n",
        "user2 = User(\"Bob\")\n",
        "\n",
        "# Creating posts\n",
        "post1 = user1.create_post(\"Hello, everyone!\")\n",
        "post2 = user2.create_post(\"Happy Friday!\")\n",
        "\n",
        "# Users interact with posts\n",
        "post1.add_like(user2)\n",
        "post2.add_comment(user1, \"Have a great weekend!\")\n",
        "\n",
        "# Displaying posts with interactions\n",
        "post1.display()\n",
        "print(\"-----\")\n",
        "post2.display()\n"
      ],
      "metadata": {
        "id": "INePJSUuxqcG"
      },
      "execution_count": null,
      "outputs": []
    }
  ]
}