{
  "nbformat": 4,
  "nbformat_minor": 0,
  "metadata": {
    "colab": {
      "provenance": []
    },
    "kernelspec": {
      "name": "python3",
      "display_name": "Python 3"
    },
    "language_info": {
      "name": "python"
    }
  },
  "cells": [
    {
      "cell_type": "code",
      "execution_count": 3,
      "metadata": {
        "colab": {
          "base_uri": "https://localhost:8080/"
        },
        "id": "vUpDTAsgb7P4",
        "outputId": "4cdf515e-4b77-48c9-b5f2-ec9625f1f4d5"
      },
      "outputs": [
        {
          "output_type": "stream",
          "name": "stdout",
          "text": [
            "Choice your number. 5\n",
            "[[7, 8, 9], [4, 'x', 6], [1, 2, 3]]\n"
          ]
        }
      ],
      "source": [
        "matrix = [7, 8, 9, 4, 5, 6, 1, 2, 3]\n",
        "user_num = int(input('Choice your number. '))\n",
        "index = matrix.index(user_num)\n",
        "matrix[index] = 'x'\n",
        "\n",
        "matrix_one = []\n",
        "matrix_two = []\n",
        "matrix_3 = []\n",
        "\n",
        "for i in matrix[:3]:\n",
        "    matrix_one.append(i)\n",
        "\n",
        "for i in matrix[3:6]:\n",
        "    matrix_two.append(i)\n",
        "\n",
        "for i in matrix[6:10]:\n",
        "    matrix_3.append(i)\n",
        "\n",
        "out_put = []\n",
        "for k in (matrix_one, matrix_two, matrix_3):\n",
        "    out_put.append(k)\n",
        "\n",
        "print(out_put)"
      ]
    },
    {
      "cell_type": "code",
      "source": [],
      "metadata": {
        "id": "k8548seJmZu-"
      },
      "execution_count": null,
      "outputs": []
    }
  ]
}