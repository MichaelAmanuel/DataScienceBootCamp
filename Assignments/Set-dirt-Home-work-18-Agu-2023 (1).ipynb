{
  "nbformat": 4,
  "nbformat_minor": 0,
  "metadata": {
    "colab": {
      "provenance": []
    },
    "kernelspec": {
      "name": "python3",
      "display_name": "Python 3"
    },
    "language_info": {
      "name": "python"
    }
  },
  "cells": [
    {
      "cell_type": "code",
      "execution_count": 1,
      "metadata": {
        "colab": {
          "base_uri": "https://localhost:8080/"
        },
        "id": "QC8YthOIXHBU",
        "outputId": "0bd951ac-2e2d-43b2-8305-8c0f2e80a279"
      },
      "outputs": [
        {
          "output_type": "execute_result",
          "data": {
            "text/plain": [
              "['__and__',\n",
              " '__class__',\n",
              " '__class_getitem__',\n",
              " '__contains__',\n",
              " '__delattr__',\n",
              " '__dir__',\n",
              " '__doc__',\n",
              " '__eq__',\n",
              " '__format__',\n",
              " '__ge__',\n",
              " '__getattribute__',\n",
              " '__gt__',\n",
              " '__hash__',\n",
              " '__iand__',\n",
              " '__init__',\n",
              " '__init_subclass__',\n",
              " '__ior__',\n",
              " '__isub__',\n",
              " '__iter__',\n",
              " '__ixor__',\n",
              " '__le__',\n",
              " '__len__',\n",
              " '__lt__',\n",
              " '__ne__',\n",
              " '__new__',\n",
              " '__or__',\n",
              " '__rand__',\n",
              " '__reduce__',\n",
              " '__reduce_ex__',\n",
              " '__repr__',\n",
              " '__ror__',\n",
              " '__rsub__',\n",
              " '__rxor__',\n",
              " '__setattr__',\n",
              " '__sizeof__',\n",
              " '__str__',\n",
              " '__sub__',\n",
              " '__subclasshook__',\n",
              " '__xor__',\n",
              " 'add',\n",
              " 'clear',\n",
              " 'copy',\n",
              " 'difference',\n",
              " 'difference_update',\n",
              " 'discard',\n",
              " 'intersection',\n",
              " 'intersection_update',\n",
              " 'isdisjoint',\n",
              " 'issubset',\n",
              " 'issuperset',\n",
              " 'pop',\n",
              " 'remove',\n",
              " 'symmetric_difference',\n",
              " 'symmetric_difference_update',\n",
              " 'union',\n",
              " 'update']"
            ]
          },
          "metadata": {},
          "execution_count": 1
        }
      ],
      "source": [
        "dir(set)"
      ]
    },
    {
      "cell_type": "code",
      "source": [
        "# The add() method in Python is used to add a single element to a set.\n",
        "\n",
        "my_set = {1, 2, 3}\n",
        "my_set.add(4)  # Adding element 4 to the set\n",
        "\n",
        "print(\"Updated Set:\", my_set)\n"
      ],
      "metadata": {
        "colab": {
          "base_uri": "https://localhost:8080/"
        },
        "id": "a-9yENCifJkv",
        "outputId": "24cc92e8-8017-48b6-878b-afafc49928b6"
      },
      "execution_count": 19,
      "outputs": [
        {
          "output_type": "stream",
          "name": "stdout",
          "text": [
            "Updated Set: {1, 2, 3, 4}\n"
          ]
        }
      ]
    },
    {
      "cell_type": "code",
      "source": [
        "# The clear() method in Python is used to remove all elements from\n",
        "# a set, effectively making it an empty set.\n",
        "\n",
        "my_set = {1, 2, 3, 4, 5}\n",
        "my_set.clear()\n",
        "print(\"Cleared Set:\", my_set)\n"
      ],
      "metadata": {
        "colab": {
          "base_uri": "https://localhost:8080/"
        },
        "id": "-QkGxDpOfnH2",
        "outputId": "c020cef1-5ea3-4322-a487-bdfce8431d64"
      },
      "execution_count": 21,
      "outputs": [
        {
          "output_type": "stream",
          "name": "stdout",
          "text": [
            "Cleared Set: set()\n"
          ]
        }
      ]
    },
    {
      "cell_type": "code",
      "source": [
        "# is used to find the difference between two or more sets.\n",
        "set1 = {1, 2, 3, 4, 5}\n",
        "set2 = {3, 4, 5, 6, 7}\n",
        "\n",
        "difference_set = set1.difference(set2)\n",
        "\n",
        "print(\"Difference Set:\", difference_set)\n"
      ],
      "metadata": {
        "colab": {
          "base_uri": "https://localhost:8080/"
        },
        "id": "YBV_tvKqgncl",
        "outputId": "5f0e3606-ba7f-4fa7-bead-072d49d1816e"
      },
      "execution_count": 24,
      "outputs": [
        {
          "output_type": "stream",
          "name": "stdout",
          "text": [
            "Difference Set: {1, 2}\n"
          ]
        }
      ]
    },
    {
      "cell_type": "code",
      "source": [
        "# s used to update a set by removing elements that are\n",
        "# present in another set (or multiple sets)."
      ],
      "metadata": {
        "id": "KZ2AdGMmg5u-"
      },
      "execution_count": null,
      "outputs": []
    },
    {
      "cell_type": "code",
      "source": [],
      "metadata": {
        "id": "RKtXCoC5D3lW"
      },
      "execution_count": null,
      "outputs": []
    },
    {
      "cell_type": "code",
      "source": [
        "# remove a specific element from a set if it exists.\n",
        "\n",
        "my_set = {1, 2, 3, 4, 5}\n",
        "\n",
        "my_set.discard(3)  # Removing element 3\n",
        "my_set.discard(6)  # Element 6 is not in the set, so no change\n",
        "\n",
        "print(\"Updated Set:\", my_set)\n"
      ],
      "metadata": {
        "colab": {
          "base_uri": "https://localhost:8080/"
        },
        "id": "88HQQcE4hSbS",
        "outputId": "ec3c7db1-6096-498c-f894-444ecee7aeb5"
      },
      "execution_count": 27,
      "outputs": [
        {
          "output_type": "stream",
          "name": "stdout",
          "text": [
            "Updated Set: {1, 2, 4, 5}\n"
          ]
        }
      ]
    },
    {
      "cell_type": "code",
      "source": [
        "# is used to find the common elements between two or more sets.\n",
        "set1 = {1, 2, 3, 4, 5}\n",
        "set2 = {3, 4, 5, 6, 7}\n",
        "\n",
        "intersection_set = set1.intersection(set2)\n",
        "\n",
        "print(\"Intersection Set:\", intersection_set)"
      ],
      "metadata": {
        "colab": {
          "base_uri": "https://localhost:8080/"
        },
        "id": "hyIIC_ZfhxMH",
        "outputId": "aacce187-7ce1-49aa-96fb-64e02b63282b"
      },
      "execution_count": 28,
      "outputs": [
        {
          "output_type": "stream",
          "name": "stdout",
          "text": [
            "Intersection Set: {3, 4, 5}\n"
          ]
        }
      ]
    },
    {
      "cell_type": "code",
      "source": [
        "#  update a set by keeping only the elements that are\n",
        "#  common between it and one or more other sets.\n",
        "\n",
        "set1 = {1, 2, 3, 4, 5}\n",
        "set2 = {3, 4, 5, 6, 7}\n",
        "\n",
        "set1.intersection_update(set2)\n",
        "\n",
        "print(\"Updated Set 1:\", set1)"
      ],
      "metadata": {
        "colab": {
          "base_uri": "https://localhost:8080/"
        },
        "id": "c27U_iTwh_vP",
        "outputId": "4790015c-912d-48a1-ef59-1e12e2594806"
      },
      "execution_count": 29,
      "outputs": [
        {
          "output_type": "stream",
          "name": "stdout",
          "text": [
            "Updated Set 1: {3, 4, 5}\n"
          ]
        }
      ]
    },
    {
      "cell_type": "code",
      "source": [
        "# is used to check whether two sets have any elements in common or not.\n",
        "\n",
        "set1 = {1, 2, 3, 4, 5}\n",
        "set2 = {6, 7, 8, 9}\n",
        "\n",
        "result1 = set1.isdisjoint(set2)\n",
        "print(\"Are set1 and set2 disjoint?\", result1)  # True\n",
        "\n",
        "set3 = {3, 4, 5, 6, 7}\n",
        "result2 = set1.isdisjoint(set3)\n",
        "print(\"Are set1 and set3 disjoint?\", result2)  # False\n"
      ],
      "metadata": {
        "colab": {
          "base_uri": "https://localhost:8080/"
        },
        "id": "2evTkQn8iVJI",
        "outputId": "968444e9-cd5d-42e6-fd07-5ae4ff5af1c7"
      },
      "execution_count": 30,
      "outputs": [
        {
          "output_type": "stream",
          "name": "stdout",
          "text": [
            "Are set1 and set2 disjoint? True\n",
            "Are set1 and set3 disjoint? False\n"
          ]
        }
      ]
    },
    {
      "cell_type": "code",
      "source": [
        "# used to check whether a set is a subset of another set\n",
        "set1 = {1, 2, 3}\n",
        "set2 = {1, 2, 3, 4, 5}\n",
        "\n",
        "result1 = set1.issubset(set2)\n",
        "print(\"Is set1 a subset of set2?\", result1)  # True\n",
        "\n",
        "set3 = {4, 5, 6}\n",
        "result2 = set1.issubset(set3)\n",
        "print(\"Is set1 a subset of set3?\", result2)  # False\n"
      ],
      "metadata": {
        "colab": {
          "base_uri": "https://localhost:8080/"
        },
        "id": "fHRyN-UaiyW0",
        "outputId": "6fa2f407-e1d9-4d3f-a1b6-605a796e4aed"
      },
      "execution_count": 31,
      "outputs": [
        {
          "output_type": "stream",
          "name": "stdout",
          "text": [
            "Is set1 a subset of set2? True\n",
            "Is set1 a subset of set3? False\n"
          ]
        }
      ]
    },
    {
      "cell_type": "code",
      "source": [
        "# It returns a new set that contains the same elements as the original set.\n",
        "\n",
        "original_set = {1, 2, 3}\n",
        "copied_set = original_set.copy()\n",
        "\n",
        "print(\"Original Set:\", original_set)\n",
        "\n",
        "print(\"Copied Set:\", copied_set)"
      ],
      "metadata": {
        "colab": {
          "base_uri": "https://localhost:8080/"
        },
        "id": "zGuAc1BLf52K",
        "outputId": "a7f9db3b-73c8-4b1c-be8b-6c0d2222e8c5"
      },
      "execution_count": 23,
      "outputs": [
        {
          "output_type": "stream",
          "name": "stdout",
          "text": [
            "Original Set: {1, 2, 3}\n",
            "Copied Set: {1, 2, 3}\n"
          ]
        }
      ]
    },
    {
      "cell_type": "code",
      "source": [
        "# used to check whether a set is a superset of another set.\n",
        "set1 = {1, 2, 3, 4, 5}\n",
        "set2 = {1, 2, 3}\n",
        "\n",
        "result1 = set1.issuperset(set2)\n",
        "print(\"Is set1 a superset of set2?\", result1)  # True\n",
        "\n",
        "set3 = {4, 5, 6}\n",
        "result2 = set1.issuperset(set3)\n",
        "print(\"Is set1 a superset of set3?\", result2)  # False\n"
      ],
      "metadata": {
        "colab": {
          "base_uri": "https://localhost:8080/"
        },
        "id": "D70wqLq_gOtS",
        "outputId": "c3ec2e9f-e951-4eaa-fbbb-9b53b0fec25d"
      },
      "execution_count": 32,
      "outputs": [
        {
          "output_type": "stream",
          "name": "stdout",
          "text": [
            "Is set1 a superset of set2? True\n",
            "Is set1 a superset of set3? False\n"
          ]
        }
      ]
    },
    {
      "cell_type": "code",
      "source": [
        "# remove any elemnts from the set\n",
        "set = {1, 2, 3, 4, 5, 6, 7, 8}\n",
        "set.pop()\n",
        "print(set)"
      ],
      "metadata": {
        "colab": {
          "base_uri": "https://localhost:8080/"
        },
        "id": "us9vxQhgYLHe",
        "outputId": "ce5654ce-9cb5-4e85-e02f-9bd10d9f50d6"
      },
      "execution_count": 6,
      "outputs": [
        {
          "output_type": "stream",
          "name": "stdout",
          "text": [
            "{2, 3, 4, 5, 6, 7, 8}\n"
          ]
        }
      ]
    },
    {
      "cell_type": "code",
      "source": [
        "# remove specific elements from a set in Python, you can use the remove() method.\n",
        "my_set = {1, 2, 3, 4, 5, 6, 7, 8}\n",
        "my_set.remove(7)\n",
        "print(my_set)"
      ],
      "metadata": {
        "colab": {
          "base_uri": "https://localhost:8080/"
        },
        "id": "4CPiDPsxY5vi",
        "outputId": "daf93c85-f178-4f93-ace2-f914d461b8b0"
      },
      "execution_count": 10,
      "outputs": [
        {
          "output_type": "stream",
          "name": "stdout",
          "text": [
            "{1, 2, 3, 4, 5, 6, 8}\n"
          ]
        }
      ]
    },
    {
      "cell_type": "code",
      "source": [
        "# The symmetric difference of two sets contains all elements that are\n",
        "# in either of the sets, but not in their intersection.\n",
        "\n",
        "set1 = {1, 2, 3, 4, 5}\n",
        "set2 = {4, 5, 6, 7, 8}\n",
        "\n",
        "symmetric_diff = set1.symmetric_difference(set2)\n",
        "print(\"Symmetric Difference:\", symmetric_diff)"
      ],
      "metadata": {
        "colab": {
          "base_uri": "https://localhost:8080/"
        },
        "id": "ACKPK5gzZU2p",
        "outputId": "ada2d2fd-e837-4e2b-d302-077c300dd549"
      },
      "execution_count": 11,
      "outputs": [
        {
          "output_type": "stream",
          "name": "stdout",
          "text": [
            "Symmetric Difference: {1, 2, 3, 6, 7, 8}\n"
          ]
        }
      ]
    },
    {
      "cell_type": "code",
      "source": [
        "# The symmetric_difference_update() method in Python is used to update\n",
        "#  a set with the symmetric difference of itself and another set.\n",
        "\n",
        "set1 = {1, 2, 3, 4, 5}\n",
        "set2 = {4, 5, 6, 7, 8}\n",
        "\n",
        "set1.symmetric_difference_update(set2)\n",
        "\n",
        "print(\"Updated set1:\", set1)\n",
        "\n",
        "set2.symmetric_difference_update(set1)\n",
        "print(\"Updated set2:\", set2)"
      ],
      "metadata": {
        "colab": {
          "base_uri": "https://localhost:8080/"
        },
        "id": "mZ4WrnmrbTo8",
        "outputId": "67b61e0e-a0be-4a1c-ba89-e8acb98eee45"
      },
      "execution_count": 16,
      "outputs": [
        {
          "output_type": "stream",
          "name": "stdout",
          "text": [
            "Updated set1: {1, 2, 3, 6, 7, 8}\n",
            "Updated set2: {1, 2, 3, 4, 5}\n"
          ]
        }
      ]
    },
    {
      "cell_type": "code",
      "source": [
        "# To perform the union of two sets in Python, you can use the union() method\n",
        "\n",
        "set1 = {1, 2, 3}\n",
        "set2 = {3, 4, 5}\n",
        "\n",
        "union_set = set1.union(set2)\n",
        "print(\"Union Set:\", union_set)"
      ],
      "metadata": {
        "colab": {
          "base_uri": "https://localhost:8080/"
        },
        "id": "3myV_Ia0c78R",
        "outputId": "f2c171fb-76cb-4339-9402-c0c0ee42545d"
      },
      "execution_count": 17,
      "outputs": [
        {
          "output_type": "stream",
          "name": "stdout",
          "text": [
            "Union Set: {1, 2, 3, 4, 5}\n"
          ]
        }
      ]
    },
    {
      "cell_type": "code",
      "source": [
        "# The update() method in Python is used to update a set by adding elements\n",
        "# from another iterable (like another set, list, tuple, etc.) into the set.\n",
        "\n",
        "set1 = {1, 2, 3}\n",
        "set2 = {3, 4, 5}\n",
        "\n",
        "set1.update(set2)\n",
        "print(\"Updated Set 1:\", set1)\n"
      ],
      "metadata": {
        "colab": {
          "base_uri": "https://localhost:8080/"
        },
        "id": "WGjjcRaQdqr_",
        "outputId": "9c02de34-1df5-462b-977a-89c6c92cf2d5"
      },
      "execution_count": 18,
      "outputs": [
        {
          "output_type": "stream",
          "name": "stdout",
          "text": [
            "Updated Set 1: {1, 2, 3, 4, 5}\n"
          ]
        }
      ]
    }
  ]
}