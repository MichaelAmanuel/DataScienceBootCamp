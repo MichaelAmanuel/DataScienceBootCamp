{
  "nbformat": 4,
  "nbformat_minor": 0,
  "metadata": {
    "colab": {
      "provenance": []
    },
    "kernelspec": {
      "name": "python3",
      "display_name": "Python 3"
    },
    "language_info": {
      "name": "python"
    }
  },
  "cells": [
    {
      "cell_type": "code",
      "execution_count": 7,
      "metadata": {
        "colab": {
          "base_uri": "https://localhost:8080/"
        },
        "id": "5urLv5ZED3u7",
        "outputId": "4970303f-4f42-46d2-8b4f-29d03f66d769"
      },
      "outputs": [
        {
          "output_type": "stream",
          "name": "stdout",
          "text": [
            "black-green-red-white-yellow\n"
          ]
        }
      ],
      "source": [
        "# 1) Write a Python Function that accepts a hyphen-separated sequence of\n",
        "# words as input and prints the words in a hyphen-separated sequence after\n",
        "# sorting them alphabetically.\n",
        "# Sample Items : green-red-yellow-black-white\n",
        "# Expected Result : black-green-red-white-yellow\n",
        "\n",
        "\n",
        "def hyphen_separated(word):\n",
        "  words = word.split('-')\n",
        "  word_splited ='-'.join(sorted(words))\n",
        "  print(word_splited)\n",
        "\n",
        "hyphen_separated('green-red-yellow-black-white')\n"
      ]
    },
    {
      "cell_type": "code",
      "source": [
        "# 2)  Write a function that accepts a string and\n",
        "# count consonant and vowels in that string\n",
        "\n",
        "def count_vowels(str):\n",
        "  vowels_list = ['a', 'e', 'i', 'o', 'u']\n",
        "  count_vowels = 0\n",
        "  count_con = 0\n",
        "  for word in str.lower():\n",
        "    if word in vowels_list:\n",
        "      count_vowels += 1\n",
        "    else:\n",
        "      count_con += 1\n",
        "\n",
        "  print(f\"The number of vowels are : {count_vowels}\")\n",
        "  print(f\"The number of coun are : {count_con}\")\n",
        "\n",
        "\n",
        "\n",
        "word = input('Put the word you want.')\n",
        "count_vowels(word)"
      ],
      "metadata": {
        "colab": {
          "base_uri": "https://localhost:8080/"
        },
        "id": "YJ7sLSTaHuTG",
        "outputId": "e6bde276-9cbd-48c4-f253-be8cada7026c"
      },
      "execution_count": 22,
      "outputs": [
        {
          "output_type": "stream",
          "name": "stdout",
          "text": [
            "Put the word you want.green red yellow black white\n",
            "The number of vowels are : 8\n",
            "The number of coun are : 20\n"
          ]
        }
      ]
    },
    {
      "cell_type": "code",
      "source": [
        "# Write a Python function to check whether a number is \"Perfect\" or not.\n",
        "# According to Wikipedia : In number theory, a perfect number is a positive\n",
        "#integer that is equal to the sum of its proper positive divisors, that is,\n",
        "#the sum of its positive divisors excluding the number itself (also known as\n",
        "#its aliquot sum). Equivalently, a perfect number is a number that is half the\n",
        "#sum of all of its positive divisors (including itself).\n",
        "# Example : The first perfect number is 6, because 1, 2, and 3 are its proper\n",
        "#positive divisors, and 1 + 2 + 3 = 6. Equivalently, the number 6 is equal to\n",
        "#half the sum of all its positive divisors: ( 1 + 2 + 3 + 6 ) / 2 = 6. The next\n",
        "#perfect number is 28 = 1 + 2 + 4 + 7 + 14. This is followed by the perfect\n",
        "#numbers 496 and 8128.\n",
        "\n",
        "\n",
        "def perfect_number(num):\n",
        "\n",
        "  sum_div = 0\n",
        "  for i in range(1,num):\n",
        "    if num % i == 0:\n",
        "      sum_div += i\n",
        "\n",
        "  if sum_div == num and (sum_div + num)/2:\n",
        "    print('It is perfect number.')\n",
        "  else:\n",
        "    print(\"It is not perfect number.\")\n",
        "\n",
        "\n",
        "num = int(input('Put the nummber. '))\n",
        "perfect_number(num)\n"
      ],
      "metadata": {
        "colab": {
          "base_uri": "https://localhost:8080/"
        },
        "id": "UCj-r5DnNvYz",
        "outputId": "c8a1efd5-167d-4306-c15d-3286882faee1"
      },
      "execution_count": 20,
      "outputs": [
        {
          "output_type": "stream",
          "name": "stdout",
          "text": [
            "Put the nummber. 8128\n",
            "It is perfect number.\n"
          ]
        }
      ]
    },
    {
      "cell_type": "code",
      "source": [
        "# 4) Write a program to print twin primes less than 1000. If two\n",
        "# consecutive odd numbers are both prime then they are known as twin primes\n",
        "\n",
        "\n",
        "def twin_prim(num):\n",
        "\n",
        "  num_1 = 0\n",
        "  num_2 = 0\n",
        "\n",
        "  for i in range(3, num):\n",
        "      count_1 = 0\n",
        "      if i % 2 != 0:\n",
        "          for j in range(2, i):\n",
        "              if i % j == 0:\n",
        "                  count_1 += 1\n",
        "          if count_1 < 1:\n",
        "              num_1 = i\n",
        "              number = i + 2\n",
        "              count_2 = 0\n",
        "              for k in range(2, number):\n",
        "\n",
        "                  if number % k == 0:\n",
        "                      count_2 += 1\n",
        "              if count_2 < 1:\n",
        "                  num_2 = number\n",
        "\n",
        "                  print(num_1, num_2)\n",
        "\n",
        "\n",
        "\n",
        "in_put = int(input(\"Put your number. \"))\n",
        "twin_prim(in_put)"
      ],
      "metadata": {
        "colab": {
          "base_uri": "https://localhost:8080/"
        },
        "id": "4kUL4egjSVPC",
        "outputId": "3aa0c364-e83e-4237-f52d-e63c3e11ea2a"
      },
      "execution_count": 34,
      "outputs": [
        {
          "output_type": "stream",
          "name": "stdout",
          "text": [
            "Put your number. 150\n",
            "3 5\n",
            "5 7\n",
            "11 13\n",
            "17 19\n",
            "29 31\n",
            "41 43\n",
            "59 61\n",
            "71 73\n",
            "101 103\n",
            "107 109\n",
            "137 139\n",
            "149 151\n"
          ]
        }
      ]
    },
    {
      "cell_type": "code",
      "source": [
        "# 2) Write a program to find out the prime factorization of a number.\n",
        "# Example: prime factorization  of 56 2 × 2 × 2 × 7\n",
        "\n",
        "def isprim(num_prim):\n",
        "  for x in range(2, num_prim):\n",
        "    count = 0\n",
        "    if num_prim % x ==0:\n",
        "      count += 1\n",
        "      if count > 1:\n",
        "        return isprim == True\n",
        "\n",
        "def prime_factorization(num):\n",
        "\n",
        "  mult_nums = 1\n",
        "  for x in range(2, num):\n",
        "    if num % x == 0 and isprim(x):\n",
        "      mult_nums *= x\n",
        "      num = num / x\n",
        "      print(x,end=' ')\n",
        "\n",
        "prim_fact = int(input('Put the number. '))\n",
        "prime_factorization(prim_fact)"
      ],
      "metadata": {
        "colab": {
          "base_uri": "https://localhost:8080/"
        },
        "id": "XqEb5LYalBFZ",
        "outputId": "3726b8b1-c708-47d6-9401-7b5aabab3117"
      },
      "execution_count": 41,
      "outputs": [
        {
          "name": "stdout",
          "output_type": "stream",
          "text": [
            "Put the number. 56\n"
          ]
        }
      ]
    },
    {
      "cell_type": "code",
      "source": [
        "# 3) Two different numbers are called amicable numbers if the sum of the\n",
        "# proper divisors of each is equal to the other number. For example 220\n",
        "# and 284 are amicable numbers.\n",
        "\n",
        "def amicable_numbers(num_1, num_2):\n",
        "  sum_num_one = 0\n",
        "  sum_num_two = 0\n",
        "\n",
        "  for x in range(1, num_1):\n",
        "    if num_1 % x == 0:\n",
        "      sum_num_one += x\n",
        "\n",
        "  for i in range(1, num_2):\n",
        "    if num_2 % i == 0:\n",
        "      sum_num_two += i\n",
        "\n",
        "  if sum_num_one == num_2 and sum_num_two == num_1:\n",
        "    print(f\"The number {num_1} and {num_2} are amicable numbers.\")\n",
        "  else:\n",
        "    print(f\"The number {num_1} and {num_2} are NOT amicable numbers.\")\n",
        "\n",
        "\n",
        "num_one = int(input('first Number?' ))\n",
        "num_two = int(input('Second Number? '))\n",
        "amicable_numbers(num_one, num_two)\n"
      ],
      "metadata": {
        "colab": {
          "base_uri": "https://localhost:8080/"
        },
        "id": "czvSmR3nlMcx",
        "outputId": "5b1ba6fc-92b0-41bd-abda-26b192d2605e"
      },
      "execution_count": 38,
      "outputs": [
        {
          "output_type": "stream",
          "name": "stdout",
          "text": [
            "first Number?220\n",
            "Second Number? 284\n",
            "The number 220 and 284 are amicable numbers.\n"
          ]
        }
      ]
    }
  ]
}