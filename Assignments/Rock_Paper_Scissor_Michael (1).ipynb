{
  "nbformat": 4,
  "nbformat_minor": 0,
  "metadata": {
    "colab": {
      "provenance": []
    },
    "kernelspec": {
      "name": "python3",
      "display_name": "Python 3"
    },
    "language_info": {
      "name": "python"
    }
  },
  "cells": [
    {
      "cell_type": "code",
      "execution_count": 3,
      "metadata": {
        "colab": {
          "base_uri": "https://localhost:8080/"
        },
        "id": "Or8mkvndWORq",
        "outputId": "d3716619-e6a7-467f-942c-0ec481351a8d"
      },
      "outputs": [
        {
          "name": "stdout",
          "output_type": "stream",
          "text": [
            "select from Rock, Paper and Sissir.  rock\n",
            "The computer selects paper\n",
            "The Computer won\n",
            "select from Rock, Paper and Sissir.  rock\n",
            "The computer selects sissir\n",
            "Congrats you won the game\n",
            "Do you want to play agine? Write y for Yes n for Non\n"
          ]
        }
      ],
      "source": [
        "# Rock smashes scissirs\n",
        "# Paper cover  rock\n",
        "# Sissirs cut paper\n",
        "\n",
        "\n",
        "import random\n",
        "\n",
        "def game(user, com):\n",
        "  if user == 'rock':\n",
        "    if com == 'sissir':\n",
        "      return 'You won'\n",
        "    elif com == 'paper':\n",
        "      return 'computer won'\n",
        "    else:\n",
        "      return 'the game is tie'\n",
        "\n",
        "  elif user == 'paper':\n",
        "    if com == 'rock':\n",
        "      return 'You won'\n",
        "    elif com == 'sissir':\n",
        "      return 'computer won'\n",
        "    else:\n",
        "      return 'the game is tie'\n",
        "\n",
        "  elif user == 'sissir':\n",
        "    if com == 'saper':\n",
        "      return 'You won'\n",
        "    elif com == 'sock':\n",
        "      return 'computer won'\n",
        "    else:\n",
        "      return 'the game is tie'\n",
        "\n",
        "def check_result(result):\n",
        "    if result == 'You won':\n",
        "        return False\n",
        "\n",
        "    elif result == 'the game is tie':\n",
        "        print('The game is tie')\n",
        "\n",
        "    elif result == 'computer won':\n",
        "        print('The Computer won')\n",
        "\n",
        "\n",
        "def coun_game():\n",
        "    game_play = True\n",
        "    while game_play:\n",
        "        possible_action = ['rock', 'paper', 'sissir']\n",
        "        user_input = input('select from Rock, Paper and Sissir.  ')\n",
        "        com = random.choice(possible_action)\n",
        "\n",
        "        print(f\"The computer selects {com}\")\n",
        "        result = game(user_input, com)\n",
        "        if check_result(result) == False:\n",
        "            game_play = False\n",
        "\n",
        "    print('Congrats you won the game')\n",
        "    if input('Do you want to play agine? Write y for Yes n for No') == 'y':\n",
        "        coun_game()\n",
        "    else:\n",
        "        exit()\n",
        "coun_game()\n",
        "\n",
        "\n",
        ""
      ]
    }
  ]
}